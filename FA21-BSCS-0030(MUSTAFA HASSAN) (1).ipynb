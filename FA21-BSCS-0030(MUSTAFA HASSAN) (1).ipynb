{
  "nbformat": 4,
  "nbformat_minor": 0,
  "metadata": {
    "colab": {
      "provenance": []
    },
    "kernelspec": {
      "name": "python3",
      "display_name": "Python 3"
    },
    "language_info": {
      "name": "python"
    }
  },
  "cells": [
    {
      "cell_type": "markdown",
      "source": [
        "Load the Diabetes Dataset.\n",
        "\n",
        "\n",
        "\n",
        "```\n",
        "from keras.datasets import fashion_mnist\n",
        "\n",
        "fashion_mnist.load_data()\n",
        "\n",
        "```\n",
        "\n"
      ],
      "metadata": {
        "id": "lzZ6ZTFpl1CX"
      }
    },
    {
      "cell_type": "code",
      "execution_count": 2,
      "metadata": {
        "id": "wzJWVHjyljfS",
        "outputId": "d39b3af5-3920-4074-a8d3-e3e0cb439ba6",
        "colab": {
          "base_uri": "https://localhost:8080/"
        }
      },
      "outputs": [
        {
          "output_type": "stream",
          "name": "stdout",
          "text": [
            "Downloading data from https://storage.googleapis.com/tensorflow/tf-keras-datasets/train-labels-idx1-ubyte.gz\n",
            "29515/29515 [==============================] - 0s 0us/step\n",
            "Downloading data from https://storage.googleapis.com/tensorflow/tf-keras-datasets/train-images-idx3-ubyte.gz\n",
            "26421880/26421880 [==============================] - 0s 0us/step\n",
            "Downloading data from https://storage.googleapis.com/tensorflow/tf-keras-datasets/t10k-labels-idx1-ubyte.gz\n",
            "5148/5148 [==============================] - 0s 0us/step\n",
            "Downloading data from https://storage.googleapis.com/tensorflow/tf-keras-datasets/t10k-images-idx3-ubyte.gz\n",
            "4422102/4422102 [==============================] - 0s 0us/step\n"
          ]
        }
      ],
      "source": [
        "from keras.datasets import fashion_mnist\n",
        "\n",
        "(X_train, y_train), (X_test, y_test) = fashion_mnist.load_data()"
      ]
    },
    {
      "cell_type": "markdown",
      "source": [
        "Import Libraries\n",
        "\n",
        "```\n",
        "import pandas as pd\n",
        "import numpy as np\n",
        "from sklearn.model_selection import train_test_split\n",
        "import matplotlib.pyplot as plt\n",
        "from keras.models import Sequential\n",
        "from keras.layers import Dense\n",
        "from keras import optimizers\n",
        "```\n",
        "\n"
      ],
      "metadata": {
        "id": "h1zzVlkIom2K"
      }
    },
    {
      "cell_type": "code",
      "source": [
        "import pandas as pd\n",
        "import numpy as np\n",
        "from sklearn.model_selection import train_test_split\n",
        "import matplotlib.pyplot as plt\n",
        "from keras.models import Sequential\n",
        "from keras.layers import Dense, Flatten\n",
        "from keras.utils import to_categorical\n",
        "from keras import optimizers"
      ],
      "metadata": {
        "id": "eyRzK6sjoxVy"
      },
      "execution_count": 3,
      "outputs": []
    },
    {
      "cell_type": "markdown",
      "source": [
        "Split Dataset"
      ],
      "metadata": {
        "id": "0rPEUUr0oxlO"
      }
    },
    {
      "cell_type": "code",
      "source": [
        "X_train = X_train / 255.0\n",
        "X_test = X_test / 255.0\n",
        "\n",
        "y_train = to_categorical(y_train)\n",
        "y_test = to_categorical(y_test)\n",
        "X_train, X_val, y_train, y_val = train_test_split(X_train, y_train, test_size=0.2, random_state=42)"
      ],
      "metadata": {
        "id": "WfHO6DeQo22M"
      },
      "execution_count": 4,
      "outputs": []
    },
    {
      "cell_type": "markdown",
      "source": [
        "Model creation"
      ],
      "metadata": {
        "id": "gOubACA0o_bw"
      }
    },
    {
      "cell_type": "code",
      "source": [
        "model = Sequential()"
      ],
      "metadata": {
        "id": "neOtdDhYpE2d"
      },
      "execution_count": 5,
      "outputs": []
    },
    {
      "cell_type": "markdown",
      "source": [
        "Layers Addition\n",
        "\n",
        "```\n",
        "No. of epochs = 100\n",
        "Hidden unit = 100\n",
        "batch size = length of training input\n",
        "\n",
        "```\n",
        "\n"
      ],
      "metadata": {
        "id": "lgbBfIG7pFJ9"
      }
    },
    {
      "cell_type": "code",
      "source": [
        "model.add(Flatten(input_shape=(28, 28)))\n",
        "\n",
        "model.add(Dense(100, activation='relu'))\n",
        "\n",
        "model.add(Dense(10, activation='softmax'))"
      ],
      "metadata": {
        "id": "h35z5UCUpG9Y"
      },
      "execution_count": 6,
      "outputs": []
    },
    {
      "cell_type": "markdown",
      "source": [
        "Compilation"
      ],
      "metadata": {
        "id": "Pabyh-i3pjYh"
      }
    },
    {
      "cell_type": "code",
      "source": [
        "model.compile(optimizer='adam', loss='categorical_crossentropy', metrics=['accuracy'])"
      ],
      "metadata": {
        "id": "CMJVRNyCpnhM"
      },
      "execution_count": 7,
      "outputs": []
    },
    {
      "cell_type": "markdown",
      "source": [
        "Fitting the model"
      ],
      "metadata": {
        "id": "5_j8_fWNpqL0"
      }
    },
    {
      "cell_type": "code",
      "source": [
        "history = model.fit(X_train, y_train, epochs=100, batch_size=len(X_train), validation_data=(X_val, y_val), verbose=2)"
      ],
      "metadata": {
        "id": "W6l8C1-Jpqwi",
        "outputId": "8e218e3c-a926-49ba-a98b-a075da7c2f1c",
        "colab": {
          "base_uri": "https://localhost:8080/"
        }
      },
      "execution_count": 8,
      "outputs": [
        {
          "output_type": "stream",
          "name": "stdout",
          "text": [
            "Epoch 1/100\n",
            "1/1 - 3s - loss: 2.6124 - accuracy: 0.0326 - val_loss: 2.2859 - val_accuracy: 0.1204 - 3s/epoch - 3s/step\n",
            "Epoch 2/100\n",
            "1/1 - 1s - loss: 2.2863 - accuracy: 0.1230 - val_loss: 2.0778 - val_accuracy: 0.2716 - 522ms/epoch - 522ms/step\n",
            "Epoch 3/100\n",
            "1/1 - 0s - loss: 2.0788 - accuracy: 0.2757 - val_loss: 1.9211 - val_accuracy: 0.4228 - 487ms/epoch - 487ms/step\n",
            "Epoch 4/100\n",
            "1/1 - 1s - loss: 1.9217 - accuracy: 0.4253 - val_loss: 1.7822 - val_accuracy: 0.4985 - 559ms/epoch - 559ms/step\n",
            "Epoch 5/100\n",
            "1/1 - 0s - loss: 1.7813 - accuracy: 0.5001 - val_loss: 1.6502 - val_accuracy: 0.5443 - 482ms/epoch - 482ms/step\n",
            "Epoch 6/100\n",
            "1/1 - 0s - loss: 1.6470 - accuracy: 0.5477 - val_loss: 1.5310 - val_accuracy: 0.5834 - 460ms/epoch - 460ms/step\n",
            "Epoch 7/100\n",
            "1/1 - 0s - loss: 1.5256 - accuracy: 0.5850 - val_loss: 1.4311 - val_accuracy: 0.6257 - 486ms/epoch - 486ms/step\n",
            "Epoch 8/100\n",
            "1/1 - 0s - loss: 1.4237 - accuracy: 0.6265 - val_loss: 1.3472 - val_accuracy: 0.6384 - 462ms/epoch - 462ms/step\n",
            "Epoch 9/100\n",
            "1/1 - 1s - loss: 1.3381 - accuracy: 0.6394 - val_loss: 1.2727 - val_accuracy: 0.6435 - 531ms/epoch - 531ms/step\n",
            "Epoch 10/100\n",
            "1/1 - 1s - loss: 1.2621 - accuracy: 0.6455 - val_loss: 1.2035 - val_accuracy: 0.6485 - 546ms/epoch - 546ms/step\n",
            "Epoch 11/100\n",
            "1/1 - 1s - loss: 1.1920 - accuracy: 0.6524 - val_loss: 1.1397 - val_accuracy: 0.6540 - 511ms/epoch - 511ms/step\n",
            "Epoch 12/100\n",
            "1/1 - 1s - loss: 1.1279 - accuracy: 0.6592 - val_loss: 1.0841 - val_accuracy: 0.6597 - 590ms/epoch - 590ms/step\n",
            "Epoch 13/100\n",
            "1/1 - 1s - loss: 1.0723 - accuracy: 0.6648 - val_loss: 1.0371 - val_accuracy: 0.6662 - 833ms/epoch - 833ms/step\n",
            "Epoch 14/100\n",
            "1/1 - 1s - loss: 1.0252 - accuracy: 0.6682 - val_loss: 0.9958 - val_accuracy: 0.6739 - 827ms/epoch - 827ms/step\n",
            "Epoch 15/100\n",
            "1/1 - 1s - loss: 0.9836 - accuracy: 0.6750 - val_loss: 0.9582 - val_accuracy: 0.6829 - 781ms/epoch - 781ms/step\n",
            "Epoch 16/100\n",
            "1/1 - 1s - loss: 0.9455 - accuracy: 0.6839 - val_loss: 0.9257 - val_accuracy: 0.6890 - 805ms/epoch - 805ms/step\n",
            "Epoch 17/100\n",
            "1/1 - 1s - loss: 0.9125 - accuracy: 0.6916 - val_loss: 0.8986 - val_accuracy: 0.6942 - 733ms/epoch - 733ms/step\n",
            "Epoch 18/100\n",
            "1/1 - 1s - loss: 0.8849 - accuracy: 0.6987 - val_loss: 0.8753 - val_accuracy: 0.6981 - 579ms/epoch - 579ms/step\n",
            "Epoch 19/100\n",
            "1/1 - 1s - loss: 0.8609 - accuracy: 0.7047 - val_loss: 0.8546 - val_accuracy: 0.7037 - 534ms/epoch - 534ms/step\n",
            "Epoch 20/100\n",
            "1/1 - 1s - loss: 0.8398 - accuracy: 0.7107 - val_loss: 0.8354 - val_accuracy: 0.7106 - 568ms/epoch - 568ms/step\n",
            "Epoch 21/100\n",
            "1/1 - 1s - loss: 0.8203 - accuracy: 0.7186 - val_loss: 0.8176 - val_accuracy: 0.7188 - 546ms/epoch - 546ms/step\n",
            "Epoch 22/100\n",
            "1/1 - 1s - loss: 0.8024 - accuracy: 0.7265 - val_loss: 0.8015 - val_accuracy: 0.7274 - 604ms/epoch - 604ms/step\n",
            "Epoch 23/100\n",
            "1/1 - 1s - loss: 0.7862 - accuracy: 0.7332 - val_loss: 0.7867 - val_accuracy: 0.7312 - 575ms/epoch - 575ms/step\n",
            "Epoch 24/100\n",
            "1/1 - 0s - loss: 0.7714 - accuracy: 0.7385 - val_loss: 0.7725 - val_accuracy: 0.7367 - 468ms/epoch - 468ms/step\n",
            "Epoch 25/100\n",
            "1/1 - 0s - loss: 0.7573 - accuracy: 0.7416 - val_loss: 0.7593 - val_accuracy: 0.7391 - 479ms/epoch - 479ms/step\n",
            "Epoch 26/100\n",
            "1/1 - 0s - loss: 0.7442 - accuracy: 0.7443 - val_loss: 0.7475 - val_accuracy: 0.7411 - 476ms/epoch - 476ms/step\n",
            "Epoch 27/100\n",
            "1/1 - 0s - loss: 0.7324 - accuracy: 0.7484 - val_loss: 0.7361 - val_accuracy: 0.7469 - 493ms/epoch - 493ms/step\n",
            "Epoch 28/100\n",
            "1/1 - 1s - loss: 0.7207 - accuracy: 0.7532 - val_loss: 0.7253 - val_accuracy: 0.7528 - 559ms/epoch - 559ms/step\n",
            "Epoch 29/100\n",
            "1/1 - 0s - loss: 0.7096 - accuracy: 0.7590 - val_loss: 0.7155 - val_accuracy: 0.7567 - 497ms/epoch - 497ms/step\n",
            "Epoch 30/100\n",
            "1/1 - 0s - loss: 0.6996 - accuracy: 0.7636 - val_loss: 0.7061 - val_accuracy: 0.7624 - 474ms/epoch - 474ms/step\n",
            "Epoch 31/100\n",
            "1/1 - 0s - loss: 0.6902 - accuracy: 0.7679 - val_loss: 0.6970 - val_accuracy: 0.7663 - 483ms/epoch - 483ms/step\n",
            "Epoch 32/100\n",
            "1/1 - 0s - loss: 0.6811 - accuracy: 0.7717 - val_loss: 0.6886 - val_accuracy: 0.7693 - 492ms/epoch - 492ms/step\n",
            "Epoch 33/100\n",
            "1/1 - 0s - loss: 0.6729 - accuracy: 0.7751 - val_loss: 0.6806 - val_accuracy: 0.7717 - 490ms/epoch - 490ms/step\n",
            "Epoch 34/100\n",
            "1/1 - 0s - loss: 0.6650 - accuracy: 0.7782 - val_loss: 0.6728 - val_accuracy: 0.7758 - 481ms/epoch - 481ms/step\n",
            "Epoch 35/100\n",
            "1/1 - 1s - loss: 0.6571 - accuracy: 0.7819 - val_loss: 0.6655 - val_accuracy: 0.7779 - 580ms/epoch - 580ms/step\n",
            "Epoch 36/100\n",
            "1/1 - 1s - loss: 0.6497 - accuracy: 0.7849 - val_loss: 0.6586 - val_accuracy: 0.7809 - 735ms/epoch - 735ms/step\n",
            "Epoch 37/100\n",
            "1/1 - 1s - loss: 0.6427 - accuracy: 0.7874 - val_loss: 0.6519 - val_accuracy: 0.7822 - 860ms/epoch - 860ms/step\n",
            "Epoch 38/100\n",
            "1/1 - 1s - loss: 0.6359 - accuracy: 0.7895 - val_loss: 0.6457 - val_accuracy: 0.7851 - 836ms/epoch - 836ms/step\n",
            "Epoch 39/100\n",
            "1/1 - 1s - loss: 0.6296 - accuracy: 0.7915 - val_loss: 0.6397 - val_accuracy: 0.7875 - 860ms/epoch - 860ms/step\n",
            "Epoch 40/100\n",
            "1/1 - 1s - loss: 0.6235 - accuracy: 0.7944 - val_loss: 0.6339 - val_accuracy: 0.7889 - 782ms/epoch - 782ms/step\n",
            "Epoch 41/100\n",
            "1/1 - 1s - loss: 0.6176 - accuracy: 0.7968 - val_loss: 0.6283 - val_accuracy: 0.7917 - 592ms/epoch - 592ms/step\n",
            "Epoch 42/100\n",
            "1/1 - 1s - loss: 0.6120 - accuracy: 0.7992 - val_loss: 0.6229 - val_accuracy: 0.7947 - 572ms/epoch - 572ms/step\n",
            "Epoch 43/100\n",
            "1/1 - 1s - loss: 0.6066 - accuracy: 0.8009 - val_loss: 0.6177 - val_accuracy: 0.7968 - 654ms/epoch - 654ms/step\n",
            "Epoch 44/100\n",
            "1/1 - 1s - loss: 0.6015 - accuracy: 0.8026 - val_loss: 0.6126 - val_accuracy: 0.7983 - 591ms/epoch - 591ms/step\n",
            "Epoch 45/100\n",
            "1/1 - 1s - loss: 0.5966 - accuracy: 0.8044 - val_loss: 0.6078 - val_accuracy: 0.8004 - 603ms/epoch - 603ms/step\n",
            "Epoch 46/100\n",
            "1/1 - 1s - loss: 0.5918 - accuracy: 0.8064 - val_loss: 0.6032 - val_accuracy: 0.8023 - 606ms/epoch - 606ms/step\n",
            "Epoch 47/100\n",
            "1/1 - 0s - loss: 0.5871 - accuracy: 0.8077 - val_loss: 0.5988 - val_accuracy: 0.8048 - 474ms/epoch - 474ms/step\n",
            "Epoch 48/100\n",
            "1/1 - 1s - loss: 0.5827 - accuracy: 0.8088 - val_loss: 0.5945 - val_accuracy: 0.8063 - 555ms/epoch - 555ms/step\n",
            "Epoch 49/100\n",
            "1/1 - 0s - loss: 0.5784 - accuracy: 0.8102 - val_loss: 0.5903 - val_accuracy: 0.8073 - 457ms/epoch - 457ms/step\n",
            "Epoch 50/100\n",
            "1/1 - 0s - loss: 0.5741 - accuracy: 0.8116 - val_loss: 0.5862 - val_accuracy: 0.8082 - 475ms/epoch - 475ms/step\n",
            "Epoch 51/100\n",
            "1/1 - 0s - loss: 0.5700 - accuracy: 0.8126 - val_loss: 0.5822 - val_accuracy: 0.8091 - 483ms/epoch - 483ms/step\n",
            "Epoch 52/100\n",
            "1/1 - 1s - loss: 0.5660 - accuracy: 0.8137 - val_loss: 0.5782 - val_accuracy: 0.8103 - 561ms/epoch - 561ms/step\n",
            "Epoch 53/100\n",
            "1/1 - 0s - loss: 0.5622 - accuracy: 0.8152 - val_loss: 0.5744 - val_accuracy: 0.8113 - 459ms/epoch - 459ms/step\n",
            "Epoch 54/100\n",
            "1/1 - 1s - loss: 0.5585 - accuracy: 0.8161 - val_loss: 0.5708 - val_accuracy: 0.8121 - 551ms/epoch - 551ms/step\n",
            "Epoch 55/100\n",
            "1/1 - 1s - loss: 0.5549 - accuracy: 0.8172 - val_loss: 0.5672 - val_accuracy: 0.8133 - 589ms/epoch - 589ms/step\n",
            "Epoch 56/100\n",
            "1/1 - 1s - loss: 0.5514 - accuracy: 0.8182 - val_loss: 0.5637 - val_accuracy: 0.8140 - 620ms/epoch - 620ms/step\n",
            "Epoch 57/100\n",
            "1/1 - 1s - loss: 0.5480 - accuracy: 0.8193 - val_loss: 0.5603 - val_accuracy: 0.8148 - 545ms/epoch - 545ms/step\n",
            "Epoch 58/100\n",
            "1/1 - 1s - loss: 0.5447 - accuracy: 0.8202 - val_loss: 0.5571 - val_accuracy: 0.8148 - 500ms/epoch - 500ms/step\n",
            "Epoch 59/100\n",
            "1/1 - 1s - loss: 0.5415 - accuracy: 0.8207 - val_loss: 0.5540 - val_accuracy: 0.8161 - 783ms/epoch - 783ms/step\n",
            "Epoch 60/100\n",
            "1/1 - 1s - loss: 0.5384 - accuracy: 0.8216 - val_loss: 0.5510 - val_accuracy: 0.8176 - 818ms/epoch - 818ms/step\n",
            "Epoch 61/100\n",
            "1/1 - 1s - loss: 0.5354 - accuracy: 0.8223 - val_loss: 0.5480 - val_accuracy: 0.8185 - 791ms/epoch - 791ms/step\n",
            "Epoch 62/100\n",
            "1/1 - 1s - loss: 0.5325 - accuracy: 0.8230 - val_loss: 0.5451 - val_accuracy: 0.8198 - 817ms/epoch - 817ms/step\n",
            "Epoch 63/100\n",
            "1/1 - 1s - loss: 0.5296 - accuracy: 0.8240 - val_loss: 0.5423 - val_accuracy: 0.8201 - 593ms/epoch - 593ms/step\n",
            "Epoch 64/100\n",
            "1/1 - 0s - loss: 0.5268 - accuracy: 0.8247 - val_loss: 0.5396 - val_accuracy: 0.8213 - 469ms/epoch - 469ms/step\n",
            "Epoch 65/100\n",
            "1/1 - 0s - loss: 0.5241 - accuracy: 0.8254 - val_loss: 0.5369 - val_accuracy: 0.8227 - 457ms/epoch - 457ms/step\n",
            "Epoch 66/100\n",
            "1/1 - 0s - loss: 0.5215 - accuracy: 0.8259 - val_loss: 0.5343 - val_accuracy: 0.8239 - 457ms/epoch - 457ms/step\n",
            "Epoch 67/100\n",
            "1/1 - 0s - loss: 0.5189 - accuracy: 0.8269 - val_loss: 0.5317 - val_accuracy: 0.8246 - 467ms/epoch - 467ms/step\n",
            "Epoch 68/100\n",
            "1/1 - 0s - loss: 0.5164 - accuracy: 0.8276 - val_loss: 0.5293 - val_accuracy: 0.8256 - 467ms/epoch - 467ms/step\n",
            "Epoch 69/100\n",
            "1/1 - 0s - loss: 0.5140 - accuracy: 0.8286 - val_loss: 0.5270 - val_accuracy: 0.8264 - 455ms/epoch - 455ms/step\n",
            "Epoch 70/100\n",
            "1/1 - 0s - loss: 0.5116 - accuracy: 0.8293 - val_loss: 0.5247 - val_accuracy: 0.8271 - 463ms/epoch - 463ms/step\n",
            "Epoch 71/100\n",
            "1/1 - 1s - loss: 0.5093 - accuracy: 0.8304 - val_loss: 0.5224 - val_accuracy: 0.8285 - 538ms/epoch - 538ms/step\n",
            "Epoch 72/100\n",
            "1/1 - 0s - loss: 0.5070 - accuracy: 0.8310 - val_loss: 0.5202 - val_accuracy: 0.8294 - 468ms/epoch - 468ms/step\n",
            "Epoch 73/100\n",
            "1/1 - 0s - loss: 0.5048 - accuracy: 0.8318 - val_loss: 0.5181 - val_accuracy: 0.8298 - 455ms/epoch - 455ms/step\n",
            "Epoch 74/100\n",
            "1/1 - 0s - loss: 0.5026 - accuracy: 0.8323 - val_loss: 0.5160 - val_accuracy: 0.8300 - 467ms/epoch - 467ms/step\n",
            "Epoch 75/100\n",
            "1/1 - 0s - loss: 0.5005 - accuracy: 0.8329 - val_loss: 0.5138 - val_accuracy: 0.8302 - 465ms/epoch - 465ms/step\n",
            "Epoch 76/100\n",
            "1/1 - 0s - loss: 0.4984 - accuracy: 0.8333 - val_loss: 0.5118 - val_accuracy: 0.8307 - 464ms/epoch - 464ms/step\n",
            "Epoch 77/100\n",
            "1/1 - 0s - loss: 0.4964 - accuracy: 0.8337 - val_loss: 0.5098 - val_accuracy: 0.8318 - 471ms/epoch - 471ms/step\n",
            "Epoch 78/100\n",
            "1/1 - 1s - loss: 0.4944 - accuracy: 0.8345 - val_loss: 0.5078 - val_accuracy: 0.8324 - 541ms/epoch - 541ms/step\n",
            "Epoch 79/100\n",
            "1/1 - 1s - loss: 0.4924 - accuracy: 0.8353 - val_loss: 0.5059 - val_accuracy: 0.8326 - 567ms/epoch - 567ms/step\n",
            "Epoch 80/100\n",
            "1/1 - 0s - loss: 0.4905 - accuracy: 0.8362 - val_loss: 0.5040 - val_accuracy: 0.8332 - 473ms/epoch - 473ms/step\n",
            "Epoch 81/100\n",
            "1/1 - 0s - loss: 0.4886 - accuracy: 0.8368 - val_loss: 0.5022 - val_accuracy: 0.8338 - 483ms/epoch - 483ms/step\n",
            "Epoch 82/100\n",
            "1/1 - 0s - loss: 0.4868 - accuracy: 0.8375 - val_loss: 0.5004 - val_accuracy: 0.8340 - 473ms/epoch - 473ms/step\n",
            "Epoch 83/100\n",
            "1/1 - 0s - loss: 0.4850 - accuracy: 0.8382 - val_loss: 0.4986 - val_accuracy: 0.8340 - 466ms/epoch - 466ms/step\n",
            "Epoch 84/100\n",
            "1/1 - 1s - loss: 0.4832 - accuracy: 0.8386 - val_loss: 0.4969 - val_accuracy: 0.8343 - 711ms/epoch - 711ms/step\n",
            "Epoch 85/100\n",
            "1/1 - 1s - loss: 0.4815 - accuracy: 0.8392 - val_loss: 0.4952 - val_accuracy: 0.8350 - 791ms/epoch - 791ms/step\n",
            "Epoch 86/100\n",
            "1/1 - 1s - loss: 0.4797 - accuracy: 0.8399 - val_loss: 0.4935 - val_accuracy: 0.8355 - 835ms/epoch - 835ms/step\n",
            "Epoch 87/100\n",
            "1/1 - 1s - loss: 0.4781 - accuracy: 0.8404 - val_loss: 0.4919 - val_accuracy: 0.8361 - 822ms/epoch - 822ms/step\n",
            "Epoch 88/100\n",
            "1/1 - 1s - loss: 0.4764 - accuracy: 0.8406 - val_loss: 0.4903 - val_accuracy: 0.8367 - 653ms/epoch - 653ms/step\n",
            "Epoch 89/100\n",
            "1/1 - 0s - loss: 0.4748 - accuracy: 0.8412 - val_loss: 0.4887 - val_accuracy: 0.8370 - 481ms/epoch - 481ms/step\n",
            "Epoch 90/100\n",
            "1/1 - 0s - loss: 0.4732 - accuracy: 0.8416 - val_loss: 0.4871 - val_accuracy: 0.8372 - 463ms/epoch - 463ms/step\n",
            "Epoch 91/100\n",
            "1/1 - 0s - loss: 0.4716 - accuracy: 0.8422 - val_loss: 0.4856 - val_accuracy: 0.8382 - 480ms/epoch - 480ms/step\n",
            "Epoch 92/100\n",
            "1/1 - 0s - loss: 0.4701 - accuracy: 0.8429 - val_loss: 0.4841 - val_accuracy: 0.8384 - 487ms/epoch - 487ms/step\n",
            "Epoch 93/100\n",
            "1/1 - 1s - loss: 0.4686 - accuracy: 0.8432 - val_loss: 0.4826 - val_accuracy: 0.8393 - 515ms/epoch - 515ms/step\n",
            "Epoch 94/100\n",
            "1/1 - 1s - loss: 0.4671 - accuracy: 0.8439 - val_loss: 0.4811 - val_accuracy: 0.8395 - 807ms/epoch - 807ms/step\n",
            "Epoch 95/100\n",
            "1/1 - 1s - loss: 0.4656 - accuracy: 0.8446 - val_loss: 0.4797 - val_accuracy: 0.8396 - 805ms/epoch - 805ms/step\n",
            "Epoch 96/100\n",
            "1/1 - 1s - loss: 0.4641 - accuracy: 0.8450 - val_loss: 0.4783 - val_accuracy: 0.8399 - 765ms/epoch - 765ms/step\n",
            "Epoch 97/100\n",
            "1/1 - 1s - loss: 0.4627 - accuracy: 0.8453 - val_loss: 0.4769 - val_accuracy: 0.8401 - 757ms/epoch - 757ms/step\n",
            "Epoch 98/100\n",
            "1/1 - 0s - loss: 0.4613 - accuracy: 0.8459 - val_loss: 0.4755 - val_accuracy: 0.8403 - 377ms/epoch - 377ms/step\n",
            "Epoch 99/100\n",
            "1/1 - 0s - loss: 0.4599 - accuracy: 0.8461 - val_loss: 0.4742 - val_accuracy: 0.8406 - 398ms/epoch - 398ms/step\n",
            "Epoch 100/100\n",
            "1/1 - 0s - loss: 0.4585 - accuracy: 0.8462 - val_loss: 0.4728 - val_accuracy: 0.8407 - 397ms/epoch - 397ms/step\n"
          ]
        }
      ]
    },
    {
      "cell_type": "markdown",
      "source": [
        "Draw the Training and validation loss"
      ],
      "metadata": {
        "id": "Uzq5Kuc8p3Yj"
      }
    },
    {
      "cell_type": "code",
      "source": [
        "plt.plot(history.history['loss'], label='Training loss')\n",
        "plt.plot(history.history['val_loss'], label='Validation loss')\n",
        "plt.xlabel('Epoch')\n",
        "plt.ylabel('Loss')\n",
        "plt.legend()\n",
        "plt.title('Training and Validation Loss')\n",
        "plt.show()"
      ],
      "metadata": {
        "id": "d34in2Jcp7PT",
        "outputId": "d346de84-7a49-4d1d-d969-76a9771a5d1d",
        "colab": {
          "base_uri": "https://localhost:8080/",
          "height": 472
        }
      },
      "execution_count": 9,
      "outputs": [
        {
          "output_type": "display_data",
          "data": {
            "text/plain": [
              "<Figure size 640x480 with 1 Axes>"
            ],
            "image/png": "[encoded data removed]"
          },
          "metadata": {}
        }
      ]
    },
    {
      "cell_type": "code",
      "source": [],
      "metadata": {
        "id": "sVKC0eesifzE"
      },
      "execution_count": null,
      "outputs": []
    }
  ]
}