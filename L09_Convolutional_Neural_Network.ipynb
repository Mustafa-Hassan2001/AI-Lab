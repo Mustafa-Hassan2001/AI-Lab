{
  "nbformat": 4,
  "nbformat_minor": 0,
  "metadata": {
    "colab": {
      "provenance": []
    },
    "kernelspec": {
      "name": "python3",
      "display_name": "Python 3"
    },
    "language_info": {
      "name": "python"
    }
  },
  "cells": [
    {
      "cell_type": "code",
      "execution_count": 1,
      "metadata": {
        "id": "whHDcwtyL6jr"
      },
      "outputs": [],
      "source": [
        "import torch"
      ]
    },
    {
      "cell_type": "code",
      "source": [
        "# Device configuration\n",
        "device = torch.device('cuda' if torch.cuda.is_available() else 'cpu')  # Will look for the available gpu otherwise select cpu processing\n",
        "device"
      ],
      "metadata": {
        "colab": {
          "base_uri": "https://localhost:8080/"
        },
        "id": "AvNFjKToMNZD",
        "outputId": "a484e0e9-d765-483a-a533-61018cd74ddf"
      },
      "execution_count": 2,
      "outputs": [
        {
          "output_type": "execute_result",
          "data": {
            "text/plain": [
              "device(type='cpu')"
            ]
          },
          "metadata": {},
          "execution_count": 2
        }
      ]
    },
    {
      "cell_type": "code",
      "source": [
        "from torchvision import datasets\n",
        "from torchvision.transforms import ToTensor   # [0,255] -> [0.0,1.0]\n",
        "\n",
        "\n",
        "train_data = datasets.MNIST(\n",
        "    root = 'data',\n",
        "    train = True,\n",
        "    transform = ToTensor(),\n",
        "    download = True,\n",
        ")\n",
        "test_data = datasets.MNIST(\n",
        "    root = 'data',\n",
        "    train = False,\n",
        "    transform = ToTensor()\n",
        ")"
      ],
      "metadata": {
        "colab": {
          "base_uri": "https://localhost:8080/"
        },
        "id": "0yoY8MQiMRJm",
        "outputId": "7fb758ec-01bf-4da2-b7d4-746bb20274f2"
      },
      "execution_count": 3,
      "outputs": [
        {
          "output_type": "stream",
          "name": "stdout",
          "text": [
            "Downloading http://yann.lecun.com/exdb/mnist/train-images-idx3-ubyte.gz\n",
            "Failed to download (trying next):\n",
            "HTTP Error 403: Forbidden\n",
            "\n",
            "Downloading https://ossci-datasets.s3.amazonaws.com/mnist/train-images-idx3-ubyte.gz\n",
            "Downloading https://ossci-datasets.s3.amazonaws.com/mnist/train-images-idx3-ubyte.gz to data/MNIST/raw/train-images-idx3-ubyte.gz\n"
          ]
        },
        {
          "output_type": "stream",
          "name": "stderr",
          "text": [
            "100%|██████████| 9912422/9912422 [00:00<00:00, 37095899.17it/s]\n"
          ]
        },
        {
          "output_type": "stream",
          "name": "stdout",
          "text": [
            "Extracting data/MNIST/raw/train-images-idx3-ubyte.gz to data/MNIST/raw\n",
            "\n",
            "Downloading http://yann.lecun.com/exdb/mnist/train-labels-idx1-ubyte.gz\n",
            "Failed to download (trying next):\n",
            "HTTP Error 403: Forbidden\n",
            "\n",
            "Downloading https://ossci-datasets.s3.amazonaws.com/mnist/train-labels-idx1-ubyte.gz\n",
            "Downloading https://ossci-datasets.s3.amazonaws.com/mnist/train-labels-idx1-ubyte.gz to data/MNIST/raw/train-labels-idx1-ubyte.gz\n"
          ]
        },
        {
          "output_type": "stream",
          "name": "stderr",
          "text": [
            "100%|██████████| 28881/28881 [00:00<00:00, 1251001.17it/s]\n"
          ]
        },
        {
          "output_type": "stream",
          "name": "stdout",
          "text": [
            "Extracting data/MNIST/raw/train-labels-idx1-ubyte.gz to data/MNIST/raw\n",
            "\n",
            "Downloading http://yann.lecun.com/exdb/mnist/t10k-images-idx3-ubyte.gz\n",
            "Failed to download (trying next):\n",
            "HTTP Error 403: Forbidden\n",
            "\n",
            "Downloading https://ossci-datasets.s3.amazonaws.com/mnist/t10k-images-idx3-ubyte.gz\n",
            "Downloading https://ossci-datasets.s3.amazonaws.com/mnist/t10k-images-idx3-ubyte.gz to data/MNIST/raw/t10k-images-idx3-ubyte.gz\n"
          ]
        },
        {
          "output_type": "stream",
          "name": "stderr",
          "text": [
            "100%|██████████| 1648877/1648877 [00:00<00:00, 8092955.06it/s]\n"
          ]
        },
        {
          "output_type": "stream",
          "name": "stdout",
          "text": [
            "Extracting data/MNIST/raw/t10k-images-idx3-ubyte.gz to data/MNIST/raw\n",
            "\n",
            "Downloading http://yann.lecun.com/exdb/mnist/t10k-labels-idx1-ubyte.gz\n",
            "Failed to download (trying next):\n",
            "HTTP Error 403: Forbidden\n",
            "\n",
            "Downloading https://ossci-datasets.s3.amazonaws.com/mnist/t10k-labels-idx1-ubyte.gz\n",
            "Downloading https://ossci-datasets.s3.amazonaws.com/mnist/t10k-labels-idx1-ubyte.gz to data/MNIST/raw/t10k-labels-idx1-ubyte.gz\n"
          ]
        },
        {
          "output_type": "stream",
          "name": "stderr",
          "text": [
            "100%|██████████| 4542/4542 [00:00<00:00, 5741569.85it/s]"
          ]
        },
        {
          "output_type": "stream",
          "name": "stdout",
          "text": [
            "Extracting data/MNIST/raw/t10k-labels-idx1-ubyte.gz to data/MNIST/raw\n",
            "\n"
          ]
        },
        {
          "output_type": "stream",
          "name": "stderr",
          "text": [
            "\n"
          ]
        }
      ]
    },
    {
      "cell_type": "code",
      "source": [
        "train_data"
      ],
      "metadata": {
        "colab": {
          "base_uri": "https://localhost:8080/"
        },
        "id": "BZhQx9xaMqq3",
        "outputId": "4ca3efc1-e211-4852-c430-ea929b7b802a"
      },
      "execution_count": 4,
      "outputs": [
        {
          "output_type": "execute_result",
          "data": {
            "text/plain": [
              "Dataset MNIST\n",
              "    Number of datapoints: 60000\n",
              "    Root location: data\n",
              "    Split: Train\n",
              "    StandardTransform\n",
              "Transform: ToTensor()"
            ]
          },
          "metadata": {},
          "execution_count": 4
        }
      ]
    },
    {
      "cell_type": "code",
      "source": [
        "test_data"
      ],
      "metadata": {
        "colab": {
          "base_uri": "https://localhost:8080/"
        },
        "id": "KuxLg8CAMxki",
        "outputId": "a686e458-5c94-448d-bb50-0bd1807a2588"
      },
      "execution_count": 5,
      "outputs": [
        {
          "output_type": "execute_result",
          "data": {
            "text/plain": [
              "Dataset MNIST\n",
              "    Number of datapoints: 10000\n",
              "    Root location: data\n",
              "    Split: Test\n",
              "    StandardTransform\n",
              "Transform: ToTensor()"
            ]
          },
          "metadata": {},
          "execution_count": 5
        }
      ]
    },
    {
      "cell_type": "code",
      "source": [
        "print(train_data.data.size())"
      ],
      "metadata": {
        "colab": {
          "base_uri": "https://localhost:8080/"
        },
        "id": "Qz0RgfXtNIwI",
        "outputId": "75ea6baf-0f30-4ff6-cf0e-080f9e15203b"
      },
      "execution_count": 6,
      "outputs": [
        {
          "output_type": "stream",
          "name": "stdout",
          "text": [
            "torch.Size([60000, 28, 28])\n"
          ]
        }
      ]
    },
    {
      "cell_type": "code",
      "source": [
        "print(train_data.targets.size())"
      ],
      "metadata": {
        "colab": {
          "base_uri": "https://localhost:8080/"
        },
        "id": "RVTTy-CGNOm3",
        "outputId": "65ff2fcb-a0cf-4bb7-b361-9553ae325e1f"
      },
      "execution_count": 7,
      "outputs": [
        {
          "output_type": "stream",
          "name": "stdout",
          "text": [
            "torch.Size([60000])\n"
          ]
        }
      ]
    },
    {
      "cell_type": "code",
      "source": [
        "test_data.data.size()"
      ],
      "metadata": {
        "colab": {
          "base_uri": "https://localhost:8080/"
        },
        "id": "K326z1C5NQqz",
        "outputId": "4c52c76d-b503-4d5c-bce1-ceb2154a2438"
      },
      "execution_count": 8,
      "outputs": [
        {
          "output_type": "execute_result",
          "data": {
            "text/plain": [
              "torch.Size([10000, 28, 28])"
            ]
          },
          "metadata": {},
          "execution_count": 8
        }
      ]
    },
    {
      "cell_type": "code",
      "source": [
        "test_data.targets.size()"
      ],
      "metadata": {
        "colab": {
          "base_uri": "https://localhost:8080/"
        },
        "id": "mJE_gBHUNV1O",
        "outputId": "7420fceb-6014-48e9-e6bc-52e285c13dda"
      },
      "execution_count": 9,
      "outputs": [
        {
          "output_type": "execute_result",
          "data": {
            "text/plain": [
              "torch.Size([10000])"
            ]
          },
          "metadata": {},
          "execution_count": 9
        }
      ]
    },
    {
      "cell_type": "code",
      "source": [
        "import matplotlib.pyplot as plt\n",
        "plt.imshow(train_data.data[15], cmap='gray')\n",
        "plt.title('%i' % train_data.targets[15])\n",
        "plt.show()"
      ],
      "metadata": {
        "colab": {
          "base_uri": "https://localhost:8080/",
          "height": 452
        },
        "id": "7UztQmJlNaKp",
        "outputId": "1c2fbf07-010c-4af3-ee59-fed297cf59fd"
      },
      "execution_count": 10,
      "outputs": [
        {
          "output_type": "display_data",
          "data": {
            "text/plain": [
              "<Figure size 640x480 with 1 Axes>"
            ],
            "image/png": "[encoded data removed]"
          },
          "metadata": {}
        }
      ]
    },
    {
      "cell_type": "code",
      "source": [
        "figure = plt.figure(figsize=(10, 8))\n",
        "cols, rows = 5, 5\n",
        "for i in range(1, cols * rows + 1):\n",
        "    sample_idx = torch.randint(len(train_data), size=(1,)).item()\n",
        "    img, label = train_data[sample_idx]\n",
        "    figure.add_subplot(rows, cols, i)\n",
        "    plt.title(label)\n",
        "    plt.axis(\"off\")\n",
        "    #convert 3D, into 2D\n",
        "    plt.imshow(img.squeeze(), cmap=\"gray\")\n",
        "plt.show()"
      ],
      "metadata": {
        "colab": {
          "base_uri": "https://localhost:8080/",
          "height": 675
        },
        "id": "Y-ctnR7HNeh9",
        "outputId": "ca9a8e6a-80f6-4b3c-e7be-bdb4c3c5a726"
      },
      "execution_count": 11,
      "outputs": [
        {
          "output_type": "display_data",
          "data": {
            "text/plain": [
              "<Figure size 1000x800 with 25 Axes>"
            ],
            "image/png": "[encoded data removed]"
          },
          "metadata": {}
        }
      ]
    },
    {
      "cell_type": "code",
      "source": [
        "img.squeeze().size()"
      ],
      "metadata": {
        "colab": {
          "base_uri": "https://localhost:8080/"
        },
        "id": "dZJJIalSNqVW",
        "outputId": "2e4e8fbc-562e-4520-ad40-17d9360a0e0e"
      },
      "execution_count": 12,
      "outputs": [
        {
          "output_type": "execute_result",
          "data": {
            "text/plain": [
              "torch.Size([28, 28])"
            ]
          },
          "metadata": {},
          "execution_count": 12
        }
      ]
    },
    {
      "cell_type": "code",
      "source": [
        "img.size()"
      ],
      "metadata": {
        "colab": {
          "base_uri": "https://localhost:8080/"
        },
        "id": "YUP0eJ-nO2bG",
        "outputId": "4cac23ac-6eaa-4332-a0a9-a16e194875d9"
      },
      "execution_count": 13,
      "outputs": [
        {
          "output_type": "execute_result",
          "data": {
            "text/plain": [
              "torch.Size([1, 28, 28])"
            ]
          },
          "metadata": {},
          "execution_count": 13
        }
      ]
    },
    {
      "cell_type": "code",
      "source": [
        "from torch.utils.data import DataLoader\n",
        "loaders = {\n",
        "    'train' : torch.utils.data.DataLoader(train_data,\n",
        "                                          batch_size=100,\n",
        "                                          shuffle=True,\n",
        "                                          num_workers=1),   #num_workers is actually number of threads to process that data\n",
        "\n",
        "    'test'  : torch.utils.data.DataLoader(test_data,\n",
        "                                          batch_size=100,\n",
        "                                          shuffle=True,\n",
        "                                          num_workers=1),\n",
        "}\n",
        "loaders"
      ],
      "metadata": {
        "colab": {
          "base_uri": "https://localhost:8080/"
        },
        "id": "1oFsP2mBPx2s",
        "outputId": "5bccfcd4-53d5-4d50-ac75-fcf32dd67b69"
      },
      "execution_count": 14,
      "outputs": [
        {
          "output_type": "execute_result",
          "data": {
            "text/plain": [
              "{'train': <torch.utils.data.dataloader.DataLoader at 0x7e0434b334f0>,\n",
              " 'test': <torch.utils.data.dataloader.DataLoader at 0x7e0434b332e0>}"
            ]
          },
          "metadata": {},
          "execution_count": 14
        }
      ]
    },
    {
      "cell_type": "code",
      "source": [
        "import torch.nn as nn       #Importing Neural Network\n",
        "class CNN(nn.Module): #Defining CNN class and inheriting it from Neural Network Module Class.\n",
        "    def __init__(self):\n",
        "        super(CNN, self).__init__()  #Calling Parent Constructor\n",
        "        self.conv1 = nn.Sequential(               #First Layer\n",
        "            nn.Conv2d(\n",
        "                in_channels=1,       #in_channel is 1, bcz its gray image, if its coloured image it will be 3(Red, Green, and Blue)\n",
        "                out_channels=16,            #out_channel , outputs produced by the input channel\n",
        "                kernel_size=5,              #Selection of small matrix from the image tensor\n",
        "                stride=1,                   #number of pixel to be passed in the Cnn layer\n",
        "                padding=2,                  #Additional size added to the kernal matrix\n",
        "            ),\n",
        "            nn.ReLU(),\n",
        "            nn.MaxPool2d(kernel_size=2),\n",
        "        )\n",
        "        self.conv2 = nn.Sequential(             #Hidden Layers\n",
        "            nn.Conv2d(16, 32, 5, 1, 2),\n",
        "            nn.ReLU(),\n",
        "            nn.MaxPool2d(2),\n",
        "        )\n",
        "\n",
        "        # fully connected layer, output 10 classes\n",
        "        self.out = nn.Linear(32 * 7 * 7, 10)\n",
        "\n",
        "\n",
        "    def forward(self, x):\n",
        "        x = self.conv1(x)\n",
        "        x = self.conv2(x)\n",
        "        # flatten the output of conv2 to (batch_size, 32 * 7 * 7)\n",
        "        x = x.view(x.size(0), -1)\n",
        "        output = self.out(x)\n",
        "        return output, x"
      ],
      "metadata": {
        "id": "Md2lHtQmP5v5"
      },
      "execution_count": 15,
      "outputs": []
    },
    {
      "cell_type": "code",
      "source": [
        "cnn = CNN()   #calling CNN constructor\n",
        "print(cnn)"
      ],
      "metadata": {
        "colab": {
          "base_uri": "https://localhost:8080/"
        },
        "id": "XWaj8rKiVQTA",
        "outputId": "76690376-7732-4333-f10d-d19827425e20"
      },
      "execution_count": 16,
      "outputs": [
        {
          "output_type": "stream",
          "name": "stdout",
          "text": [
            "CNN(\n",
            "  (conv1): Sequential(\n",
            "    (0): Conv2d(1, 16, kernel_size=(5, 5), stride=(1, 1), padding=(2, 2))\n",
            "    (1): ReLU()\n",
            "    (2): MaxPool2d(kernel_size=2, stride=2, padding=0, dilation=1, ceil_mode=False)\n",
            "  )\n",
            "  (conv2): Sequential(\n",
            "    (0): Conv2d(16, 32, kernel_size=(5, 5), stride=(1, 1), padding=(2, 2))\n",
            "    (1): ReLU()\n",
            "    (2): MaxPool2d(kernel_size=2, stride=2, padding=0, dilation=1, ceil_mode=False)\n",
            "  )\n",
            "  (out): Linear(in_features=1568, out_features=10, bias=True)\n",
            ")\n"
          ]
        }
      ]
    },
    {
      "cell_type": "code",
      "source": [
        "loss_func = nn.CrossEntropyLoss()\n",
        "loss_func"
      ],
      "metadata": {
        "colab": {
          "base_uri": "https://localhost:8080/"
        },
        "id": "u_2b5JdsVTF3",
        "outputId": "d66e6651-c7ba-4313-cf51-fb9c114e2272"
      },
      "execution_count": 17,
      "outputs": [
        {
          "output_type": "execute_result",
          "data": {
            "text/plain": [
              "CrossEntropyLoss()"
            ]
          },
          "metadata": {},
          "execution_count": 17
        }
      ]
    },
    {
      "cell_type": "code",
      "source": [
        "from torch import optim\n",
        "optimizer = optim.Adam(cnn.parameters(), lr = 0.01)\n",
        "optimizer"
      ],
      "metadata": {
        "colab": {
          "base_uri": "https://localhost:8080/"
        },
        "id": "htnBH_49VWHi",
        "outputId": "4934e511-579f-40d3-9794-1c9ad2d21a2a"
      },
      "execution_count": 18,
      "outputs": [
        {
          "output_type": "execute_result",
          "data": {
            "text/plain": [
              "Adam (\n",
              "Parameter Group 0\n",
              "    amsgrad: False\n",
              "    betas: (0.9, 0.999)\n",
              "    capturable: False\n",
              "    differentiable: False\n",
              "    eps: 1e-08\n",
              "    foreach: None\n",
              "    fused: None\n",
              "    lr: 0.01\n",
              "    maximize: False\n",
              "    weight_decay: 0\n",
              ")"
            ]
          },
          "metadata": {},
          "execution_count": 18
        }
      ]
    },
    {
      "cell_type": "code",
      "source": [
        "from torch.autograd import Variable\n",
        "num_epochs = 10\n",
        "def train(num_epochs, cnn, loaders):\n",
        "\n",
        "    cnn.train()  #Training function\n",
        "\n",
        "    # Train the model\n",
        "    total_step = len(loaders['train'])\n",
        "\n",
        "    for epoch in range(num_epochs):\n",
        "        for i, (images, labels) in enumerate(loaders['train']):\n",
        "\n",
        "            # gives batch data, normalize x when iterate train_loader\n",
        "            b_x = Variable(images)   # batch x\n",
        "            b_y = Variable(labels)   # batch y\n",
        "            output = cnn(b_x)[0]      # maybe multiple ouput generated by model picking the first one\n",
        "            loss = loss_func(output, b_y)\n",
        "\n",
        "            # clear gradients for this training step\n",
        "            optimizer.zero_grad()\n",
        "\n",
        "            # backpropagation, compute gradients\n",
        "            loss.backward()\n",
        "            # apply gradients\n",
        "            optimizer.step()\n",
        "\n",
        "            if (i+1) % 100 == 0:\n",
        "                print ('Epoch [{}/{}], Step [{}/{}], Loss: {:.4f}'\n",
        "                       .format(epoch + 1, num_epochs, i + 1, total_step, loss.item()))\n",
        "\n",
        "train(num_epochs, cnn, loaders) #calling function train"
      ],
      "metadata": {
        "id": "pCIpA6r5VsV5",
        "colab": {
          "base_uri": "https://localhost:8080/"
        },
        "outputId": "20b39867-4842-4752-949c-9d72b00981e2"
      },
      "execution_count": 19,
      "outputs": [
        {
          "output_type": "stream",
          "name": "stdout",
          "text": [
            "Epoch [1/10], Step [100/600], Loss: 0.1427\n",
            "Epoch [1/10], Step [200/600], Loss: 0.0256\n",
            "Epoch [1/10], Step [300/600], Loss: 0.0551\n",
            "Epoch [1/10], Step [400/600], Loss: 0.0940\n",
            "Epoch [1/10], Step [500/600], Loss: 0.1029\n",
            "Epoch [1/10], Step [600/600], Loss: 0.0808\n",
            "Epoch [2/10], Step [100/600], Loss: 0.0823\n",
            "Epoch [2/10], Step [200/600], Loss: 0.0358\n",
            "Epoch [2/10], Step [300/600], Loss: 0.0173\n",
            "Epoch [2/10], Step [400/600], Loss: 0.1116\n",
            "Epoch [2/10], Step [500/600], Loss: 0.0149\n",
            "Epoch [2/10], Step [600/600], Loss: 0.1820\n",
            "Epoch [3/10], Step [100/600], Loss: 0.0113\n",
            "Epoch [3/10], Step [200/600], Loss: 0.0478\n",
            "Epoch [3/10], Step [300/600], Loss: 0.1152\n",
            "Epoch [3/10], Step [400/600], Loss: 0.0148\n",
            "Epoch [3/10], Step [500/600], Loss: 0.0411\n",
            "Epoch [3/10], Step [600/600], Loss: 0.0686\n",
            "Epoch [4/10], Step [100/600], Loss: 0.0634\n",
            "Epoch [4/10], Step [200/600], Loss: 0.0556\n",
            "Epoch [4/10], Step [300/600], Loss: 0.0024\n",
            "Epoch [4/10], Step [400/600], Loss: 0.0690\n",
            "Epoch [4/10], Step [500/600], Loss: 0.0874\n",
            "Epoch [4/10], Step [600/600], Loss: 0.0014\n",
            "Epoch [5/10], Step [100/600], Loss: 0.0165\n",
            "Epoch [5/10], Step [200/600], Loss: 0.0095\n",
            "Epoch [5/10], Step [300/600], Loss: 0.0397\n",
            "Epoch [5/10], Step [400/600], Loss: 0.0024\n",
            "Epoch [5/10], Step [500/600], Loss: 0.0955\n",
            "Epoch [5/10], Step [600/600], Loss: 0.0203\n",
            "Epoch [6/10], Step [100/600], Loss: 0.0046\n",
            "Epoch [6/10], Step [200/600], Loss: 0.0382\n",
            "Epoch [6/10], Step [300/600], Loss: 0.0285\n",
            "Epoch [6/10], Step [400/600], Loss: 0.0448\n",
            "Epoch [6/10], Step [500/600], Loss: 0.0008\n",
            "Epoch [6/10], Step [600/600], Loss: 0.0058\n",
            "Epoch [7/10], Step [100/600], Loss: 0.0109\n",
            "Epoch [7/10], Step [200/600], Loss: 0.0305\n",
            "Epoch [7/10], Step [300/600], Loss: 0.0193\n",
            "Epoch [7/10], Step [400/600], Loss: 0.0207\n",
            "Epoch [7/10], Step [500/600], Loss: 0.0102\n",
            "Epoch [7/10], Step [600/600], Loss: 0.0060\n",
            "Epoch [8/10], Step [100/600], Loss: 0.0192\n",
            "Epoch [8/10], Step [200/600], Loss: 0.0447\n",
            "Epoch [8/10], Step [300/600], Loss: 0.0272\n",
            "Epoch [8/10], Step [400/600], Loss: 0.0696\n",
            "Epoch [8/10], Step [500/600], Loss: 0.0246\n",
            "Epoch [8/10], Step [600/600], Loss: 0.0469\n",
            "Epoch [9/10], Step [100/600], Loss: 0.0695\n",
            "Epoch [9/10], Step [200/600], Loss: 0.0591\n",
            "Epoch [9/10], Step [300/600], Loss: 0.0496\n",
            "Epoch [9/10], Step [400/600], Loss: 0.0939\n",
            "Epoch [9/10], Step [500/600], Loss: 0.1619\n",
            "Epoch [9/10], Step [600/600], Loss: 0.0408\n",
            "Epoch [10/10], Step [100/600], Loss: 0.0808\n",
            "Epoch [10/10], Step [200/600], Loss: 0.1089\n",
            "Epoch [10/10], Step [300/600], Loss: 0.0487\n",
            "Epoch [10/10], Step [400/600], Loss: 0.0976\n",
            "Epoch [10/10], Step [500/600], Loss: 0.0275\n",
            "Epoch [10/10], Step [600/600], Loss: 0.0353\n"
          ]
        }
      ]
    },
    {
      "cell_type": "code",
      "source": [
        "def test():\n",
        "    # Test the model\n",
        "    cnn.eval()\n",
        "\n",
        "    for images, labels in loaders['test']:\n",
        "        test_output, last_layer = cnn(images)\n",
        "        pred_y = torch.max(test_output, 1)[1].data.squeeze() #converting tensors to actual number\n",
        "        print(pred_y)\n",
        "        print(labels)\n",
        "        accuracy = (pred_y == labels).sum().item() / float(labels.size(0))\n",
        "\n",
        "\n",
        "    print('Test Accuracy of the model on the 10000 test images: %.2f' % accuracy)\n",
        "\n",
        "test()"
      ],
      "metadata": {
        "colab": {
          "base_uri": "https://localhost:8080/"
        },
        "id": "DOOzg0yPXs1g",
        "outputId": "f3483d5a-7b1b-4a34-be88-7a4783290579",
        "collapsed": true
      },
      "execution_count": 20,
      "outputs": [
        {
          "output_type": "stream",
          "name": "stdout",
          "text": [
            "tensor([3, 4, 1, 1, 1, 8, 2, 4, 7, 2, 1, 4, 8, 8, 9, 8, 3, 7, 5, 0, 4, 6, 7, 3,\n",
            "        1, 1, 2, 1, 6, 9, 6, 7, 4, 4, 5, 2, 4, 0, 8, 7, 1, 0, 9, 1, 1, 4, 3, 2,\n",
            "        5, 2, 3, 2, 5, 3, 6, 6, 4, 7, 4, 1, 9, 0, 5, 4, 2, 2, 4, 8, 6, 4, 0, 0,\n",
            "        1, 7, 3, 2, 5, 9, 5, 4, 3, 4, 2, 4, 3, 0, 8, 3, 3, 7, 4, 3, 2, 9, 1, 1,\n",
            "        0, 8, 0, 8])\n",
            "tensor([3, 4, 1, 1, 1, 8, 2, 4, 7, 2, 1, 4, 8, 8, 2, 8, 3, 7, 5, 0, 4, 6, 7, 3,\n",
            "        1, 1, 2, 1, 6, 9, 6, 7, 4, 4, 4, 2, 4, 0, 8, 7, 1, 0, 9, 1, 1, 4, 3, 2,\n",
            "        5, 2, 3, 2, 5, 3, 6, 6, 4, 7, 4, 1, 9, 0, 5, 4, 2, 2, 4, 8, 6, 4, 0, 0,\n",
            "        1, 7, 3, 2, 5, 9, 5, 4, 3, 4, 2, 4, 3, 0, 8, 3, 3, 7, 4, 3, 2, 9, 1, 1,\n",
            "        0, 8, 0, 8])\n",
            "tensor([7, 3, 9, 5, 2, 7, 2, 7, 4, 1, 7, 7, 2, 3, 9, 4, 8, 6, 4, 3, 6, 0, 9, 4,\n",
            "        4, 4, 0, 9, 5, 4, 2, 7, 6, 7, 6, 4, 2, 3, 1, 0, 0, 7, 3, 3, 3, 3, 8, 4,\n",
            "        0, 3, 0, 6, 8, 2, 6, 9, 7, 1, 2, 0, 2, 6, 9, 6, 1, 1, 1, 4, 3, 6, 8, 2,\n",
            "        9, 9, 2, 2, 6, 6, 8, 6, 7, 6, 8, 7, 0, 0, 3, 2, 4, 0, 9, 6, 4, 4, 2, 9,\n",
            "        2, 5, 5, 1])\n",
            "tensor([7, 3, 9, 5, 2, 7, 2, 7, 4, 1, 7, 7, 2, 3, 9, 4, 8, 6, 4, 3, 6, 0, 9, 4,\n",
            "        4, 4, 0, 9, 5, 4, 2, 7, 6, 7, 6, 4, 2, 3, 1, 0, 0, 7, 3, 3, 3, 3, 8, 4,\n",
            "        0, 3, 0, 6, 8, 2, 6, 9, 7, 1, 2, 0, 2, 6, 9, 6, 1, 1, 1, 4, 3, 6, 8, 2,\n",
            "        9, 9, 2, 2, 6, 6, 8, 6, 7, 6, 8, 7, 0, 0, 3, 2, 4, 0, 9, 6, 4, 4, 2, 9,\n",
            "        2, 5, 5, 1])\n",
            "tensor([6, 0, 4, 6, 2, 5, 6, 2, 0, 3, 8, 7, 4, 9, 0, 6, 2, 6, 1, 9, 3, 7, 7, 9,\n",
            "        5, 3, 8, 9, 3, 7, 7, 1, 5, 8, 9, 4, 0, 7, 1, 9, 3, 7, 1, 8, 5, 1, 8, 6,\n",
            "        5, 0, 2, 7, 8, 9, 2, 9, 1, 1, 1, 8, 3, 0, 5, 6, 9, 7, 2, 3, 8, 1, 3, 1,\n",
            "        3, 4, 8, 9, 5, 1, 5, 2, 8, 9, 3, 8, 9, 0, 8, 9, 2, 7, 6, 8, 5, 5, 4, 6,\n",
            "        8, 3, 4, 4])\n",
            "tensor([6, 0, 4, 6, 2, 5, 6, 2, 0, 3, 8, 7, 4, 9, 0, 6, 2, 6, 1, 9, 3, 7, 7, 9,\n",
            "        3, 3, 8, 9, 3, 7, 7, 1, 5, 8, 9, 4, 0, 7, 1, 9, 3, 7, 1, 8, 5, 1, 8, 6,\n",
            "        5, 0, 2, 7, 8, 9, 2, 9, 1, 1, 1, 8, 3, 0, 5, 6, 9, 7, 2, 3, 3, 1, 3, 1,\n",
            "        3, 4, 8, 9, 5, 1, 5, 2, 8, 9, 3, 8, 9, 0, 8, 9, 2, 7, 6, 8, 9, 5, 4, 6,\n",
            "        8, 3, 4, 4])\n",
            "tensor([6, 3, 6, 2, 3, 3, 3, 7, 3, 1, 0, 3, 9, 4, 4, 8, 8, 4, 7, 0, 0, 3, 0, 7,\n",
            "        8, 0, 3, 2, 9, 2, 9, 9, 9, 4, 5, 2, 6, 3, 4, 2, 9, 6, 8, 5, 9, 5, 3, 4,\n",
            "        6, 1, 1, 4, 1, 7, 0, 3, 3, 3, 6, 7, 0, 0, 2, 6, 9, 0, 2, 9, 0, 9, 9, 9,\n",
            "        2, 2, 6, 7, 9, 3, 7, 2, 8, 5, 6, 7, 1, 7, 8, 9, 4, 5, 2, 5, 3, 1, 8, 7,\n",
            "        4, 8, 3, 5])\n",
            "tensor([6, 3, 6, 2, 3, 3, 3, 7, 3, 1, 0, 3, 9, 4, 4, 8, 8, 4, 7, 0, 0, 3, 0, 7,\n",
            "        8, 0, 3, 2, 9, 2, 9, 9, 9, 4, 5, 2, 6, 3, 4, 2, 9, 6, 8, 5, 9, 5, 3, 4,\n",
            "        6, 1, 1, 9, 1, 7, 0, 3, 3, 3, 6, 7, 0, 0, 2, 6, 9, 0, 2, 9, 0, 9, 9, 9,\n",
            "        2, 2, 6, 2, 9, 3, 7, 2, 8, 5, 6, 7, 1, 7, 8, 9, 4, 5, 2, 5, 3, 1, 8, 7,\n",
            "        4, 8, 3, 5])\n",
            "tensor([0, 2, 7, 4, 5, 1, 1, 9, 7, 9, 9, 9, 9, 8, 3, 0, 6, 7, 2, 7, 7, 1, 7, 1,\n",
            "        8, 2, 7, 9, 8, 0, 7, 7, 6, 5, 4, 7, 3, 2, 6, 1, 4, 9, 2, 0, 5, 0, 1, 9,\n",
            "        0, 7, 7, 3, 8, 8, 9, 3, 0, 4, 3, 7, 4, 8, 9, 4, 3, 3, 3, 4, 6, 4, 3, 3,\n",
            "        0, 1, 9, 4, 5, 8, 3, 6, 4, 2, 4, 2, 5, 7, 8, 8, 6, 0, 3, 6, 2, 9, 5, 2,\n",
            "        9, 7, 1, 4])\n",
            "tensor([0, 2, 7, 4, 5, 1, 1, 9, 7, 9, 9, 9, 9, 8, 3, 0, 6, 7, 2, 7, 7, 1, 7, 1,\n",
            "        8, 2, 7, 9, 8, 0, 7, 7, 6, 5, 4, 7, 3, 2, 6, 1, 4, 9, 2, 0, 5, 0, 1, 9,\n",
            "        0, 7, 7, 3, 8, 8, 9, 3, 0, 4, 3, 7, 4, 8, 9, 4, 3, 3, 3, 4, 1, 4, 3, 3,\n",
            "        0, 1, 9, 9, 5, 8, 3, 6, 4, 2, 4, 2, 5, 7, 8, 8, 6, 0, 3, 6, 2, 9, 5, 2,\n",
            "        9, 7, 1, 4])\n",
            "tensor([5, 8, 9, 8, 5, 3, 9, 5, 2, 1, 1, 7, 2, 0, 0, 5, 4, 9, 5, 9, 4, 4, 6, 1,\n",
            "        3, 3, 6, 8, 2, 9, 6, 2, 1, 6, 1, 0, 0, 3, 9, 3, 1, 5, 9, 1, 3, 8, 7, 1,\n",
            "        9, 0, 8, 2, 2, 8, 8, 1, 7, 1, 4, 9, 4, 2, 1, 8, 1, 7, 0, 1, 9, 6, 3, 8,\n",
            "        1, 8, 9, 9, 0, 2, 6, 8, 6, 0, 0, 9, 3, 8, 9, 0, 6, 6, 6, 1, 8, 4, 0, 6,\n",
            "        0, 8, 4, 9])\n",
            "tensor([5, 8, 9, 8, 5, 3, 9, 5, 2, 1, 1, 7, 2, 0, 0, 5, 4, 9, 5, 9, 4, 4, 6, 1,\n",
            "        3, 3, 6, 8, 2, 9, 6, 2, 1, 6, 1, 0, 0, 3, 9, 3, 1, 5, 9, 1, 3, 8, 7, 1,\n",
            "        9, 0, 8, 2, 2, 8, 8, 1, 7, 1, 4, 9, 4, 2, 1, 8, 1, 7, 0, 1, 9, 6, 3, 8,\n",
            "        1, 8, 9, 9, 0, 2, 6, 8, 6, 0, 0, 9, 3, 8, 9, 0, 6, 6, 6, 1, 8, 4, 0, 6,\n",
            "        0, 8, 4, 9])\n",
            "tensor([5, 1, 4, 4, 9, 8, 6, 0, 9, 6, 6, 1, 7, 4, 9, 9, 2, 9, 1, 3, 1, 8, 6, 1,\n",
            "        2, 7, 4, 6, 2, 9, 5, 5, 7, 4, 5, 5, 2, 9, 9, 4, 1, 8, 1, 6, 6, 8, 5, 3,\n",
            "        3, 7, 6, 1, 3, 0, 9, 2, 5, 5, 6, 6, 8, 7, 5, 2, 7, 9, 7, 2, 4, 8, 0, 9,\n",
            "        0, 6, 4, 8, 5, 3, 4, 2, 7, 1, 1, 2, 7, 7, 9, 1, 4, 6, 8, 1, 6, 2, 7, 6,\n",
            "        0, 3, 1, 8])\n",
            "tensor([5, 1, 4, 4, 9, 8, 6, 0, 9, 6, 6, 1, 7, 4, 9, 9, 2, 9, 1, 3, 1, 8, 6, 1,\n",
            "        2, 7, 4, 6, 2, 9, 5, 5, 7, 4, 5, 5, 2, 9, 9, 4, 1, 8, 1, 6, 6, 8, 5, 3,\n",
            "        3, 7, 6, 1, 3, 0, 9, 2, 5, 5, 6, 6, 8, 7, 5, 2, 7, 9, 7, 2, 4, 8, 0, 9,\n",
            "        0, 6, 4, 8, 5, 3, 4, 2, 7, 1, 1, 2, 7, 7, 9, 1, 4, 6, 8, 1, 6, 2, 7, 6,\n",
            "        0, 3, 1, 8])\n",
            "tensor([2, 7, 5, 3, 7, 8, 2, 4, 4, 5, 5, 2, 3, 7, 5, 1, 0, 1, 7, 8, 8, 8, 1, 1,\n",
            "        3, 3, 0, 1, 4, 1, 0, 8, 9, 7, 3, 5, 0, 6, 0, 0, 6, 4, 6, 8, 6, 4, 8, 4,\n",
            "        9, 0, 2, 3, 4, 2, 8, 7, 9, 5, 9, 0, 9, 0, 5, 5, 3, 9, 4, 8, 0, 4, 2, 2,\n",
            "        5, 7, 1, 2, 1, 6, 5, 6, 1, 1, 6, 7, 6, 8, 2, 4, 5, 9, 6, 3, 8, 6, 6, 3,\n",
            "        9, 9, 7, 7])\n",
            "tensor([2, 7, 5, 3, 7, 8, 2, 4, 4, 5, 5, 2, 3, 7, 5, 1, 0, 1, 7, 8, 8, 8, 1, 1,\n",
            "        3, 3, 0, 1, 4, 1, 0, 8, 9, 7, 3, 5, 0, 6, 0, 0, 6, 4, 6, 8, 6, 4, 8, 4,\n",
            "        9, 0, 2, 3, 4, 2, 8, 7, 9, 5, 9, 0, 9, 0, 5, 5, 3, 9, 4, 8, 0, 4, 2, 2,\n",
            "        5, 7, 1, 2, 1, 6, 5, 6, 1, 1, 6, 7, 6, 8, 2, 4, 5, 9, 6, 3, 8, 6, 6, 3,\n",
            "        9, 9, 7, 7])\n",
            "tensor([5, 8, 4, 5, 7, 8, 8, 1, 5, 4, 5, 2, 6, 5, 8, 8, 8, 9, 4, 0, 3, 2, 2, 5,\n",
            "        5, 5, 2, 1, 3, 4, 6, 1, 8, 1, 5, 6, 1, 1, 3, 1, 7, 2, 4, 2, 2, 2, 3, 1,\n",
            "        1, 1, 0, 2, 4, 7, 2, 7, 1, 9, 8, 1, 8, 4, 7, 4, 9, 9, 7, 7, 1, 7, 8, 2,\n",
            "        3, 6, 5, 9, 6, 9, 9, 9, 7, 7, 8, 1, 4, 0, 5, 5, 7, 9, 6, 3, 1, 6, 9, 8,\n",
            "        1, 9, 6, 1])\n",
            "tensor([5, 8, 4, 5, 7, 8, 8, 1, 5, 4, 5, 2, 6, 5, 8, 8, 8, 9, 4, 0, 3, 2, 2, 5,\n",
            "        5, 5, 2, 1, 3, 4, 6, 1, 8, 1, 5, 6, 1, 1, 3, 1, 7, 2, 4, 2, 2, 2, 3, 1,\n",
            "        1, 1, 0, 2, 4, 7, 2, 7, 1, 9, 8, 1, 8, 4, 7, 4, 9, 9, 7, 7, 1, 7, 8, 2,\n",
            "        3, 6, 5, 9, 6, 9, 9, 4, 7, 7, 8, 1, 4, 0, 5, 5, 7, 9, 6, 3, 1, 6, 9, 8,\n",
            "        1, 9, 6, 1])\n",
            "tensor([8, 2, 4, 9, 4, 3, 8, 0, 3, 0, 9, 4, 2, 5, 3, 7, 0, 7, 7, 2, 9, 7, 5, 5,\n",
            "        6, 2, 6, 0, 0, 9, 7, 8, 6, 5, 8, 4, 6, 9, 4, 9, 0, 7, 5, 0, 0, 6, 9, 6,\n",
            "        9, 4, 5, 3, 6, 3, 4, 2, 5, 9, 0, 1, 5, 5, 2, 2, 7, 3, 2, 7, 9, 4, 1, 6,\n",
            "        8, 0, 2, 2, 6, 5, 8, 0, 6, 1, 4, 4, 2, 2, 3, 6, 4, 2, 5, 1, 6, 3, 9, 0,\n",
            "        5, 1, 5, 7])\n",
            "tensor([8, 2, 4, 9, 4, 9, 8, 0, 3, 0, 9, 4, 7, 5, 3, 7, 0, 7, 7, 2, 9, 7, 5, 5,\n",
            "        6, 2, 6, 0, 0, 9, 7, 8, 6, 5, 8, 4, 6, 9, 4, 9, 0, 9, 5, 0, 0, 6, 9, 6,\n",
            "        9, 4, 5, 3, 6, 3, 4, 2, 5, 9, 0, 1, 5, 5, 2, 2, 7, 3, 2, 7, 9, 4, 1, 6,\n",
            "        8, 0, 2, 2, 6, 5, 8, 0, 6, 1, 4, 4, 2, 2, 3, 6, 4, 2, 5, 1, 6, 3, 9, 0,\n",
            "        5, 1, 5, 7])\n",
            "tensor([1, 6, 2, 9, 5, 7, 0, 5, 8, 8, 1, 1, 0, 6, 8, 4, 3, 8, 1, 7, 9, 1, 7, 6,\n",
            "        2, 1, 1, 6, 1, 9, 8, 4, 1, 4, 3, 7, 4, 0, 6, 9, 5, 8, 4, 5, 4, 8, 2, 9,\n",
            "        2, 7, 0, 2, 7, 4, 0, 2, 6, 7, 9, 4, 3, 2, 3, 1, 2, 0, 2, 2, 4, 2, 3, 9,\n",
            "        3, 9, 2, 8, 2, 5, 3, 2, 0, 1, 7, 6, 4, 4, 6, 4, 1, 9, 0, 1, 6, 0, 0, 3,\n",
            "        6, 0, 1, 0])\n",
            "tensor([1, 6, 2, 9, 5, 7, 0, 5, 8, 8, 1, 1, 0, 6, 8, 4, 3, 8, 1, 7, 9, 1, 7, 6,\n",
            "        2, 1, 1, 6, 1, 9, 8, 4, 1, 4, 3, 7, 4, 0, 6, 9, 5, 8, 4, 5, 4, 8, 2, 9,\n",
            "        2, 7, 0, 2, 7, 4, 0, 2, 6, 7, 9, 4, 3, 2, 3, 1, 2, 0, 2, 2, 4, 2, 3, 9,\n",
            "        3, 9, 2, 8, 2, 5, 3, 2, 0, 1, 7, 6, 4, 4, 6, 4, 1, 9, 0, 1, 6, 0, 0, 3,\n",
            "        6, 0, 1, 0])\n",
            "tensor([9, 8, 0, 1, 1, 7, 4, 5, 9, 1, 5, 0, 1, 3, 3, 0, 6, 3, 9, 8, 2, 9, 1, 2,\n",
            "        6, 2, 2, 9, 2, 5, 1, 7, 4, 5, 0, 6, 0, 0, 7, 5, 5, 6, 5, 1, 7, 7, 3, 4,\n",
            "        5, 5, 2, 7, 6, 1, 9, 0, 0, 7, 9, 9, 1, 3, 8, 5, 8, 3, 1, 6, 2, 6, 3, 7,\n",
            "        6, 9, 1, 5, 6, 3, 6, 4, 4, 9, 9, 8, 3, 9, 0, 7, 4, 9, 4, 6, 1, 4, 7, 7,\n",
            "        1, 5, 9, 2])\n",
            "tensor([9, 8, 0, 1, 1, 7, 4, 5, 9, 1, 5, 0, 1, 3, 3, 0, 6, 3, 9, 8, 2, 9, 1, 2,\n",
            "        6, 2, 2, 9, 2, 5, 1, 7, 4, 5, 0, 6, 0, 0, 7, 5, 5, 6, 5, 1, 7, 7, 3, 4,\n",
            "        5, 5, 2, 7, 6, 1, 9, 0, 0, 7, 9, 9, 1, 3, 9, 5, 8, 3, 1, 6, 2, 6, 3, 7,\n",
            "        6, 9, 1, 5, 6, 3, 6, 4, 4, 9, 9, 8, 3, 9, 0, 7, 4, 9, 4, 6, 1, 4, 7, 7,\n",
            "        1, 5, 9, 2])\n",
            "tensor([3, 3, 6, 0, 0, 6, 7, 0, 1, 8, 9, 5, 5, 1, 3, 7, 3, 3, 7, 2, 3, 1, 9, 4,\n",
            "        4, 9, 5, 2, 4, 5, 3, 5, 9, 6, 5, 5, 2, 0, 0, 5, 6, 4, 9, 2, 6, 9, 1, 8,\n",
            "        4, 1, 9, 2, 8, 4, 8, 3, 6, 7, 8, 2, 9, 6, 2, 1, 4, 9, 9, 9, 3, 6, 9, 3,\n",
            "        0, 5, 5, 6, 3, 1, 0, 5, 0, 0, 1, 4, 1, 7, 6, 0, 9, 3, 0, 3, 8, 3, 3, 4,\n",
            "        7, 8, 5, 5])\n",
            "tensor([3, 3, 6, 0, 0, 6, 7, 0, 1, 8, 9, 5, 5, 1, 3, 7, 3, 3, 7, 2, 3, 1, 9, 4,\n",
            "        4, 9, 5, 4, 4, 5, 3, 5, 9, 6, 5, 5, 2, 0, 0, 5, 6, 4, 9, 2, 6, 9, 1, 2,\n",
            "        4, 1, 9, 2, 8, 4, 8, 3, 6, 7, 8, 2, 9, 6, 2, 1, 4, 9, 9, 9, 3, 6, 9, 3,\n",
            "        0, 6, 5, 6, 3, 1, 0, 5, 0, 0, 1, 4, 1, 7, 6, 0, 9, 3, 0, 3, 8, 3, 3, 4,\n",
            "        7, 8, 5, 5])\n",
            "tensor([8, 9, 7, 2, 5, 8, 9, 5, 4, 0, 7, 8, 2, 6, 6, 2, 0, 5, 5, 7, 0, 1, 5, 7,\n",
            "        4, 2, 5, 2, 1, 1, 6, 7, 7, 8, 1, 1, 3, 6, 2, 1, 4, 5, 6, 3, 4, 4, 1, 4,\n",
            "        2, 4, 2, 2, 9, 5, 9, 8, 2, 6, 1, 5, 9, 3, 8, 0, 3, 2, 4, 1, 4, 0, 8, 1,\n",
            "        4, 7, 7, 5, 0, 0, 7, 7, 2, 1, 4, 1, 4, 8, 8, 8, 7, 2, 0, 7, 1, 6, 2, 9,\n",
            "        7, 8, 9, 3])\n",
            "tensor([8, 9, 7, 2, 5, 8, 9, 5, 4, 0, 7, 8, 2, 6, 6, 2, 0, 5, 5, 7, 0, 1, 5, 7,\n",
            "        4, 2, 5, 2, 1, 1, 6, 7, 7, 8, 1, 1, 3, 6, 2, 1, 4, 5, 6, 3, 4, 4, 1, 4,\n",
            "        2, 4, 2, 2, 9, 5, 9, 8, 2, 6, 1, 5, 9, 3, 8, 0, 3, 2, 4, 1, 4, 0, 8, 1,\n",
            "        4, 7, 7, 5, 0, 0, 7, 7, 2, 1, 4, 1, 4, 8, 8, 8, 7, 2, 0, 7, 1, 6, 2, 9,\n",
            "        7, 8, 9, 3])\n",
            "tensor([7, 1, 3, 3, 2, 5, 6, 6, 3, 9, 8, 6, 8, 3, 6, 9, 7, 1, 6, 2, 3, 4, 9, 9,\n",
            "        9, 4, 3, 7, 3, 5, 4, 0, 6, 4, 4, 6, 2, 4, 0, 1, 8, 8, 1, 1, 8, 7, 7, 2,\n",
            "        3, 0, 7, 6, 5, 3, 8, 1, 7, 4, 2, 4, 0, 1, 5, 8, 2, 0, 7, 7, 6, 2, 0, 5,\n",
            "        3, 2, 4, 0, 5, 0, 2, 0, 1, 4, 9, 4, 4, 5, 8, 5, 4, 5, 3, 5, 3, 0, 8, 9,\n",
            "        1, 4, 8, 0])\n",
            "tensor([7, 1, 3, 3, 2, 5, 6, 6, 3, 9, 8, 6, 8, 3, 6, 9, 7, 1, 6, 2, 3, 4, 9, 9,\n",
            "        9, 4, 3, 7, 3, 5, 4, 0, 6, 4, 4, 6, 2, 4, 0, 1, 8, 8, 1, 1, 8, 7, 7, 8,\n",
            "        3, 0, 7, 6, 5, 3, 8, 1, 7, 4, 2, 4, 0, 1, 5, 7, 2, 0, 7, 7, 6, 2, 0, 5,\n",
            "        3, 2, 4, 0, 5, 0, 5, 0, 1, 4, 9, 4, 4, 5, 8, 5, 4, 5, 3, 5, 3, 0, 8, 9,\n",
            "        1, 4, 8, 0])\n",
            "tensor([6, 9, 7, 8, 5, 2, 8, 4, 8, 6, 9, 3, 3, 4, 6, 6, 0, 3, 9, 2, 8, 0, 2, 8,\n",
            "        9, 3, 0, 9, 5, 4, 7, 8, 7, 0, 2, 5, 4, 9, 9, 9, 2, 0, 6, 3, 4, 0, 7, 4,\n",
            "        3, 9, 7, 9, 2, 4, 6, 5, 4, 1, 6, 1, 4, 1, 5, 1, 9, 6, 0, 0, 4, 8, 8, 3,\n",
            "        2, 7, 1, 9, 8, 4, 0, 8, 4, 4, 1, 0, 9, 7, 9, 8, 3, 5, 7, 2, 5, 1, 3, 7,\n",
            "        7, 1, 4, 1])\n",
            "tensor([6, 9, 7, 8, 5, 2, 8, 4, 8, 6, 9, 3, 3, 7, 6, 6, 0, 3, 9, 2, 8, 0, 2, 8,\n",
            "        9, 3, 0, 9, 5, 4, 7, 8, 7, 0, 2, 5, 4, 9, 9, 9, 2, 0, 6, 3, 4, 0, 7, 4,\n",
            "        3, 9, 7, 9, 2, 4, 6, 5, 4, 1, 6, 1, 4, 1, 5, 1, 9, 6, 0, 0, 4, 8, 8, 3,\n",
            "        2, 7, 1, 9, 8, 4, 0, 8, 4, 4, 1, 0, 9, 7, 9, 8, 3, 5, 7, 2, 5, 1, 3, 7,\n",
            "        7, 1, 4, 1])\n",
            "tensor([9, 1, 0, 4, 7, 3, 9, 6, 9, 1, 7, 0, 6, 7, 2, 9, 1, 0, 1, 4, 4, 9, 8, 6,\n",
            "        4, 3, 7, 8, 4, 1, 5, 2, 1, 5, 0, 4, 4, 7, 0, 8, 3, 1, 7, 7, 4, 4, 2, 3,\n",
            "        9, 7, 3, 5, 2, 3, 5, 3, 2, 8, 6, 6, 9, 6, 3, 4, 7, 8, 2, 2, 8, 9, 8, 3,\n",
            "        4, 6, 7, 0, 0, 8, 9, 1, 5, 1, 7, 0, 4, 5, 3, 0, 8, 7, 2, 9, 7, 4, 0, 4,\n",
            "        6, 0, 5, 7])\n",
            "tensor([9, 1, 0, 4, 7, 3, 9, 6, 9, 1, 7, 0, 6, 7, 2, 9, 1, 0, 1, 4, 4, 9, 8, 6,\n",
            "        4, 3, 7, 8, 4, 1, 5, 2, 1, 5, 0, 4, 4, 7, 0, 8, 3, 1, 7, 7, 4, 4, 2, 3,\n",
            "        9, 7, 3, 5, 2, 3, 5, 3, 2, 8, 6, 6, 9, 6, 3, 4, 7, 8, 2, 2, 8, 9, 8, 3,\n",
            "        4, 6, 7, 0, 0, 2, 4, 1, 5, 1, 7, 0, 4, 5, 3, 0, 8, 7, 2, 9, 7, 4, 0, 4,\n",
            "        6, 0, 5, 7])\n",
            "tensor([0, 9, 5, 1, 0, 6, 4, 1, 4, 4, 3, 3, 9, 2, 7, 0, 5, 5, 4, 7, 2, 9, 7, 4,\n",
            "        8, 3, 7, 9, 9, 3, 9, 6, 3, 3, 5, 9, 4, 1, 6, 1, 9, 9, 7, 6, 0, 8, 3, 4,\n",
            "        0, 5, 5, 3, 2, 4, 0, 7, 3, 8, 6, 2, 0, 8, 0, 8, 4, 3, 7, 7, 6, 3, 5, 1,\n",
            "        7, 8, 5, 7, 9, 8, 0, 7, 7, 7, 6, 1, 0, 6, 4, 4, 4, 1, 2, 4, 1, 1, 8, 1,\n",
            "        5, 9, 8, 1])\n",
            "tensor([0, 0, 5, 1, 0, 6, 4, 1, 4, 4, 3, 3, 9, 2, 7, 0, 5, 5, 4, 7, 2, 9, 7, 4,\n",
            "        8, 3, 7, 9, 9, 3, 9, 6, 3, 3, 3, 9, 4, 1, 6, 1, 9, 9, 7, 6, 0, 8, 3, 4,\n",
            "        0, 5, 5, 3, 2, 4, 0, 7, 3, 8, 6, 2, 0, 8, 0, 8, 4, 3, 7, 7, 6, 3, 5, 1,\n",
            "        7, 8, 5, 7, 9, 8, 0, 7, 7, 7, 6, 1, 0, 6, 4, 9, 4, 1, 2, 4, 1, 1, 8, 1,\n",
            "        5, 9, 8, 1])\n",
            "tensor([6, 7, 8, 6, 6, 0, 3, 0, 5, 5, 6, 1, 2, 9, 2, 8, 2, 8, 4, 0, 0, 6, 0, 7,\n",
            "        5, 1, 8, 6, 1, 7, 1, 3, 6, 9, 8, 8, 6, 2, 5, 7, 6, 6, 8, 0, 1, 2, 5, 7,\n",
            "        9, 4, 1, 1, 5, 9, 0, 2, 0, 3, 1, 8, 1, 8, 0, 3, 5, 8, 2, 9, 1, 3, 8, 1,\n",
            "        9, 6, 0, 8, 8, 0, 9, 0, 6, 7, 5, 1, 1, 0, 2, 8, 9, 2, 2, 0, 3, 7, 3, 2,\n",
            "        4, 3, 3, 2])\n",
            "tensor([6, 7, 8, 6, 6, 0, 3, 0, 5, 5, 6, 1, 2, 9, 2, 8, 2, 8, 4, 0, 0, 6, 0, 7,\n",
            "        5, 1, 8, 6, 1, 7, 1, 3, 6, 9, 8, 8, 6, 2, 5, 7, 6, 6, 8, 0, 1, 2, 5, 7,\n",
            "        9, 4, 1, 1, 5, 9, 0, 2, 0, 3, 1, 8, 1, 8, 0, 3, 5, 8, 2, 9, 1, 3, 8, 1,\n",
            "        9, 6, 0, 8, 8, 0, 9, 0, 6, 7, 5, 1, 1, 0, 2, 8, 9, 2, 2, 0, 3, 7, 3, 3,\n",
            "        4, 3, 3, 2])\n",
            "tensor([6, 0, 3, 1, 3, 8, 5, 7, 0, 4, 4, 6, 0, 9, 3, 3, 5, 2, 8, 6, 2, 7, 0, 7,\n",
            "        2, 2, 9, 9, 5, 8, 4, 7, 5, 4, 2, 7, 2, 8, 9, 4, 1, 1, 7, 5, 9, 8, 0, 1,\n",
            "        4, 0, 6, 2, 4, 9, 4, 1, 8, 1, 0, 4, 4, 4, 5, 8, 8, 2, 6, 2, 7, 9, 4, 1,\n",
            "        3, 1, 8, 2, 9, 8, 2, 3, 7, 6, 6, 3, 4, 8, 6, 5, 3, 5, 1, 7, 7, 0, 1, 0,\n",
            "        2, 6, 8, 2])\n",
            "tensor([6, 0, 3, 1, 3, 8, 5, 7, 0, 4, 4, 6, 0, 9, 3, 3, 5, 2, 8, 6, 2, 7, 0, 7,\n",
            "        2, 2, 9, 9, 5, 8, 4, 7, 5, 4, 2, 7, 2, 8, 9, 4, 1, 1, 7, 5, 9, 8, 0, 1,\n",
            "        4, 0, 6, 2, 4, 9, 4, 1, 8, 1, 0, 4, 4, 4, 5, 8, 8, 2, 6, 2, 7, 9, 4, 1,\n",
            "        3, 1, 8, 2, 9, 8, 2, 3, 7, 6, 6, 3, 4, 8, 6, 5, 3, 5, 1, 7, 7, 0, 1, 0,\n",
            "        2, 6, 8, 2])\n",
            "tensor([8, 7, 4, 0, 5, 2, 8, 9, 5, 4, 9, 1, 2, 3, 9, 5, 0, 8, 6, 8, 8, 3, 2, 1,\n",
            "        0, 6, 6, 8, 5, 0, 6, 3, 7, 3, 1, 0, 2, 8, 6, 1, 4, 3, 6, 3, 1, 4, 1, 8,\n",
            "        8, 3, 2, 6, 5, 4, 5, 2, 2, 0, 1, 2, 1, 2, 5, 0, 9, 7, 6, 4, 5, 8, 1, 2,\n",
            "        6, 2, 4, 1, 4, 1, 7, 0, 9, 4, 3, 5, 4, 5, 6, 0, 6, 3, 6, 6, 0, 1, 5, 0,\n",
            "        3, 0, 9, 1])\n",
            "tensor([8, 7, 4, 0, 5, 2, 8, 9, 5, 8, 9, 1, 2, 3, 9, 5, 0, 8, 6, 8, 8, 3, 2, 1,\n",
            "        0, 6, 6, 8, 5, 0, 6, 3, 7, 3, 1, 0, 2, 8, 6, 1, 4, 3, 6, 3, 1, 4, 1, 8,\n",
            "        8, 3, 2, 6, 5, 4, 5, 2, 2, 0, 1, 2, 1, 2, 5, 0, 9, 7, 6, 4, 5, 8, 1, 2,\n",
            "        6, 2, 4, 1, 4, 1, 7, 0, 9, 4, 3, 5, 4, 5, 6, 0, 6, 3, 6, 6, 0, 1, 5, 0,\n",
            "        3, 0, 9, 1])\n",
            "tensor([5, 4, 2, 7, 8, 0, 4, 4, 3, 3, 3, 2, 2, 4, 7, 2, 3, 4, 0, 9, 7, 2, 4, 8,\n",
            "        0, 2, 3, 2, 2, 5, 3, 5, 7, 3, 5, 1, 0, 3, 3, 7, 8, 1, 8, 4, 8, 1, 7, 4,\n",
            "        6, 1, 1, 7, 9, 9, 4, 0, 6, 7, 5, 1, 9, 4, 0, 5, 5, 6, 0, 1, 5, 5, 8, 1,\n",
            "        0, 3, 7, 5, 5, 7, 0, 8, 9, 8, 3, 6, 0, 4, 2, 6, 6, 9, 9, 7, 0, 6, 6, 1,\n",
            "        2, 3, 7, 9])\n",
            "tensor([5, 4, 2, 7, 9, 0, 1, 4, 3, 3, 3, 2, 2, 4, 7, 2, 3, 4, 0, 9, 7, 2, 4, 8,\n",
            "        0, 2, 3, 2, 2, 5, 3, 5, 7, 3, 5, 1, 0, 3, 3, 7, 8, 1, 8, 4, 8, 1, 7, 4,\n",
            "        6, 1, 1, 7, 9, 9, 4, 0, 6, 7, 5, 1, 9, 4, 0, 5, 5, 6, 0, 1, 5, 8, 8, 1,\n",
            "        0, 3, 7, 5, 5, 7, 0, 8, 9, 8, 3, 6, 0, 4, 2, 6, 6, 9, 7, 7, 0, 6, 6, 1,\n",
            "        2, 3, 7, 9])\n",
            "tensor([8, 5, 5, 0, 6, 7, 3, 7, 0, 1, 2, 3, 0, 5, 7, 8, 3, 4, 4, 8, 8, 4, 5, 5,\n",
            "        4, 8, 1, 1, 1, 1, 2, 7, 0, 9, 1, 8, 7, 5, 7, 7, 2, 5, 3, 9, 6, 1, 3, 1,\n",
            "        4, 5, 8, 8, 7, 2, 3, 5, 4, 7, 2, 2, 1, 9, 5, 8, 6, 6, 0, 8, 0, 8, 8, 1,\n",
            "        2, 8, 1, 9, 8, 9, 7, 4, 1, 8, 9, 9, 7, 5, 9, 7, 7, 3, 7, 0, 0, 9, 6, 8,\n",
            "        9, 9, 0, 7])\n",
            "tensor([8, 5, 5, 0, 6, 7, 3, 7, 0, 1, 2, 3, 0, 5, 7, 8, 3, 4, 4, 8, 8, 4, 5, 5,\n",
            "        4, 4, 1, 1, 1, 1, 2, 7, 0, 9, 1, 8, 7, 5, 7, 7, 2, 5, 3, 9, 6, 1, 3, 1,\n",
            "        4, 5, 8, 8, 7, 2, 3, 5, 4, 7, 2, 2, 1, 9, 5, 8, 6, 6, 0, 8, 0, 8, 8, 1,\n",
            "        2, 8, 1, 9, 8, 9, 7, 4, 1, 8, 9, 9, 7, 5, 9, 7, 7, 3, 7, 0, 0, 9, 6, 8,\n",
            "        9, 9, 0, 7])\n",
            "tensor([0, 3, 0, 0, 1, 1, 1, 0, 9, 6, 4, 7, 5, 3, 0, 6, 5, 3, 7, 3, 3, 9, 0, 7,\n",
            "        7, 7, 0, 7, 4, 8, 9, 4, 7, 5, 3, 7, 4, 6, 8, 8, 2, 1, 2, 7, 9, 9, 1, 5,\n",
            "        6, 5, 3, 0, 0, 7, 5, 1, 7, 4, 1, 3, 2, 5, 9, 6, 5, 8, 5, 2, 3, 0, 3, 8,\n",
            "        4, 4, 6, 3, 9, 0, 1, 5, 2, 7, 6, 8, 9, 0, 7, 8, 8, 9, 2, 0, 6, 4, 1, 8,\n",
            "        2, 6, 4, 3])\n",
            "tensor([0, 3, 0, 0, 1, 1, 1, 0, 9, 6, 4, 7, 5, 3, 0, 6, 5, 3, 7, 3, 3, 9, 0, 7,\n",
            "        7, 7, 0, 7, 4, 8, 9, 4, 7, 5, 3, 7, 4, 6, 8, 8, 2, 1, 2, 1, 9, 9, 1, 5,\n",
            "        6, 5, 3, 0, 0, 7, 5, 1, 7, 4, 1, 3, 2, 5, 9, 6, 5, 8, 5, 2, 3, 0, 3, 8,\n",
            "        4, 4, 6, 3, 9, 0, 1, 5, 2, 7, 6, 8, 9, 0, 7, 8, 8, 9, 2, 0, 6, 4, 1, 8,\n",
            "        2, 6, 4, 3])\n",
            "tensor([6, 8, 9, 8, 2, 3, 4, 5, 7, 7, 2, 3, 6, 6, 2, 4, 0, 0, 1, 8, 4, 8, 8, 5,\n",
            "        9, 3, 8, 7, 4, 2, 6, 2, 8, 8, 5, 2, 3, 0, 1, 8, 0, 1, 4, 0, 7, 9, 7, 5,\n",
            "        7, 9, 9, 8, 8, 8, 9, 4, 6, 1, 9, 4, 0, 8, 1, 3, 3, 1, 8, 7, 0, 3, 3, 0,\n",
            "        9, 1, 9, 4, 8, 5, 0, 6, 7, 9, 0, 4, 3, 0, 7, 3, 7, 6, 0, 7, 1, 1, 1, 5,\n",
            "        2, 8, 5, 0])\n",
            "tensor([6, 8, 9, 8, 2, 3, 4, 5, 7, 7, 2, 3, 6, 6, 2, 4, 0, 0, 1, 8, 4, 8, 8, 5,\n",
            "        9, 3, 8, 7, 4, 2, 6, 2, 8, 8, 5, 2, 3, 0, 1, 8, 0, 1, 4, 0, 7, 9, 7, 5,\n",
            "        7, 9, 9, 8, 8, 2, 9, 4, 6, 1, 9, 4, 0, 8, 1, 3, 9, 1, 8, 7, 0, 3, 3, 0,\n",
            "        9, 1, 9, 4, 8, 5, 0, 6, 7, 9, 0, 4, 5, 0, 7, 3, 7, 6, 0, 7, 1, 1, 1, 5,\n",
            "        2, 8, 5, 0])\n",
            "tensor([0, 4, 3, 4, 0, 9, 6, 1, 9, 4, 7, 0, 6, 7, 2, 0, 8, 6, 2, 1, 6, 3, 2, 8,\n",
            "        1, 6, 4, 4, 4, 5, 4, 7, 2, 3, 6, 4, 3, 8, 2, 7, 5, 7, 8, 5, 2, 3, 1, 3,\n",
            "        2, 5, 1, 4, 3, 8, 6, 0, 0, 6, 1, 9, 1, 8, 8, 2, 6, 9, 6, 0, 4, 2, 5, 3,\n",
            "        4, 8, 8, 5, 5, 6, 1, 8, 7, 8, 8, 4, 9, 0, 8, 7, 8, 2, 3, 1, 7, 6, 0, 9,\n",
            "        8, 5, 4, 8])\n",
            "tensor([0, 4, 3, 4, 0, 9, 6, 1, 9, 4, 7, 0, 6, 7, 2, 0, 8, 6, 2, 1, 6, 3, 2, 8,\n",
            "        1, 6, 4, 9, 4, 5, 4, 7, 2, 3, 6, 4, 3, 8, 2, 7, 5, 7, 8, 5, 2, 3, 1, 3,\n",
            "        2, 5, 1, 4, 3, 8, 6, 0, 0, 6, 1, 9, 1, 8, 8, 2, 6, 9, 6, 0, 4, 2, 5, 3,\n",
            "        4, 8, 8, 5, 5, 6, 1, 8, 7, 8, 8, 4, 9, 0, 8, 7, 8, 2, 3, 1, 7, 6, 0, 9,\n",
            "        8, 5, 4, 8])\n",
            "tensor([4, 5, 2, 4, 7, 2, 6, 7, 9, 9, 0, 5, 4, 1, 8, 9, 2, 9, 5, 8, 9, 2, 2, 6,\n",
            "        7, 3, 7, 2, 1, 8, 4, 1, 8, 6, 5, 1, 9, 7, 1, 9, 4, 2, 9, 1, 9, 8, 3, 6,\n",
            "        9, 4, 6, 9, 4, 9, 6, 9, 2, 0, 3, 4, 5, 7, 4, 7, 4, 4, 1, 6, 2, 7, 7, 0,\n",
            "        1, 7, 1, 0, 9, 9, 8, 1, 9, 7, 3, 5, 8, 5, 5, 7, 0, 0, 1, 4, 1, 7, 3, 2,\n",
            "        5, 4, 0, 3])\n",
            "tensor([4, 5, 2, 4, 7, 2, 6, 7, 9, 9, 0, 5, 4, 1, 8, 9, 2, 9, 5, 8, 9, 2, 2, 6,\n",
            "        7, 0, 7, 2, 1, 8, 4, 1, 8, 6, 5, 1, 9, 7, 1, 9, 4, 2, 9, 1, 9, 8, 3, 6,\n",
            "        9, 4, 6, 9, 4, 9, 6, 9, 2, 0, 3, 4, 5, 7, 4, 7, 4, 4, 1, 6, 2, 7, 7, 0,\n",
            "        1, 7, 1, 0, 9, 9, 8, 1, 9, 7, 3, 5, 8, 5, 5, 7, 0, 0, 1, 4, 1, 7, 3, 2,\n",
            "        5, 4, 0, 3])\n",
            "tensor([8, 5, 6, 6, 1, 9, 0, 7, 4, 6, 7, 9, 3, 2, 1, 5, 1, 0, 6, 3, 4, 8, 3, 0,\n",
            "        2, 1, 3, 8, 0, 1, 4, 9, 3, 9, 6, 0, 1, 7, 8, 1, 2, 2, 1, 7, 7, 4, 7, 4,\n",
            "        2, 7, 2, 3, 3, 3, 7, 7, 0, 3, 8, 3, 5, 2, 5, 3, 6, 3, 9, 1, 4, 6, 2, 4,\n",
            "        5, 2, 3, 9, 0, 3, 6, 9, 0, 3, 9, 1, 4, 4, 3, 9, 4, 2, 9, 3, 9, 7, 0, 3,\n",
            "        6, 2, 7, 4])\n",
            "tensor([8, 5, 6, 6, 1, 9, 0, 7, 4, 6, 7, 4, 3, 2, 1, 5, 1, 0, 6, 3, 4, 8, 3, 0,\n",
            "        2, 1, 3, 8, 0, 1, 4, 9, 3, 9, 6, 0, 1, 7, 8, 1, 2, 2, 1, 7, 7, 4, 7, 4,\n",
            "        2, 7, 2, 3, 3, 3, 7, 2, 0, 3, 8, 3, 5, 2, 5, 3, 6, 3, 9, 1, 4, 6, 2, 4,\n",
            "        5, 2, 3, 9, 0, 3, 6, 9, 0, 3, 9, 1, 4, 4, 3, 9, 4, 2, 9, 3, 9, 7, 0, 3,\n",
            "        6, 2, 7, 4])\n",
            "tensor([1, 7, 2, 6, 0, 8, 0, 4, 2, 3, 6, 6, 9, 4, 7, 7, 1, 3, 6, 4, 2, 1, 5, 8,\n",
            "        2, 2, 4, 3, 4, 9, 0, 5, 2, 1, 9, 9, 5, 2, 2, 4, 3, 5, 3, 5, 2, 6, 6, 4,\n",
            "        2, 8, 1, 3, 3, 1, 7, 5, 6, 8, 7, 6, 2, 8, 2, 1, 9, 9, 0, 4, 2, 6, 5, 1,\n",
            "        7, 8, 6, 6, 6, 5, 4, 1, 9, 5, 2, 2, 0, 2, 0, 5, 4, 5, 8, 3, 7, 1, 1, 9,\n",
            "        0, 6, 5, 4])\n",
            "tensor([1, 7, 2, 6, 0, 8, 0, 4, 2, 3, 6, 6, 9, 4, 7, 7, 1, 3, 6, 4, 2, 1, 5, 8,\n",
            "        2, 2, 4, 3, 4, 9, 0, 5, 2, 1, 9, 9, 5, 2, 2, 4, 3, 5, 3, 5, 2, 6, 6, 4,\n",
            "        2, 8, 1, 3, 3, 1, 7, 5, 6, 8, 7, 6, 2, 8, 2, 1, 7, 9, 0, 4, 2, 6, 5, 1,\n",
            "        7, 8, 6, 6, 6, 5, 4, 1, 9, 5, 2, 2, 0, 2, 0, 5, 4, 5, 8, 3, 7, 1, 1, 9,\n",
            "        0, 6, 5, 4])\n",
            "tensor([6, 6, 5, 0, 2, 5, 7, 0, 3, 1, 1, 1, 8, 1, 1, 0, 2, 2, 7, 4, 3, 0, 8, 9,\n",
            "        3, 6, 3, 5, 6, 3, 3, 2, 4, 8, 8, 7, 6, 1, 3, 3, 6, 1, 1, 9, 3, 2, 6, 7,\n",
            "        9, 2, 8, 8, 2, 0, 9, 8, 7, 0, 1, 7, 6, 3, 0, 7, 4, 0, 9, 6, 4, 2, 7, 4,\n",
            "        5, 5, 5, 2, 0, 4, 3, 8, 4, 6, 4, 1, 0, 4, 9, 8, 6, 8, 7, 5, 9, 2, 9, 3,\n",
            "        2, 2, 2, 7])\n",
            "tensor([6, 6, 5, 0, 2, 5, 7, 0, 3, 1, 1, 1, 8, 1, 1, 0, 2, 2, 7, 4, 3, 0, 8, 9,\n",
            "        3, 1, 3, 5, 6, 3, 3, 2, 4, 8, 8, 7, 6, 1, 3, 3, 6, 1, 1, 9, 3, 2, 6, 7,\n",
            "        9, 2, 8, 8, 2, 0, 9, 8, 7, 0, 1, 7, 6, 3, 0, 7, 4, 0, 9, 6, 4, 2, 7, 4,\n",
            "        5, 5, 5, 2, 0, 4, 3, 8, 4, 6, 4, 1, 0, 4, 9, 8, 6, 8, 7, 5, 9, 2, 9, 3,\n",
            "        2, 3, 2, 7])\n",
            "tensor([7, 5, 6, 3, 6, 4, 3, 5, 5, 3, 2, 5, 8, 0, 6, 8, 7, 6, 3, 7, 9, 6, 6, 3,\n",
            "        8, 7, 3, 0, 8, 7, 5, 0, 6, 3, 5, 6, 5, 9, 8, 2, 7, 0, 7, 3, 8, 9, 2, 5,\n",
            "        6, 7, 3, 3, 3, 6, 1, 3, 3, 7, 3, 1, 1, 1, 2, 1, 8, 5, 4, 1, 3, 1, 2, 4,\n",
            "        3, 8, 3, 6, 5, 1, 0, 0, 6, 4, 9, 1, 3, 1, 3, 6, 2, 6, 2, 2, 9, 0, 8, 0,\n",
            "        4, 9, 8, 7])\n",
            "tensor([7, 5, 6, 3, 6, 4, 3, 5, 5, 3, 2, 5, 8, 0, 6, 8, 7, 6, 3, 7, 9, 6, 6, 3,\n",
            "        8, 7, 3, 0, 8, 7, 5, 0, 6, 3, 5, 6, 5, 9, 8, 2, 7, 0, 7, 3, 8, 9, 2, 5,\n",
            "        6, 7, 3, 3, 3, 6, 1, 3, 3, 7, 3, 1, 1, 1, 2, 1, 8, 5, 4, 1, 5, 1, 2, 4,\n",
            "        3, 8, 3, 6, 5, 1, 0, 0, 6, 9, 9, 1, 3, 1, 3, 6, 2, 6, 2, 2, 9, 0, 8, 0,\n",
            "        4, 9, 8, 7])\n",
            "tensor([2, 3, 6, 5, 7, 6, 4, 8, 2, 1, 4, 9, 1, 3, 2, 9, 1, 7, 9, 0, 0, 1, 5, 1,\n",
            "        2, 8, 8, 2, 8, 6, 1, 7, 3, 4, 4, 9, 9, 8, 9, 0, 4, 7, 7, 8, 1, 3, 3, 2,\n",
            "        9, 3, 5, 4, 6, 9, 0, 7, 6, 2, 7, 0, 3, 2, 1, 9, 6, 7, 4, 5, 7, 9, 7, 2,\n",
            "        9, 8, 3, 3, 4, 9, 6, 4, 0, 1, 4, 2, 9, 8, 7, 9, 2, 9, 1, 2, 1, 3, 1, 8,\n",
            "        6, 4, 2, 0])\n",
            "tensor([2, 3, 6, 5, 7, 6, 4, 8, 2, 1, 4, 9, 1, 3, 2, 9, 1, 7, 9, 0, 0, 1, 5, 1,\n",
            "        2, 8, 8, 2, 8, 6, 1, 7, 3, 4, 4, 9, 9, 8, 9, 0, 4, 2, 7, 8, 1, 3, 3, 2,\n",
            "        9, 3, 5, 4, 6, 9, 0, 7, 6, 2, 7, 0, 3, 2, 1, 9, 6, 7, 4, 5, 7, 9, 7, 2,\n",
            "        9, 8, 3, 3, 4, 9, 6, 4, 0, 1, 4, 2, 9, 8, 7, 9, 2, 9, 1, 2, 1, 3, 1, 8,\n",
            "        6, 4, 2, 0])\n",
            "tensor([3, 4, 2, 7, 8, 3, 4, 5, 4, 5, 3, 1, 3, 8, 3, 5, 1, 7, 7, 6, 3, 7, 3, 7,\n",
            "        9, 8, 7, 1, 9, 7, 5, 4, 3, 4, 1, 1, 3, 6, 6, 3, 3, 5, 9, 2, 7, 8, 5, 5,\n",
            "        4, 1, 0, 4, 7, 9, 9, 9, 1, 0, 7, 7, 7, 4, 4, 7, 3, 7, 8, 2, 8, 3, 4, 3,\n",
            "        1, 5, 0, 5, 0, 3, 2, 7, 8, 6, 6, 0, 8, 8, 6, 4, 3, 4, 1, 6, 0, 4, 7, 1,\n",
            "        6, 7, 6, 7])\n",
            "tensor([3, 4, 2, 7, 8, 3, 4, 5, 4, 5, 3, 1, 3, 8, 3, 5, 1, 7, 7, 6, 3, 7, 3, 7,\n",
            "        9, 8, 7, 1, 9, 7, 5, 4, 3, 4, 1, 1, 3, 6, 6, 3, 3, 5, 9, 2, 7, 8, 5, 5,\n",
            "        4, 1, 0, 4, 7, 9, 9, 9, 1, 0, 7, 7, 7, 4, 4, 7, 3, 7, 8, 2, 8, 3, 4, 3,\n",
            "        1, 5, 0, 5, 6, 3, 7, 7, 8, 6, 6, 0, 8, 8, 6, 4, 3, 4, 1, 6, 0, 4, 7, 1,\n",
            "        6, 7, 6, 7])\n",
            "tensor([4, 8, 0, 0, 5, 8, 6, 5, 9, 1, 2, 0, 0, 4, 4, 6, 7, 4, 3, 5, 8, 7, 1, 2,\n",
            "        1, 3, 2, 8, 0, 1, 4, 4, 0, 3, 8, 3, 3, 6, 9, 3, 0, 9, 3, 2, 0, 7, 4, 9,\n",
            "        6, 3, 6, 2, 6, 9, 6, 6, 7, 3, 0, 4, 5, 1, 8, 8, 9, 7, 5, 9, 9, 8, 5, 4,\n",
            "        3, 3, 7, 7, 5, 3, 7, 1, 3, 1, 0, 0, 5, 1, 4, 1, 9, 2, 8, 1, 2, 9, 9, 5,\n",
            "        6, 8, 7, 8])\n",
            "tensor([4, 8, 2, 0, 5, 8, 6, 5, 9, 1, 2, 0, 0, 4, 4, 6, 7, 4, 3, 5, 8, 7, 1, 2,\n",
            "        7, 3, 1, 8, 0, 1, 4, 4, 0, 3, 8, 3, 3, 6, 9, 3, 0, 9, 3, 2, 0, 7, 4, 9,\n",
            "        6, 3, 6, 2, 6, 9, 6, 6, 7, 3, 0, 4, 5, 1, 8, 8, 9, 7, 5, 9, 9, 8, 5, 4,\n",
            "        3, 3, 7, 7, 5, 3, 7, 1, 3, 1, 0, 0, 5, 1, 4, 1, 9, 2, 8, 1, 2, 9, 9, 5,\n",
            "        6, 8, 7, 8])\n",
            "tensor([2, 8, 9, 3, 7, 7, 7, 0, 2, 3, 9, 3, 5, 9, 4, 0, 6, 7, 6, 9, 0, 1, 5, 1,\n",
            "        7, 7, 8, 9, 1, 1, 1, 3, 4, 5, 0, 8, 3, 0, 5, 6, 0, 2, 7, 9, 2, 8, 0, 6,\n",
            "        7, 6, 3, 9, 1, 2, 7, 5, 3, 1, 6, 9, 0, 1, 2, 9, 6, 6, 2, 3, 5, 5, 2, 6,\n",
            "        9, 2, 8, 3, 1, 1, 2, 3, 4, 9, 0, 5, 1, 7, 6, 9, 4, 1, 5, 5, 5, 9, 8, 6,\n",
            "        3, 1, 2, 2])\n",
            "tensor([2, 8, 9, 3, 7, 7, 7, 0, 2, 3, 9, 3, 9, 9, 4, 0, 6, 7, 6, 9, 0, 1, 5, 1,\n",
            "        7, 7, 8, 9, 1, 1, 1, 3, 4, 5, 0, 8, 3, 0, 5, 6, 0, 2, 7, 9, 2, 8, 0, 6,\n",
            "        7, 6, 3, 9, 1, 2, 7, 5, 3, 1, 6, 9, 0, 1, 2, 9, 6, 6, 2, 3, 5, 5, 2, 6,\n",
            "        9, 2, 8, 3, 1, 1, 2, 3, 4, 9, 0, 5, 1, 7, 6, 9, 4, 1, 1, 5, 5, 9, 8, 6,\n",
            "        3, 1, 2, 2])\n",
            "tensor([2, 4, 2, 3, 1, 1, 7, 6, 6, 9, 3, 5, 1, 4, 0, 4, 4, 3, 8, 5, 6, 5, 2, 9,\n",
            "        0, 5, 3, 8, 7, 9, 8, 1, 6, 5, 5, 3, 0, 2, 9, 0, 5, 2, 2, 2, 9, 9, 7, 6,\n",
            "        1, 1, 1, 6, 2, 2, 2, 8, 1, 8, 0, 5, 8, 8, 6, 4, 2, 3, 1, 3, 9, 1, 1, 5,\n",
            "        4, 7, 1, 9, 7, 4, 7, 9, 6, 3, 7, 4, 5, 3, 9, 7, 1, 7, 0, 8, 5, 4, 9, 1,\n",
            "        4, 6, 4, 6])\n",
            "tensor([2, 4, 2, 3, 1, 1, 7, 6, 6, 9, 3, 5, 1, 4, 0, 4, 4, 3, 8, 5, 6, 5, 2, 9,\n",
            "        0, 5, 3, 8, 7, 9, 8, 1, 6, 5, 5, 3, 0, 2, 9, 0, 5, 2, 2, 2, 9, 9, 7, 6,\n",
            "        1, 1, 1, 6, 2, 2, 2, 8, 1, 8, 0, 5, 8, 8, 6, 4, 2, 3, 1, 3, 9, 1, 1, 5,\n",
            "        4, 7, 1, 9, 7, 4, 7, 9, 6, 3, 7, 4, 5, 3, 9, 7, 1, 7, 0, 8, 5, 4, 9, 1,\n",
            "        4, 6, 4, 6])\n",
            "tensor([9, 4, 4, 4, 7, 1, 3, 6, 1, 4, 8, 6, 8, 1, 0, 1, 1, 5, 9, 9, 5, 2, 1, 8,\n",
            "        1, 7, 6, 1, 4, 1, 5, 6, 7, 8, 9, 7, 5, 7, 1, 2, 9, 9, 8, 5, 6, 9, 0, 3,\n",
            "        7, 6, 4, 8, 7, 4, 2, 5, 9, 0, 2, 2, 0, 4, 5, 7, 1, 2, 9, 0, 0, 1, 3, 6,\n",
            "        2, 5, 4, 7, 6, 3, 6, 2, 2, 3, 1, 3, 8, 4, 5, 9, 8, 1, 8, 7, 1, 0, 2, 3,\n",
            "        7, 4, 3, 4])\n",
            "tensor([9, 4, 4, 4, 7, 1, 3, 6, 1, 4, 8, 6, 8, 1, 0, 1, 1, 5, 9, 9, 5, 2, 1, 8,\n",
            "        1, 7, 6, 1, 4, 1, 5, 6, 7, 8, 9, 7, 5, 7, 1, 2, 9, 9, 8, 5, 0, 9, 0, 3,\n",
            "        7, 6, 4, 8, 7, 4, 2, 5, 9, 0, 2, 2, 0, 4, 5, 7, 1, 2, 9, 0, 0, 1, 3, 6,\n",
            "        2, 5, 4, 7, 6, 3, 6, 2, 2, 3, 1, 3, 8, 4, 5, 9, 8, 1, 8, 7, 1, 0, 2, 3,\n",
            "        7, 4, 3, 4])\n",
            "tensor([6, 2, 7, 2, 4, 0, 6, 4, 0, 8, 9, 0, 4, 0, 1, 9, 9, 5, 7, 5, 8, 9, 4, 4,\n",
            "        0, 2, 1, 0, 7, 0, 1, 1, 8, 1, 5, 8, 7, 5, 1, 6, 0, 7, 9, 9, 8, 8, 7, 2,\n",
            "        2, 6, 5, 8, 9, 2, 6, 2, 9, 7, 2, 1, 5, 1, 9, 0, 2, 4, 9, 9, 0, 8, 1, 0,\n",
            "        5, 0, 2, 6, 8, 3, 5, 7, 0, 0, 2, 4, 4, 9, 7, 9, 7, 4, 8, 6, 8, 2, 4, 9,\n",
            "        3, 0, 0, 6])\n",
            "tensor([6, 2, 7, 2, 4, 0, 6, 4, 0, 8, 9, 0, 4, 0, 1, 9, 9, 5, 7, 6, 8, 9, 4, 4,\n",
            "        0, 2, 1, 0, 7, 0, 1, 1, 8, 1, 5, 8, 7, 1, 1, 6, 0, 7, 9, 9, 8, 8, 7, 2,\n",
            "        2, 6, 5, 8, 9, 2, 6, 2, 9, 7, 2, 1, 5, 1, 9, 0, 2, 4, 9, 9, 0, 8, 1, 0,\n",
            "        5, 0, 2, 6, 8, 3, 5, 7, 0, 0, 2, 4, 4, 9, 7, 9, 7, 4, 8, 6, 8, 2, 4, 9,\n",
            "        3, 0, 0, 6])\n",
            "tensor([7, 1, 9, 0, 9, 2, 9, 2, 9, 4, 4, 2, 9, 6, 5, 9, 0, 5, 2, 4, 5, 7, 4, 7,\n",
            "        6, 5, 2, 1, 2, 2, 8, 8, 2, 6, 9, 3, 1, 5, 5, 7, 6, 6, 8, 0, 0, 8, 2, 4,\n",
            "        2, 1, 4, 0, 9, 4, 2, 7, 4, 7, 8, 9, 7, 9, 9, 3, 2, 1, 2, 3, 0, 4, 0, 0,\n",
            "        0, 7, 5, 1, 0, 6, 5, 6, 2, 5, 4, 3, 5, 6, 4, 9, 2, 9, 2, 7, 8, 6, 0, 9,\n",
            "        7, 1, 6, 6])\n",
            "tensor([7, 1, 9, 0, 9, 2, 9, 2, 9, 4, 4, 2, 9, 6, 5, 9, 0, 5, 2, 4, 5, 7, 4, 7,\n",
            "        6, 5, 2, 1, 2, 2, 8, 7, 2, 6, 9, 3, 6, 5, 5, 7, 6, 6, 8, 0, 0, 8, 2, 4,\n",
            "        2, 1, 4, 0, 9, 4, 2, 7, 4, 7, 8, 9, 7, 9, 9, 3, 2, 1, 2, 3, 0, 4, 0, 0,\n",
            "        0, 7, 5, 1, 0, 6, 5, 6, 2, 5, 4, 3, 5, 6, 4, 9, 2, 9, 2, 7, 8, 6, 0, 9,\n",
            "        7, 1, 6, 6])\n",
            "tensor([4, 3, 8, 8, 4, 6, 9, 3, 9, 2, 6, 2, 2, 0, 2, 6, 9, 8, 4, 7, 8, 6, 9, 9,\n",
            "        3, 7, 1, 8, 2, 3, 4, 6, 2, 0, 1, 2, 0, 1, 6, 5, 2, 9, 3, 6, 5, 6, 5, 4,\n",
            "        1, 5, 8, 2, 6, 7, 2, 5, 1, 3, 5, 6, 8, 2, 5, 5, 8, 8, 3, 7, 2, 6, 9, 0,\n",
            "        1, 6, 9, 9, 1, 5, 6, 2, 8, 7, 6, 6, 5, 3, 3, 6, 6, 1, 7, 3, 5, 5, 5, 2,\n",
            "        7, 0, 5, 1])\n",
            "tensor([4, 3, 8, 8, 4, 6, 9, 3, 9, 2, 6, 2, 2, 0, 2, 6, 9, 8, 4, 7, 8, 6, 9, 9,\n",
            "        3, 7, 1, 8, 2, 3, 4, 6, 2, 0, 1, 2, 0, 1, 6, 5, 2, 9, 3, 6, 5, 6, 5, 4,\n",
            "        1, 5, 8, 2, 6, 7, 2, 5, 1, 3, 5, 6, 8, 2, 5, 5, 8, 8, 3, 7, 2, 6, 9, 0,\n",
            "        1, 6, 9, 9, 1, 5, 6, 2, 8, 7, 6, 6, 5, 3, 3, 6, 6, 1, 7, 3, 5, 5, 5, 2,\n",
            "        7, 0, 5, 1])\n",
            "tensor([9, 1, 5, 0, 4, 6, 6, 7, 3, 9, 3, 3, 4, 2, 0, 5, 6, 0, 6, 8, 6, 7, 5, 5,\n",
            "        0, 5, 1, 6, 4, 0, 1, 9, 8, 1, 3, 6, 0, 4, 3, 4, 3, 5, 9, 7, 8, 1, 5, 6,\n",
            "        7, 9, 8, 4, 2, 5, 9, 3, 6, 7, 3, 4, 2, 8, 1, 4, 6, 6, 2, 5, 3, 2, 1, 9,\n",
            "        0, 1, 0, 8, 1, 5, 0, 0, 4, 5, 4, 6, 9, 4, 5, 9, 9, 8, 2, 2, 2, 6, 0, 1,\n",
            "        3, 7, 9, 0])\n",
            "tensor([9, 1, 5, 0, 4, 6, 6, 7, 3, 9, 3, 3, 9, 2, 0, 5, 6, 0, 6, 8, 6, 7, 5, 5,\n",
            "        0, 5, 1, 6, 4, 0, 1, 9, 8, 1, 3, 6, 0, 4, 3, 4, 3, 5, 9, 7, 8, 1, 5, 6,\n",
            "        7, 9, 8, 4, 2, 5, 9, 3, 6, 7, 3, 4, 2, 8, 1, 4, 6, 6, 2, 5, 3, 2, 1, 9,\n",
            "        0, 1, 0, 8, 1, 5, 0, 0, 4, 5, 4, 6, 9, 4, 5, 9, 9, 8, 2, 2, 2, 6, 0, 1,\n",
            "        3, 7, 9, 0])\n",
            "tensor([5, 2, 6, 5, 6, 9, 3, 5, 4, 6, 5, 9, 7, 7, 0, 8, 7, 7, 2, 1, 3, 5, 0, 0,\n",
            "        0, 3, 2, 5, 7, 7, 9, 6, 8, 6, 7, 2, 1, 6, 0, 1, 3, 0, 1, 5, 7, 5, 0, 1,\n",
            "        0, 4, 8, 9, 3, 8, 1, 4, 6, 0, 5, 0, 4, 1, 7, 2, 4, 4, 8, 5, 5, 6, 3, 4,\n",
            "        6, 9, 7, 8, 4, 7, 4, 4, 3, 9, 1, 2, 4, 8, 6, 3, 3, 2, 8, 3, 9, 3, 5, 8,\n",
            "        2, 8, 3, 9])\n",
            "tensor([5, 2, 6, 5, 6, 9, 3, 5, 4, 6, 5, 9, 7, 7, 0, 8, 7, 7, 2, 1, 3, 5, 0, 0,\n",
            "        0, 5, 2, 5, 7, 7, 9, 6, 8, 6, 7, 2, 1, 6, 0, 1, 3, 0, 1, 5, 7, 5, 0, 1,\n",
            "        0, 4, 8, 9, 3, 8, 1, 4, 6, 0, 5, 0, 4, 1, 7, 0, 4, 9, 8, 5, 5, 0, 3, 4,\n",
            "        6, 9, 7, 8, 4, 7, 4, 4, 3, 9, 1, 2, 4, 8, 6, 3, 3, 2, 8, 3, 7, 3, 5, 8,\n",
            "        2, 8, 3, 9])\n",
            "tensor([5, 9, 1, 2, 3, 5, 3, 5, 6, 4, 6, 1, 7, 3, 6, 5, 8, 1, 2, 1, 3, 4, 7, 6,\n",
            "        7, 9, 5, 7, 7, 3, 1, 0, 4, 6, 2, 1, 7, 1, 5, 5, 5, 7, 0, 3, 9, 7, 7, 0,\n",
            "        5, 2, 8, 2, 4, 8, 8, 1, 1, 1, 4, 4, 9, 8, 8, 3, 3, 7, 7, 9, 6, 3, 2, 7,\n",
            "        9, 5, 9, 7, 1, 2, 6, 3, 1, 6, 4, 1, 7, 2, 3, 8, 0, 6, 2, 8, 2, 1, 5, 3,\n",
            "        5, 0, 5, 2])\n",
            "tensor([5, 9, 1, 2, 3, 5, 3, 5, 6, 4, 6, 1, 7, 3, 6, 5, 8, 1, 2, 1, 3, 4, 7, 6,\n",
            "        7, 9, 5, 7, 7, 3, 1, 0, 4, 6, 2, 1, 7, 1, 5, 5, 5, 7, 0, 3, 9, 7, 7, 0,\n",
            "        5, 2, 8, 2, 4, 8, 8, 1, 1, 1, 4, 4, 9, 8, 8, 3, 3, 7, 7, 9, 6, 3, 2, 7,\n",
            "        9, 5, 9, 7, 1, 2, 6, 3, 1, 6, 4, 1, 7, 2, 3, 8, 0, 6, 2, 8, 2, 1, 5, 3,\n",
            "        5, 0, 5, 2])\n",
            "tensor([6, 1, 6, 4, 2, 4, 9, 3, 3, 9, 2, 7, 7, 4, 4, 7, 2, 4, 1, 0, 7, 8, 6, 5,\n",
            "        5, 6, 3, 7, 8, 2, 8, 5, 2, 1, 9, 6, 0, 7, 3, 8, 2, 9, 6, 5, 4, 5, 8, 6,\n",
            "        4, 0, 3, 9, 0, 7, 2, 2, 4, 5, 7, 1, 4, 1, 4, 8, 4, 6, 8, 5, 9, 3, 7, 4,\n",
            "        0, 5, 6, 7, 2, 5, 5, 3, 8, 7, 8, 6, 1, 8, 6, 4, 3, 2, 3, 0, 7, 1, 1, 2,\n",
            "        0, 1, 7, 3])\n",
            "tensor([6, 1, 6, 4, 2, 4, 5, 3, 3, 9, 2, 7, 7, 4, 4, 7, 2, 4, 1, 0, 7, 8, 6, 5,\n",
            "        5, 6, 3, 7, 8, 2, 8, 5, 2, 1, 9, 6, 0, 7, 3, 8, 2, 9, 6, 5, 4, 5, 8, 6,\n",
            "        4, 0, 3, 9, 0, 7, 2, 2, 4, 5, 7, 1, 4, 1, 4, 8, 4, 6, 8, 5, 9, 3, 7, 4,\n",
            "        0, 5, 6, 7, 2, 5, 5, 3, 8, 7, 8, 6, 1, 8, 6, 4, 3, 2, 3, 0, 7, 1, 1, 2,\n",
            "        0, 1, 7, 3])\n",
            "tensor([2, 9, 4, 8, 1, 2, 2, 7, 6, 8, 8, 9, 2, 4, 4, 6, 8, 1, 0, 2, 4, 3, 9, 4,\n",
            "        1, 0, 2, 2, 7, 5, 4, 1, 3, 2, 3, 7, 8, 4, 0, 1, 9, 4, 7, 3, 2, 3, 9, 1,\n",
            "        2, 8, 6, 9, 2, 4, 6, 8, 8, 3, 8, 3, 3, 2, 5, 3, 6, 1, 8, 9, 1, 1, 1, 2,\n",
            "        4, 0, 8, 4, 1, 3, 0, 0, 9, 1, 1, 0, 0, 6, 7, 7, 5, 4, 5, 4, 9, 8, 2, 8,\n",
            "        5, 0, 7, 6])\n",
            "tensor([2, 9, 4, 8, 1, 2, 2, 7, 6, 8, 8, 9, 2, 4, 4, 6, 8, 1, 0, 2, 4, 3, 9, 4,\n",
            "        1, 0, 2, 2, 7, 5, 4, 1, 3, 2, 3, 7, 8, 4, 0, 1, 9, 4, 7, 3, 2, 3, 9, 1,\n",
            "        2, 8, 6, 9, 2, 4, 6, 8, 8, 3, 8, 3, 3, 2, 5, 3, 6, 1, 8, 9, 1, 1, 1, 2,\n",
            "        4, 0, 8, 4, 1, 3, 0, 0, 9, 1, 1, 0, 0, 6, 7, 7, 5, 4, 5, 4, 9, 8, 2, 8,\n",
            "        5, 0, 7, 6])\n",
            "tensor([5, 6, 6, 5, 8, 9, 5, 0, 2, 0, 1, 7, 6, 3, 8, 3, 2, 0, 5, 6, 5, 9, 0, 9,\n",
            "        1, 9, 8, 9, 3, 4, 3, 1, 1, 2, 9, 8, 9, 5, 2, 2, 7, 9, 6, 1, 4, 9, 0, 0,\n",
            "        6, 4, 6, 9, 9, 0, 2, 2, 5, 3, 2, 2, 2, 4, 7, 2, 2, 4, 5, 9, 7, 6, 3, 5,\n",
            "        6, 5, 3, 0, 0, 8, 8, 4, 2, 8, 9, 9, 0, 5, 3, 7, 7, 6, 8, 7, 0, 7, 2, 0,\n",
            "        9, 1, 8, 1])\n",
            "tensor([5, 6, 6, 5, 8, 9, 5, 0, 2, 0, 1, 7, 6, 5, 8, 3, 2, 0, 5, 6, 5, 9, 0, 9,\n",
            "        1, 9, 8, 9, 3, 4, 3, 1, 1, 2, 9, 8, 9, 5, 0, 2, 7, 9, 6, 1, 4, 9, 0, 0,\n",
            "        6, 4, 6, 9, 9, 0, 2, 2, 5, 3, 2, 2, 2, 4, 7, 2, 2, 4, 5, 9, 7, 6, 3, 9,\n",
            "        6, 5, 3, 0, 0, 8, 8, 4, 2, 8, 9, 9, 0, 5, 3, 7, 7, 6, 8, 7, 0, 7, 2, 0,\n",
            "        9, 1, 8, 1])\n",
            "tensor([4, 6, 9, 1, 8, 8, 2, 7, 1, 0, 3, 2, 4, 6, 9, 5, 0, 5, 5, 8, 1, 7, 7, 9,\n",
            "        5, 2, 1, 2, 8, 1, 4, 7, 1, 2, 1, 2, 8, 6, 9, 3, 3, 8, 6, 0, 9, 1, 6, 9,\n",
            "        6, 3, 8, 8, 0, 2, 4, 3, 1, 3, 9, 4, 5, 8, 8, 4, 3, 0, 5, 1, 4, 1, 9, 8,\n",
            "        6, 9, 3, 7, 2, 4, 6, 1, 5, 7, 3, 8, 6, 8, 7, 2, 7, 8, 1, 7, 6, 1, 6, 8,\n",
            "        6, 5, 8, 0])\n",
            "tensor([4, 6, 9, 1, 8, 8, 2, 7, 1, 0, 3, 2, 4, 6, 9, 5, 0, 5, 5, 8, 1, 7, 7, 9,\n",
            "        5, 2, 1, 2, 8, 1, 4, 7, 1, 2, 1, 2, 8, 6, 9, 3, 3, 8, 6, 0, 9, 1, 6, 9,\n",
            "        6, 3, 8, 8, 0, 2, 4, 3, 1, 3, 9, 4, 5, 8, 8, 4, 3, 0, 5, 1, 4, 1, 9, 8,\n",
            "        6, 9, 3, 7, 2, 4, 6, 1, 5, 7, 3, 8, 6, 8, 7, 2, 7, 8, 1, 7, 6, 1, 6, 8,\n",
            "        6, 5, 8, 0])\n",
            "tensor([7, 3, 1, 0, 5, 8, 0, 9, 2, 7, 9, 6, 3, 8, 7, 3, 1, 8, 6, 9, 9, 4, 2, 0,\n",
            "        9, 8, 5, 4, 9, 1, 9, 6, 1, 5, 1, 6, 2, 8, 6, 0, 0, 3, 6, 9, 1, 5, 5, 0,\n",
            "        7, 5, 8, 8, 8, 8, 4, 4, 3, 2, 9, 3, 1, 1, 8, 8, 4, 5, 7, 2, 8, 6, 2, 9,\n",
            "        8, 2, 9, 6, 9, 8, 6, 7, 7, 4, 3, 1, 9, 8, 1, 0, 7, 5, 5, 4, 8, 8, 5, 3,\n",
            "        3, 0, 6, 2])\n",
            "tensor([7, 3, 1, 0, 5, 8, 0, 9, 2, 7, 9, 6, 3, 8, 7, 3, 1, 8, 6, 9, 9, 4, 2, 0,\n",
            "        9, 8, 5, 4, 9, 1, 9, 6, 1, 5, 1, 6, 2, 8, 6, 0, 0, 3, 6, 9, 1, 5, 5, 0,\n",
            "        7, 6, 8, 8, 7, 8, 4, 4, 5, 2, 9, 3, 1, 1, 8, 8, 4, 5, 7, 2, 8, 6, 2, 9,\n",
            "        8, 2, 9, 6, 9, 8, 6, 7, 7, 4, 3, 1, 9, 8, 1, 0, 7, 5, 5, 4, 8, 8, 5, 3,\n",
            "        3, 0, 6, 2])\n",
            "tensor([0, 8, 1, 3, 9, 7, 7, 0, 2, 3, 7, 8, 1, 5, 1, 3, 6, 2, 2, 0, 5, 4, 6, 3,\n",
            "        6, 4, 4, 0, 8, 3, 5, 9, 8, 9, 8, 6, 9, 6, 3, 8, 7, 2, 3, 0, 4, 4, 9, 6,\n",
            "        5, 1, 6, 4, 2, 2, 6, 5, 7, 3, 3, 0, 1, 8, 1, 6, 9, 3, 6, 7, 5, 5, 8, 6,\n",
            "        9, 6, 0, 3, 9, 7, 8, 1, 3, 2, 1, 8, 3, 3, 3, 8, 9, 1, 3, 5, 5, 2, 9, 7,\n",
            "        8, 2, 8, 9])\n",
            "tensor([0, 8, 1, 3, 9, 7, 7, 0, 2, 3, 7, 8, 1, 5, 1, 3, 6, 2, 2, 0, 5, 4, 6, 3,\n",
            "        6, 4, 4, 0, 8, 3, 5, 9, 8, 9, 8, 6, 9, 6, 3, 7, 7, 2, 3, 0, 4, 4, 9, 6,\n",
            "        5, 1, 6, 4, 2, 2, 6, 5, 7, 3, 3, 0, 1, 8, 1, 6, 9, 3, 6, 7, 5, 5, 8, 0,\n",
            "        9, 6, 0, 3, 9, 7, 8, 1, 3, 2, 1, 8, 3, 3, 3, 8, 9, 1, 3, 5, 5, 2, 9, 7,\n",
            "        8, 2, 8, 9])\n",
            "tensor([1, 4, 9, 1, 7, 5, 1, 9, 3, 2, 9, 3, 0, 4, 9, 7, 3, 5, 4, 1, 6, 5, 3, 3,\n",
            "        7, 7, 1, 9, 8, 2, 4, 8, 3, 7, 1, 8, 0, 4, 3, 7, 9, 7, 0, 0, 2, 0, 5, 7,\n",
            "        0, 0, 3, 2, 1, 0, 1, 8, 1, 2, 1, 0, 6, 4, 8, 0, 4, 8, 9, 0, 0, 5, 2, 2,\n",
            "        0, 8, 7, 8, 5, 6, 2, 8, 9, 1, 6, 9, 7, 6, 4, 3, 5, 6, 7, 6, 7, 6, 7, 0,\n",
            "        4, 0, 0, 6])\n",
            "tensor([1, 4, 9, 1, 7, 5, 1, 9, 3, 2, 9, 3, 0, 4, 9, 7, 3, 5, 4, 1, 6, 5, 3, 3,\n",
            "        7, 7, 1, 9, 8, 2, 4, 8, 3, 7, 1, 8, 0, 4, 3, 7, 9, 7, 0, 0, 2, 0, 5, 7,\n",
            "        0, 0, 3, 2, 1, 0, 1, 8, 1, 2, 1, 0, 6, 4, 8, 0, 4, 8, 9, 0, 0, 5, 2, 2,\n",
            "        0, 8, 7, 8, 5, 6, 2, 8, 9, 1, 6, 9, 7, 6, 9, 3, 5, 6, 7, 6, 7, 6, 7, 0,\n",
            "        4, 0, 0, 6])\n",
            "tensor([8, 3, 5, 6, 4, 6, 8, 3, 3, 0, 2, 0, 3, 7, 1, 2, 8, 2, 5, 4, 4, 5, 4, 7,\n",
            "        5, 7, 7, 3, 1, 7, 8, 4, 2, 0, 5, 1, 3, 9, 0, 5, 9, 3, 5, 3, 1, 5, 9, 3,\n",
            "        7, 7, 0, 3, 4, 4, 6, 7, 2, 1, 4, 1, 4, 0, 7, 8, 9, 5, 2, 9, 6, 0, 8, 5,\n",
            "        7, 2, 7, 6, 2, 7, 6, 8, 9, 1, 1, 0, 3, 3, 1, 7, 1, 7, 6, 4, 9, 7, 9, 4,\n",
            "        7, 4, 8, 0])\n",
            "tensor([8, 3, 5, 6, 4, 6, 8, 3, 3, 0, 2, 0, 3, 7, 1, 2, 8, 2, 5, 4, 9, 5, 4, 7,\n",
            "        5, 7, 7, 3, 1, 7, 8, 4, 2, 0, 5, 1, 3, 9, 0, 5, 9, 3, 5, 3, 1, 5, 9, 3,\n",
            "        7, 7, 0, 3, 4, 4, 6, 7, 2, 1, 4, 1, 4, 0, 7, 8, 9, 5, 2, 9, 6, 0, 8, 5,\n",
            "        7, 2, 7, 6, 2, 7, 6, 8, 9, 1, 1, 0, 3, 5, 1, 7, 1, 7, 6, 4, 9, 7, 9, 4,\n",
            "        7, 4, 8, 0])\n",
            "tensor([8, 8, 1, 8, 9, 5, 1, 1, 4, 5, 0, 1, 2, 4, 0, 8, 7, 3, 7, 3, 1, 5, 1, 3,\n",
            "        4, 2, 5, 5, 5, 5, 0, 8, 0, 9, 5, 4, 0, 0, 1, 3, 7, 9, 3, 0, 0, 6, 1, 1,\n",
            "        0, 8, 7, 2, 3, 4, 6, 1, 4, 8, 7, 3, 1, 6, 6, 1, 6, 3, 1, 5, 1, 5, 9, 1,\n",
            "        7, 0, 6, 0, 9, 8, 7, 9, 1, 1, 6, 2, 6, 3, 3, 2, 9, 6, 8, 1, 5, 2, 9, 7,\n",
            "        8, 8, 1, 3])\n",
            "tensor([8, 8, 1, 8, 9, 5, 1, 1, 4, 5, 0, 1, 2, 4, 0, 8, 7, 3, 7, 3, 1, 5, 1, 3,\n",
            "        4, 2, 5, 5, 5, 5, 0, 8, 0, 9, 5, 4, 0, 0, 1, 3, 7, 9, 3, 0, 0, 6, 1, 1,\n",
            "        0, 8, 7, 2, 3, 4, 6, 1, 4, 8, 7, 3, 1, 6, 6, 1, 6, 9, 1, 5, 1, 5, 9, 2,\n",
            "        7, 0, 6, 0, 9, 8, 7, 9, 1, 1, 6, 8, 6, 3, 3, 2, 9, 6, 8, 1, 5, 2, 9, 7,\n",
            "        8, 8, 1, 3])\n",
            "tensor([1, 2, 4, 5, 5, 9, 7, 4, 6, 3, 2, 2, 9, 2, 5, 6, 2, 0, 0, 0, 0, 2, 1, 8,\n",
            "        7, 5, 2, 8, 5, 6, 3, 7, 1, 8, 5, 3, 9, 1, 7, 4, 7, 9, 7, 3, 1, 0, 8, 3,\n",
            "        4, 8, 8, 3, 4, 5, 5, 9, 5, 1, 4, 9, 2, 3, 1, 7, 3, 7, 9, 5, 9, 3, 9, 6,\n",
            "        6, 7, 9, 0, 4, 6, 7, 8, 3, 1, 3, 1, 7, 2, 4, 3, 7, 2, 4, 8, 7, 0, 4, 5,\n",
            "        1, 8, 0, 8])\n",
            "tensor([1, 2, 4, 5, 5, 9, 7, 4, 6, 3, 2, 2, 9, 2, 5, 6, 2, 0, 0, 0, 0, 2, 1, 8,\n",
            "        7, 5, 2, 8, 5, 6, 3, 7, 1, 8, 5, 3, 9, 1, 7, 4, 7, 9, 7, 3, 1, 0, 8, 3,\n",
            "        4, 8, 8, 3, 4, 5, 5, 5, 5, 1, 4, 9, 2, 3, 1, 7, 3, 7, 9, 5, 9, 3, 9, 6,\n",
            "        6, 7, 9, 0, 4, 6, 7, 8, 3, 1, 3, 1, 7, 2, 4, 3, 7, 2, 4, 8, 7, 0, 4, 5,\n",
            "        1, 8, 0, 8])\n",
            "tensor([1, 5, 1, 6, 3, 3, 9, 9, 3, 3, 5, 1, 3, 0, 2, 4, 8, 8, 1, 0, 5, 7, 8, 4,\n",
            "        7, 8, 8, 9, 3, 8, 6, 1, 3, 0, 5, 7, 1, 4, 2, 7, 1, 9, 9, 5, 7, 8, 8, 0,\n",
            "        0, 6, 3, 3, 2, 3, 3, 3, 5, 7, 6, 5, 9, 7, 6, 1, 0, 1, 1, 4, 4, 7, 2, 4,\n",
            "        5, 2, 8, 2, 7, 6, 9, 6, 8, 5, 2, 9, 0, 8, 8, 0, 9, 3, 4, 3, 6, 2, 4, 0,\n",
            "        1, 1, 4, 5])\n",
            "tensor([1, 5, 6, 6, 3, 3, 9, 9, 3, 3, 6, 1, 3, 0, 2, 4, 8, 8, 1, 0, 5, 7, 8, 4,\n",
            "        7, 8, 8, 9, 3, 8, 6, 1, 3, 0, 5, 7, 1, 4, 2, 7, 1, 9, 9, 5, 7, 8, 8, 0,\n",
            "        0, 6, 3, 3, 2, 3, 3, 3, 5, 7, 6, 5, 9, 7, 6, 1, 0, 1, 1, 4, 4, 7, 2, 4,\n",
            "        5, 2, 8, 2, 7, 6, 9, 6, 8, 5, 2, 9, 0, 8, 8, 0, 9, 3, 4, 3, 6, 2, 4, 0,\n",
            "        1, 1, 4, 5])\n",
            "tensor([9, 2, 8, 7, 5, 7, 8, 4, 2, 2, 4, 8, 4, 8, 0, 1, 7, 1, 9, 0, 2, 7, 3, 9,\n",
            "        9, 9, 8, 1, 3, 2, 8, 1, 4, 4, 1, 1, 2, 8, 2, 8, 3, 5, 0, 7, 7, 6, 8, 5,\n",
            "        7, 9, 3, 3, 4, 5, 9, 4, 6, 2, 9, 7, 5, 9, 7, 6, 9, 1, 0, 1, 9, 3, 5, 7,\n",
            "        2, 8, 6, 1, 4, 5, 0, 6, 7, 2, 9, 5, 9, 6, 3, 6, 5, 7, 7, 6, 0, 0, 7, 3,\n",
            "        9, 7, 0, 6])\n",
            "tensor([9, 2, 8, 7, 5, 7, 8, 4, 2, 2, 4, 8, 4, 8, 0, 1, 7, 1, 9, 0, 2, 7, 3, 9,\n",
            "        9, 9, 8, 1, 3, 2, 8, 1, 4, 4, 1, 1, 2, 8, 2, 8, 3, 5, 0, 7, 7, 6, 8, 5,\n",
            "        7, 9, 3, 3, 4, 5, 9, 4, 6, 2, 9, 7, 5, 9, 7, 6, 9, 1, 0, 1, 9, 3, 5, 7,\n",
            "        2, 8, 6, 1, 4, 5, 0, 6, 7, 2, 9, 5, 9, 6, 3, 6, 5, 7, 7, 6, 0, 0, 7, 3,\n",
            "        9, 7, 0, 6])\n",
            "tensor([3, 0, 6, 6, 6, 2, 4, 3, 6, 2, 4, 6, 9, 1, 8, 8, 2, 3, 7, 8, 0, 5, 6, 2,\n",
            "        9, 4, 5, 6, 0, 7, 0, 0, 0, 8, 9, 4, 2, 9, 7, 3, 5, 1, 9, 7, 5, 0, 9, 4,\n",
            "        4, 3, 5, 4, 4, 6, 5, 2, 0, 1, 5, 5, 4, 3, 9, 3, 8, 0, 3, 2, 0, 1, 1, 0,\n",
            "        7, 4, 8, 5, 3, 0, 9, 9, 0, 2, 4, 1, 7, 2, 1, 3, 3, 6, 4, 0, 6, 6, 4, 3,\n",
            "        8, 6, 8, 9])\n",
            "tensor([3, 0, 6, 6, 6, 2, 4, 3, 6, 2, 4, 6, 9, 1, 8, 8, 2, 3, 7, 8, 0, 5, 6, 2,\n",
            "        9, 4, 5, 6, 0, 7, 0, 0, 0, 8, 9, 4, 2, 9, 7, 3, 5, 1, 9, 7, 5, 0, 9, 4,\n",
            "        4, 3, 5, 4, 4, 6, 5, 2, 0, 1, 5, 5, 4, 3, 9, 3, 8, 0, 3, 2, 0, 1, 1, 0,\n",
            "        7, 4, 8, 5, 3, 0, 9, 9, 0, 2, 4, 1, 7, 6, 1, 3, 3, 6, 4, 0, 6, 6, 4, 3,\n",
            "        8, 6, 8, 9])\n",
            "tensor([1, 4, 4, 5, 5, 2, 8, 4, 3, 2, 6, 0, 1, 5, 6, 2, 0, 1, 2, 4, 3, 3, 5, 1,\n",
            "        5, 8, 0, 7, 2, 7, 4, 5, 3, 3, 7, 3, 1, 7, 7, 6, 4, 5, 1, 6, 2, 1, 8, 8,\n",
            "        5, 0, 4, 7, 4, 3, 2, 1, 5, 1, 1, 0, 6, 5, 4, 1, 3, 9, 9, 2, 5, 4, 1, 0,\n",
            "        3, 5, 0, 2, 7, 6, 7, 6, 8, 8, 2, 5, 4, 7, 7, 7, 4, 6, 4, 0, 3, 3, 5, 4,\n",
            "        9, 1, 1, 7])\n",
            "tensor([1, 4, 4, 5, 5, 2, 8, 4, 3, 2, 6, 0, 1, 5, 6, 2, 0, 1, 2, 4, 3, 3, 5, 1,\n",
            "        5, 8, 0, 7, 2, 7, 4, 5, 3, 3, 7, 3, 1, 7, 7, 6, 4, 5, 1, 6, 2, 1, 8, 8,\n",
            "        5, 0, 4, 7, 4, 3, 2, 1, 5, 1, 1, 0, 6, 5, 4, 1, 3, 9, 9, 2, 5, 4, 1, 0,\n",
            "        3, 5, 0, 2, 7, 6, 7, 6, 8, 8, 2, 5, 4, 7, 7, 7, 4, 6, 4, 0, 3, 3, 5, 4,\n",
            "        9, 1, 1, 7])\n",
            "tensor([0, 9, 8, 2, 0, 5, 6, 5, 0, 5, 1, 8, 9, 0, 2, 0, 5, 7, 3, 8, 6, 2, 1, 5,\n",
            "        6, 9, 5, 5, 2, 1, 7, 7, 7, 4, 0, 4, 7, 4, 3, 6, 2, 3, 4, 7, 5, 7, 9, 8,\n",
            "        8, 4, 7, 7, 9, 5, 7, 6, 0, 3, 9, 1, 5, 6, 1, 1, 0, 8, 7, 4, 7, 0, 3, 9,\n",
            "        4, 0, 4, 4, 7, 1, 3, 0, 3, 4, 6, 9, 3, 8, 3, 8, 9, 1, 3, 3, 2, 8, 2, 9,\n",
            "        2, 1, 8, 1])\n",
            "tensor([0, 9, 8, 2, 0, 5, 6, 5, 0, 5, 1, 8, 9, 0, 2, 0, 5, 7, 3, 8, 6, 2, 1, 6,\n",
            "        6, 9, 5, 5, 2, 1, 7, 7, 7, 4, 0, 4, 7, 4, 3, 6, 2, 3, 4, 7, 5, 7, 9, 8,\n",
            "        8, 4, 7, 7, 9, 5, 7, 6, 0, 3, 9, 1, 5, 6, 1, 1, 0, 8, 7, 4, 7, 0, 3, 9,\n",
            "        4, 0, 4, 4, 7, 1, 3, 0, 3, 4, 6, 9, 3, 0, 3, 8, 9, 1, 3, 3, 2, 8, 2, 9,\n",
            "        2, 1, 8, 1])\n",
            "tensor([0, 6, 6, 3, 4, 0, 7, 5, 9, 4, 2, 7, 0, 0, 6, 8, 8, 5, 3, 2, 2, 5, 0, 6,\n",
            "        4, 5, 5, 5, 9, 1, 1, 9, 9, 5, 7, 6, 9, 1, 3, 3, 6, 9, 1, 3, 3, 6, 7, 5,\n",
            "        0, 9, 2, 3, 6, 8, 0, 5, 4, 6, 9, 1, 9, 6, 2, 0, 5, 3, 2, 3, 9, 2, 7, 0,\n",
            "        4, 7, 1, 1, 7, 7, 2, 7, 7, 9, 3, 0, 6, 5, 7, 8, 1, 7, 6, 5, 0, 4, 5, 3,\n",
            "        7, 8, 1, 6])\n",
            "tensor([0, 6, 6, 3, 4, 0, 7, 5, 9, 4, 2, 7, 0, 0, 6, 8, 8, 5, 3, 2, 2, 5, 0, 6,\n",
            "        4, 5, 5, 5, 9, 1, 1, 9, 9, 5, 7, 6, 9, 1, 3, 3, 6, 5, 1, 3, 3, 6, 7, 5,\n",
            "        0, 9, 2, 3, 6, 4, 0, 5, 4, 6, 9, 1, 9, 6, 2, 0, 5, 3, 2, 3, 9, 2, 7, 0,\n",
            "        4, 7, 1, 1, 2, 7, 2, 7, 7, 9, 3, 0, 4, 5, 7, 8, 1, 7, 6, 5, 0, 4, 5, 3,\n",
            "        7, 8, 1, 6])\n",
            "tensor([9, 0, 4, 8, 1, 1, 4, 5, 2, 4, 0, 5, 3, 2, 0, 9, 3, 1, 4, 0, 0, 6, 7, 9,\n",
            "        6, 9, 9, 3, 2, 9, 0, 1, 2, 1, 7, 1, 8, 7, 2, 9, 2, 0, 5, 6, 5, 6, 1, 2,\n",
            "        1, 8, 9, 7, 0, 8, 9, 2, 8, 1, 9, 8, 8, 2, 1, 9, 9, 3, 0, 9, 7, 6, 8, 6,\n",
            "        2, 0, 8, 5, 2, 0, 1, 4, 3, 4, 7, 8, 5, 2, 9, 4, 5, 9, 3, 9, 1, 5, 8, 1,\n",
            "        4, 8, 6, 0])\n",
            "tensor([9, 0, 4, 8, 1, 1, 4, 5, 2, 4, 0, 5, 3, 2, 0, 9, 3, 1, 4, 0, 0, 6, 7, 9,\n",
            "        6, 9, 9, 3, 2, 9, 0, 1, 2, 1, 7, 1, 8, 7, 2, 9, 2, 0, 5, 6, 5, 6, 1, 2,\n",
            "        1, 8, 9, 7, 0, 8, 9, 2, 8, 1, 9, 8, 8, 2, 1, 9, 9, 3, 0, 9, 7, 6, 8, 6,\n",
            "        2, 0, 8, 5, 2, 0, 1, 4, 3, 4, 7, 8, 5, 2, 9, 4, 5, 9, 3, 9, 1, 5, 7, 1,\n",
            "        4, 8, 6, 0])\n",
            "tensor([0, 5, 0, 2, 0, 8, 5, 4, 5, 9, 1, 3, 3, 6, 7, 5, 3, 8, 3, 3, 6, 0, 0, 3,\n",
            "        2, 2, 6, 3, 4, 0, 6, 2, 9, 9, 1, 1, 3, 0, 4, 7, 9, 5, 1, 9, 0, 5, 0, 3,\n",
            "        8, 7, 9, 8, 7, 9, 0, 6, 3, 7, 3, 7, 4, 5, 3, 5, 0, 3, 2, 1, 8, 6, 2, 4,\n",
            "        5, 7, 1, 6, 3, 2, 2, 3, 1, 8, 6, 3, 3, 4, 8, 0, 3, 2, 7, 2, 4, 1, 9, 4,\n",
            "        9, 1, 6, 8])\n",
            "tensor([0, 5, 0, 2, 0, 8, 5, 4, 5, 7, 1, 3, 3, 6, 7, 5, 3, 8, 3, 3, 6, 0, 0, 3,\n",
            "        2, 2, 6, 3, 4, 0, 6, 2, 9, 9, 1, 1, 3, 0, 4, 7, 9, 5, 1, 9, 0, 5, 0, 3,\n",
            "        8, 7, 9, 8, 7, 9, 0, 6, 3, 7, 3, 7, 4, 5, 3, 5, 0, 3, 2, 1, 8, 6, 2, 4,\n",
            "        5, 7, 1, 6, 3, 2, 2, 3, 1, 8, 6, 3, 3, 4, 8, 0, 3, 2, 7, 2, 4, 1, 9, 4,\n",
            "        9, 1, 6, 8])\n",
            "tensor([4, 8, 2, 9, 2, 0, 3, 2, 1, 1, 8, 0, 8, 2, 5, 4, 0, 0, 4, 9, 2, 9, 1, 3,\n",
            "        1, 8, 0, 5, 1, 8, 0, 5, 8, 0, 0, 2, 3, 9, 9, 5, 3, 5, 4, 4, 8, 1, 8, 3,\n",
            "        9, 8, 4, 9, 9, 6, 5, 0, 0, 6, 1, 7, 5, 0, 1, 9, 9, 6, 2, 5, 6, 8, 1, 6,\n",
            "        6, 2, 0, 3, 8, 3, 7, 6, 2, 1, 7, 5, 0, 3, 9, 2, 6, 0, 7, 5, 9, 7, 1, 2,\n",
            "        6, 6, 8, 4])\n",
            "tensor([4, 8, 2, 9, 2, 0, 3, 2, 1, 1, 8, 0, 8, 2, 5, 4, 0, 0, 4, 9, 2, 9, 1, 3,\n",
            "        1, 8, 0, 5, 1, 8, 0, 5, 8, 0, 0, 2, 3, 9, 9, 5, 3, 5, 4, 4, 8, 1, 8, 3,\n",
            "        9, 8, 4, 9, 9, 6, 5, 0, 0, 6, 1, 7, 5, 0, 1, 9, 9, 6, 2, 5, 6, 8, 1, 6,\n",
            "        6, 2, 0, 3, 8, 3, 7, 6, 2, 1, 7, 5, 0, 3, 9, 2, 6, 0, 7, 5, 9, 7, 1, 2,\n",
            "        5, 6, 8, 4])\n",
            "tensor([8, 7, 9, 0, 6, 5, 1, 2, 4, 3, 2, 1, 6, 2, 0, 2, 1, 0, 1, 3, 2, 2, 0, 8,\n",
            "        3, 8, 1, 2, 1, 2, 2, 1, 9, 0, 4, 4, 0, 8, 6, 3, 8, 0, 9, 6, 6, 5, 0, 1,\n",
            "        3, 0, 0, 2, 8, 7, 6, 1, 6, 2, 4, 3, 7, 1, 1, 7, 8, 0, 8, 3, 0, 7, 2, 4,\n",
            "        2, 0, 8, 4, 3, 7, 9, 0, 3, 7, 6, 8, 0, 4, 8, 1, 5, 4, 0, 1, 3, 0, 6, 6,\n",
            "        4, 7, 8, 8])\n",
            "tensor([8, 7, 9, 0, 6, 5, 1, 2, 4, 3, 2, 1, 6, 2, 0, 2, 1, 0, 1, 3, 2, 2, 0, 8,\n",
            "        3, 8, 1, 2, 1, 2, 2, 1, 9, 0, 4, 4, 0, 8, 6, 3, 8, 0, 9, 6, 6, 5, 0, 1,\n",
            "        3, 0, 0, 2, 8, 7, 6, 1, 6, 2, 4, 3, 7, 1, 1, 7, 8, 0, 8, 3, 0, 7, 2, 4,\n",
            "        2, 0, 8, 4, 3, 7, 9, 0, 3, 7, 6, 2, 0, 4, 8, 1, 5, 4, 0, 1, 3, 0, 6, 6,\n",
            "        4, 7, 8, 8])\n",
            "tensor([3, 3, 1, 5, 0, 2, 2, 3, 0, 3, 3, 1, 2, 2, 2, 0, 3, 2, 0, 4, 0, 9, 1, 5,\n",
            "        8, 8, 3, 5, 1, 9, 5, 2, 9, 6, 3, 2, 5, 2, 9, 3, 9, 1, 4, 4, 9, 0, 2, 4,\n",
            "        9, 5, 4, 2, 6, 7, 1, 3, 1, 9, 9, 6, 5, 1, 8, 6, 7, 7, 9, 6, 1, 9, 7, 2,\n",
            "        6, 6, 0, 6, 6, 2, 0, 6, 7, 4, 6, 2, 0, 3, 1, 9, 1, 1, 4, 1, 8, 1, 4, 7,\n",
            "        1, 9, 9, 5])\n",
            "tensor([3, 3, 1, 5, 0, 2, 2, 3, 0, 3, 3, 1, 2, 2, 2, 0, 3, 2, 0, 4, 0, 9, 1, 5,\n",
            "        8, 8, 3, 5, 1, 9, 5, 1, 9, 6, 3, 2, 5, 2, 9, 3, 9, 1, 4, 4, 9, 0, 2, 4,\n",
            "        9, 5, 4, 2, 6, 7, 1, 3, 1, 9, 9, 6, 5, 1, 8, 6, 7, 7, 9, 6, 1, 4, 7, 2,\n",
            "        6, 6, 0, 6, 6, 2, 0, 6, 7, 4, 6, 2, 0, 3, 1, 9, 1, 1, 4, 1, 8, 1, 4, 7,\n",
            "        1, 9, 9, 5])\n",
            "tensor([1, 5, 3, 8, 3, 5, 0, 1, 2, 7, 7, 6, 7, 3, 5, 0, 7, 1, 3, 2, 5, 0, 4, 0,\n",
            "        5, 9, 1, 1, 9, 4, 2, 0, 7, 6, 4, 9, 2, 8, 9, 7, 8, 9, 9, 0, 9, 4, 4, 0,\n",
            "        3, 7, 8, 4, 2, 4, 3, 2, 4, 0, 4, 4, 2, 4, 9, 2, 2, 8, 1, 0, 5, 0, 6, 8,\n",
            "        9, 1, 6, 0, 0, 7, 9, 4, 3, 4, 4, 8, 8, 2, 5, 5, 2, 7, 5, 8, 5, 6, 7, 3,\n",
            "        3, 4, 0, 2])\n",
            "tensor([1, 5, 3, 8, 3, 5, 0, 1, 2, 7, 9, 6, 7, 3, 5, 0, 7, 1, 3, 2, 5, 0, 4, 0,\n",
            "        5, 9, 1, 1, 9, 4, 2, 0, 7, 6, 4, 9, 2, 8, 4, 7, 8, 9, 9, 0, 9, 4, 4, 0,\n",
            "        3, 7, 8, 4, 2, 4, 3, 2, 4, 0, 4, 4, 2, 4, 9, 2, 2, 8, 1, 0, 5, 0, 6, 8,\n",
            "        9, 1, 6, 0, 0, 7, 9, 4, 3, 4, 4, 8, 8, 2, 5, 5, 2, 2, 5, 8, 5, 6, 7, 3,\n",
            "        3, 4, 0, 2])\n",
            "tensor([3, 6, 1, 4, 1, 4, 3, 8, 2, 2, 9, 1, 7, 5, 2, 2, 6, 0, 0, 5, 8, 6, 2, 8,\n",
            "        7, 2, 8, 1, 2, 1, 0, 9, 0, 1, 5, 0, 1, 2, 9, 1, 4, 5, 9, 2, 6, 9, 2, 0,\n",
            "        5, 2, 0, 7, 6, 8, 0, 8, 2, 8, 8, 1, 7, 1, 5, 8, 0, 7, 8, 3, 6, 4, 4, 3,\n",
            "        1, 7, 8, 1, 9, 7, 2, 6, 5, 4, 4, 1, 6, 0, 6, 2, 1, 6, 4, 3, 1, 7, 6, 5,\n",
            "        3, 3, 9, 2])\n",
            "tensor([3, 6, 1, 4, 1, 4, 3, 8, 2, 2, 9, 1, 7, 5, 2, 2, 6, 0, 0, 5, 8, 6, 2, 8,\n",
            "        7, 2, 8, 1, 2, 1, 0, 9, 0, 1, 5, 0, 1, 2, 9, 1, 4, 5, 9, 2, 6, 9, 2, 0,\n",
            "        5, 2, 0, 7, 6, 8, 0, 8, 2, 8, 8, 1, 7, 1, 5, 8, 0, 7, 8, 3, 6, 4, 4, 3,\n",
            "        1, 7, 8, 1, 9, 7, 2, 6, 5, 4, 4, 1, 6, 0, 6, 2, 1, 6, 4, 3, 1, 7, 6, 5,\n",
            "        3, 3, 9, 2])\n",
            "tensor([1, 2, 4, 7, 0, 9, 4, 5, 7, 7, 9, 1, 1, 5, 4, 6, 1, 4, 6, 3, 6, 8, 8, 0,\n",
            "        6, 0, 6, 2, 0, 9, 7, 2, 3, 1, 3, 0, 3, 2, 4, 4, 3, 3, 6, 4, 3, 9, 6, 2,\n",
            "        1, 2, 9, 0, 1, 8, 2, 9, 7, 6, 1, 9, 2, 0, 9, 0, 9, 6, 4, 7, 7, 6, 2, 2,\n",
            "        7, 0, 7, 8, 8, 1, 5, 5, 4, 2, 4, 2, 5, 1, 2, 2, 8, 0, 3, 9, 0, 8, 4, 8,\n",
            "        1, 4, 1, 7])\n",
            "tensor([1, 2, 4, 7, 0, 9, 4, 5, 7, 7, 9, 1, 1, 5, 4, 6, 1, 4, 6, 3, 6, 8, 8, 0,\n",
            "        6, 0, 6, 2, 0, 9, 7, 2, 3, 2, 3, 0, 3, 2, 4, 4, 3, 3, 6, 4, 3, 9, 6, 2,\n",
            "        1, 2, 9, 0, 1, 8, 2, 9, 7, 6, 1, 9, 2, 0, 9, 0, 9, 6, 4, 7, 7, 6, 2, 2,\n",
            "        7, 0, 7, 8, 8, 1, 5, 5, 4, 2, 4, 2, 5, 1, 2, 2, 8, 0, 3, 9, 0, 8, 4, 8,\n",
            "        1, 4, 1, 7])\n",
            "tensor([2, 5, 2, 3, 3, 0, 1, 1, 8, 0, 6, 1, 3, 5, 5, 1, 4, 4, 9, 0, 5, 4, 6, 8,\n",
            "        7, 8, 3, 6, 6, 1, 5, 0, 4, 6, 5, 5, 1, 0, 2, 8, 1, 2, 2, 6, 6, 6, 4, 3,\n",
            "        1, 3, 6, 2, 8, 6, 4, 1, 0, 3, 5, 8, 7, 6, 5, 1, 8, 3, 0, 2, 2, 8, 9, 5,\n",
            "        5, 6, 6, 8, 7, 6, 9, 7, 2, 0, 0, 7, 7, 9, 0, 8, 5, 4, 0, 7, 3, 8, 7, 0,\n",
            "        7, 8, 7, 0])\n",
            "tensor([2, 5, 1, 3, 3, 0, 1, 1, 8, 0, 6, 1, 3, 5, 5, 1, 4, 4, 9, 0, 5, 4, 6, 8,\n",
            "        7, 8, 3, 6, 6, 1, 5, 0, 4, 6, 5, 5, 1, 0, 2, 8, 1, 2, 2, 6, 6, 6, 4, 3,\n",
            "        1, 3, 6, 2, 8, 6, 4, 1, 0, 3, 5, 8, 7, 6, 5, 1, 8, 9, 0, 2, 2, 8, 9, 5,\n",
            "        5, 6, 6, 8, 7, 6, 9, 7, 2, 0, 0, 7, 7, 9, 0, 8, 5, 4, 0, 7, 3, 8, 7, 0,\n",
            "        7, 8, 7, 0])\n",
            "tensor([6, 9, 4, 9, 7, 1, 9, 4, 7, 5, 8, 0, 3, 3, 7, 1, 7, 4, 2, 8, 6, 7, 3, 9,\n",
            "        4, 2, 3, 2, 0, 8, 0, 2, 5, 9, 5, 8, 6, 9, 1, 3, 3, 6, 9, 8, 1, 0, 3, 9,\n",
            "        5, 0, 3, 9, 3, 9, 5, 5, 3, 4, 0, 4, 4, 7, 8, 8, 5, 7, 7, 9, 1, 7, 4, 7,\n",
            "        3, 8, 8, 9, 7, 7, 1, 8, 8, 2, 0, 7, 2, 9, 3, 2, 8, 4, 0, 6, 2, 3, 5, 2,\n",
            "        0, 9, 1, 8])\n",
            "tensor([6, 5, 4, 9, 7, 1, 9, 4, 7, 5, 8, 0, 3, 3, 7, 1, 7, 4, 2, 8, 6, 7, 3, 9,\n",
            "        4, 2, 3, 2, 0, 8, 0, 2, 5, 9, 5, 8, 6, 9, 1, 3, 3, 6, 9, 8, 1, 0, 3, 9,\n",
            "        5, 0, 3, 9, 3, 9, 5, 5, 3, 4, 0, 4, 4, 7, 8, 8, 5, 7, 7, 9, 1, 7, 4, 7,\n",
            "        3, 8, 8, 9, 7, 7, 1, 8, 8, 2, 0, 7, 2, 9, 3, 2, 8, 4, 0, 6, 2, 3, 5, 2,\n",
            "        0, 9, 1, 8])\n",
            "tensor([9, 4, 3, 2, 8, 7, 4, 9, 4, 0, 4, 9, 5, 4, 5, 7, 8, 8, 7, 7, 9, 6, 3, 0,\n",
            "        2, 8, 7, 0, 3, 9, 0, 3, 1, 1, 0, 5, 9, 7, 9, 7, 0, 3, 6, 3, 3, 4, 4, 1,\n",
            "        5, 1, 2, 9, 1, 9, 8, 4, 6, 9, 7, 6, 7, 5, 1, 3, 2, 8, 7, 9, 6, 0, 5, 7,\n",
            "        4, 7, 2, 9, 5, 8, 4, 1, 1, 1, 6, 4, 2, 0, 7, 9, 2, 1, 9, 7, 5, 5, 7, 7,\n",
            "        3, 0, 9, 2])\n",
            "tensor([8, 4, 3, 2, 8, 7, 4, 9, 4, 0, 4, 9, 5, 4, 5, 7, 8, 8, 7, 7, 9, 6, 3, 0,\n",
            "        2, 8, 7, 0, 3, 9, 0, 3, 1, 1, 0, 5, 9, 7, 9, 7, 0, 3, 6, 3, 3, 4, 4, 1,\n",
            "        5, 1, 2, 9, 1, 9, 8, 4, 6, 9, 7, 6, 7, 5, 1, 3, 2, 8, 7, 9, 6, 0, 5, 7,\n",
            "        4, 7, 2, 9, 5, 8, 4, 1, 1, 1, 6, 4, 2, 0, 7, 9, 2, 1, 9, 7, 5, 5, 7, 7,\n",
            "        3, 0, 9, 2])\n",
            "tensor([6, 9, 3, 1, 4, 1, 7, 0, 4, 1, 9, 1, 4, 5, 6, 4, 9, 0, 0, 9, 4, 4, 1, 1,\n",
            "        8, 4, 5, 4, 8, 5, 5, 2, 6, 1, 5, 5, 8, 7, 6, 3, 9, 3, 1, 0, 4, 3, 8, 9,\n",
            "        8, 0, 8, 5, 1, 2, 1, 2, 0, 9, 7, 2, 7, 3, 7, 9, 1, 0, 5, 3, 9, 1, 2, 2,\n",
            "        6, 3, 0, 4, 2, 7, 1, 3, 1, 1, 3, 7, 9, 3, 0, 9, 6, 0, 0, 6, 7, 2, 3, 9,\n",
            "        7, 7, 5, 8])\n",
            "tensor([6, 9, 3, 1, 4, 1, 7, 0, 4, 1, 9, 1, 4, 5, 6, 4, 9, 0, 0, 9, 4, 4, 1, 1,\n",
            "        8, 4, 5, 4, 8, 5, 5, 2, 6, 1, 5, 5, 8, 7, 6, 3, 9, 3, 1, 0, 4, 3, 8, 9,\n",
            "        8, 0, 8, 5, 1, 2, 1, 2, 0, 9, 7, 2, 7, 3, 7, 9, 2, 0, 5, 3, 9, 1, 2, 2,\n",
            "        6, 3, 0, 4, 2, 7, 1, 3, 1, 1, 3, 7, 9, 3, 0, 9, 6, 0, 0, 6, 7, 2, 3, 9,\n",
            "        7, 7, 5, 8])\n",
            "tensor([4, 1, 2, 8, 0, 2, 9, 9, 6, 3, 8, 7, 1, 7, 1, 1, 6, 4, 2, 1, 2, 4, 2, 0,\n",
            "        2, 4, 2, 3, 3, 1, 3, 3, 1, 2, 2, 4, 7, 8, 6, 0, 4, 5, 1, 6, 0, 1, 2, 8,\n",
            "        3, 0, 7, 5, 0, 9, 3, 2, 5, 6, 9, 1, 4, 5, 4, 6, 1, 3, 1, 1, 0, 4, 0, 0,\n",
            "        2, 0, 4, 2, 9, 4, 1, 1, 7, 9, 1, 7, 7, 6, 8, 0, 1, 6, 2, 0, 4, 8, 4, 3,\n",
            "        1, 0, 1, 1])\n",
            "tensor([4, 1, 2, 8, 0, 2, 9, 9, 6, 3, 8, 7, 1, 7, 1, 1, 6, 4, 2, 1, 2, 4, 2, 0,\n",
            "        7, 4, 2, 3, 3, 1, 3, 3, 1, 2, 2, 4, 7, 8, 6, 0, 4, 5, 1, 6, 0, 1, 2, 8,\n",
            "        3, 0, 7, 5, 0, 9, 3, 7, 5, 6, 9, 1, 4, 5, 4, 6, 1, 3, 1, 1, 0, 4, 0, 0,\n",
            "        2, 0, 4, 2, 9, 4, 1, 1, 7, 9, 1, 7, 7, 6, 8, 0, 1, 6, 2, 0, 4, 8, 4, 3,\n",
            "        1, 0, 1, 1])\n",
            "tensor([8, 7, 0, 8, 1, 4, 7, 9, 1, 7, 7, 6, 9, 7, 1, 2, 6, 4, 9, 7, 6, 0, 4, 7,\n",
            "        1, 0, 6, 8, 1, 9, 3, 6, 9, 2, 5, 1, 6, 2, 9, 7, 1, 0, 0, 6, 5, 0, 0, 9,\n",
            "        4, 8, 1, 3, 4, 9, 5, 6, 6, 1, 9, 9, 3, 0, 0, 1, 7, 7, 4, 6, 1, 1, 9, 2,\n",
            "        9, 6, 0, 2, 7, 3, 2, 5, 8, 0, 4, 9, 8, 6, 8, 4, 7, 3, 0, 3, 4, 3, 2, 5,\n",
            "        7, 1, 4, 9])\n",
            "tensor([8, 7, 0, 8, 1, 4, 7, 9, 1, 7, 7, 6, 4, 7, 1, 2, 6, 4, 9, 7, 6, 0, 4, 7,\n",
            "        1, 0, 6, 8, 1, 9, 3, 6, 9, 2, 5, 1, 6, 2, 9, 7, 1, 0, 0, 6, 5, 0, 0, 9,\n",
            "        9, 8, 1, 3, 4, 9, 5, 6, 6, 1, 9, 9, 3, 0, 0, 1, 7, 7, 4, 6, 1, 1, 9, 2,\n",
            "        9, 6, 0, 2, 7, 3, 2, 5, 8, 0, 4, 9, 8, 6, 8, 4, 7, 3, 0, 3, 4, 3, 2, 5,\n",
            "        7, 1, 4, 9])\n",
            "tensor([0, 0, 1, 1, 7, 2, 4, 2, 2, 8, 3, 3, 4, 6, 5, 5, 0, 9, 0, 8, 4, 7, 0, 2,\n",
            "        3, 3, 3, 2, 6, 7, 7, 9, 9, 1, 4, 9, 6, 3, 4, 3, 7, 0, 1, 8, 3, 7, 8, 8,\n",
            "        1, 1, 5, 4, 5, 6, 7, 1, 0, 0, 1, 1, 4, 9, 8, 6, 9, 3, 5, 4, 1, 7, 4, 7,\n",
            "        4, 3, 9, 7, 6, 1, 6, 9, 8, 5, 0, 9, 1, 6, 8, 7, 6, 3, 9, 9, 7, 9, 6, 9,\n",
            "        9, 3, 9, 0])\n",
            "tensor([0, 0, 1, 1, 7, 2, 4, 2, 2, 8, 3, 3, 4, 6, 6, 5, 0, 9, 0, 8, 4, 7, 0, 2,\n",
            "        3, 3, 3, 2, 6, 7, 7, 9, 9, 1, 4, 9, 6, 3, 4, 3, 7, 0, 1, 8, 3, 7, 8, 8,\n",
            "        1, 1, 5, 4, 5, 6, 7, 1, 0, 0, 1, 1, 4, 9, 8, 6, 9, 3, 5, 4, 1, 7, 4, 7,\n",
            "        4, 3, 9, 7, 6, 2, 6, 9, 8, 5, 0, 9, 1, 6, 8, 7, 6, 3, 9, 9, 7, 9, 6, 9,\n",
            "        9, 3, 9, 0])\n",
            "tensor([5, 1, 4, 7, 7, 0, 7, 3, 4, 0, 0, 5, 4, 7, 1, 5, 4, 3, 9, 4, 8, 4, 7, 8,\n",
            "        3, 7, 0, 3, 8, 9, 2, 8, 9, 1, 3, 8, 3, 7, 6, 9, 5, 9, 5, 9, 1, 8, 3, 1,\n",
            "        0, 5, 2, 6, 1, 3, 3, 2, 0, 2, 9, 0, 6, 9, 5, 8, 3, 9, 6, 4, 4, 6, 6, 5,\n",
            "        0, 2, 4, 9, 2, 5, 5, 6, 7, 9, 9, 7, 7, 7, 2, 7, 4, 1, 6, 2, 3, 4, 4, 4,\n",
            "        0, 1, 4, 1])\n",
            "tensor([5, 1, 4, 7, 7, 0, 7, 3, 4, 0, 0, 5, 4, 7, 1, 5, 4, 3, 9, 4, 8, 4, 7, 8,\n",
            "        3, 7, 0, 3, 8, 9, 2, 8, 9, 1, 3, 8, 3, 7, 6, 9, 5, 9, 5, 9, 1, 8, 3, 1,\n",
            "        0, 5, 2, 6, 1, 3, 3, 2, 0, 2, 9, 0, 6, 9, 5, 8, 3, 9, 6, 4, 4, 6, 6, 5,\n",
            "        0, 2, 4, 9, 2, 5, 5, 6, 7, 9, 9, 7, 7, 7, 2, 7, 4, 1, 6, 2, 3, 4, 4, 4,\n",
            "        0, 1, 4, 1])\n",
            "tensor([3, 6, 7, 2, 8, 0, 8, 7, 7, 0, 4, 7, 9, 2, 2, 3, 8, 0, 6, 3, 8, 2, 2, 7,\n",
            "        1, 3, 9, 6, 7, 4, 2, 7, 0, 0, 8, 1, 7, 1, 1, 4, 7, 6, 5, 1, 8, 0, 7, 4,\n",
            "        2, 4, 3, 6, 3, 0, 2, 2, 7, 6, 4, 5, 2, 6, 4, 8, 0, 8, 6, 7, 9, 8, 6, 6,\n",
            "        0, 2, 9, 5, 9, 9, 8, 3, 0, 4, 1, 2, 0, 4, 2, 3, 3, 6, 8, 5, 0, 0, 4, 2,\n",
            "        7, 2, 1, 7])\n",
            "tensor([3, 6, 7, 2, 8, 0, 8, 7, 7, 0, 4, 7, 9, 2, 7, 3, 8, 0, 6, 3, 8, 2, 2, 7,\n",
            "        1, 3, 9, 6, 7, 4, 2, 7, 0, 0, 8, 1, 7, 1, 1, 4, 7, 6, 5, 1, 8, 0, 7, 4,\n",
            "        2, 4, 3, 6, 3, 0, 2, 2, 7, 6, 4, 5, 2, 6, 4, 8, 0, 8, 1, 7, 9, 8, 6, 6,\n",
            "        0, 2, 9, 5, 9, 9, 8, 3, 0, 4, 1, 2, 0, 4, 2, 3, 3, 6, 8, 5, 0, 0, 4, 2,\n",
            "        7, 2, 1, 7])\n",
            "tensor([7, 4, 2, 9, 8, 2, 6, 1, 5, 4, 3, 5, 7, 7, 9, 7, 0, 9, 1, 6, 8, 8, 6, 1,\n",
            "        1, 2, 0, 0, 0, 4, 7, 6, 1, 3, 5, 7, 0, 2, 8, 9, 6, 1, 7, 5, 0, 2, 4, 7,\n",
            "        0, 5, 8, 1, 2, 3, 1, 7, 0, 2, 2, 0, 1, 4, 8, 9, 1, 9, 2, 4, 5, 1, 8, 0,\n",
            "        9, 8, 3, 1, 4, 2, 4, 3, 5, 2, 5, 8, 1, 3, 5, 9, 9, 3, 1, 5, 7, 9, 5, 9,\n",
            "        4, 1, 6, 2])\n",
            "tensor([7, 4, 2, 9, 8, 2, 6, 1, 5, 4, 3, 5, 7, 7, 9, 7, 0, 9, 1, 6, 8, 8, 6, 1,\n",
            "        1, 2, 0, 0, 0, 4, 7, 6, 1, 3, 5, 7, 0, 2, 8, 9, 6, 1, 7, 5, 0, 2, 4, 7,\n",
            "        0, 5, 8, 1, 2, 3, 1, 7, 0, 2, 2, 0, 1, 4, 8, 9, 1, 9, 2, 4, 5, 1, 8, 0,\n",
            "        9, 8, 3, 1, 4, 2, 4, 3, 5, 2, 5, 8, 1, 3, 5, 9, 9, 3, 1, 5, 7, 9, 5, 9,\n",
            "        4, 1, 6, 2])\n",
            "tensor([3, 1, 6, 1, 9, 9, 7, 4, 6, 1, 3, 5, 6, 2, 7, 4, 9, 2, 1, 2, 8, 7, 3, 3,\n",
            "        4, 3, 5, 1, 5, 7, 1, 1, 6, 6, 6, 8, 1, 5, 2, 6, 4, 4, 6, 9, 3, 6, 7, 2,\n",
            "        3, 2, 4, 0, 8, 3, 1, 5, 9, 7, 6, 2, 3, 1, 1, 5, 8, 1, 7, 7, 7, 5, 3, 1,\n",
            "        4, 7, 0, 7, 9, 4, 4, 9, 9, 1, 7, 0, 9, 6, 7, 5, 8, 7, 5, 7, 1, 9, 6, 1,\n",
            "        3, 9, 5, 8])\n",
            "tensor([3, 1, 6, 6, 9, 9, 7, 4, 6, 1, 3, 5, 6, 2, 7, 4, 9, 2, 1, 2, 8, 7, 3, 3,\n",
            "        4, 3, 5, 1, 5, 7, 1, 1, 6, 6, 6, 8, 1, 5, 2, 6, 4, 4, 6, 9, 3, 6, 7, 2,\n",
            "        3, 2, 4, 0, 8, 3, 1, 5, 9, 7, 6, 2, 3, 1, 1, 5, 8, 1, 7, 7, 7, 5, 3, 1,\n",
            "        4, 7, 0, 7, 9, 4, 4, 9, 9, 1, 7, 0, 9, 6, 7, 5, 8, 7, 5, 7, 1, 9, 6, 1,\n",
            "        3, 9, 5, 8])\n",
            "tensor([8, 7, 2, 7, 1, 0, 6, 8, 6, 8, 1, 7, 6, 7, 0, 7, 3, 9, 4, 1, 1, 1, 2, 1,\n",
            "        2, 7, 2, 6, 4, 9, 8, 7, 1, 2, 1, 8, 1, 2, 3, 1, 9, 5, 3, 7, 4, 6, 3, 1,\n",
            "        0, 7, 6, 2, 0, 1, 1, 4, 1, 0, 7, 0, 9, 2, 0, 7, 7, 5, 2, 6, 8, 3, 8, 1,\n",
            "        5, 4, 1, 7, 9, 2, 4, 4, 4, 2, 6, 2, 3, 2, 3, 2, 0, 2, 0, 5, 1, 5, 5, 5,\n",
            "        0, 4, 0, 9])\n",
            "tensor([8, 7, 2, 7, 1, 0, 6, 8, 6, 8, 1, 7, 6, 7, 0, 7, 3, 9, 4, 1, 1, 1, 2, 1,\n",
            "        2, 7, 2, 6, 4, 9, 8, 7, 1, 2, 1, 8, 1, 2, 3, 1, 9, 5, 3, 7, 4, 6, 3, 1,\n",
            "        0, 7, 6, 2, 0, 1, 1, 4, 1, 0, 7, 0, 9, 2, 0, 7, 7, 5, 2, 6, 8, 3, 8, 1,\n",
            "        5, 4, 1, 7, 9, 2, 4, 4, 4, 2, 6, 2, 3, 2, 3, 2, 0, 2, 0, 5, 1, 5, 5, 5,\n",
            "        0, 4, 0, 9])\n",
            "tensor([2, 0, 7, 0, 6, 7, 8, 8, 7, 6, 5, 3, 4, 8, 7, 4, 3, 1, 5, 4, 9, 6, 8, 9,\n",
            "        7, 1, 1, 6, 8, 8, 7, 6, 2, 4, 8, 7, 7, 4, 6, 6, 9, 5, 1, 5, 3, 9, 1, 6,\n",
            "        8, 3, 4, 5, 2, 2, 5, 3, 8, 6, 1, 1, 6, 9, 6, 6, 0, 0, 9, 3, 4, 8, 4, 1,\n",
            "        2, 4, 2, 7, 7, 4, 1, 8, 4, 3, 5, 6, 8, 4, 6, 6, 3, 9, 8, 2, 9, 0, 9, 7,\n",
            "        1, 8, 2, 2])\n",
            "tensor([2, 0, 7, 0, 6, 7, 8, 8, 7, 6, 5, 3, 4, 8, 7, 4, 3, 1, 5, 4, 9, 6, 8, 9,\n",
            "        7, 1, 1, 6, 8, 8, 7, 6, 2, 4, 8, 7, 7, 4, 6, 6, 9, 5, 1, 5, 3, 9, 1, 6,\n",
            "        8, 3, 4, 5, 2, 2, 5, 3, 8, 6, 1, 1, 6, 9, 6, 6, 0, 0, 9, 3, 4, 8, 4, 1,\n",
            "        2, 4, 2, 7, 7, 4, 1, 8, 4, 3, 9, 6, 8, 4, 6, 6, 3, 9, 8, 2, 9, 0, 9, 7,\n",
            "        1, 8, 2, 2])\n",
            "tensor([1, 6, 6, 0, 4, 8, 9, 0, 8, 2, 3, 4, 4, 3, 1, 7, 8, 4, 5, 5, 1, 1, 0, 7,\n",
            "        0, 7, 1, 3, 9, 6, 1, 5, 3, 7, 6, 6, 0, 1, 5, 6, 2, 9, 9, 8, 8, 3, 7, 4,\n",
            "        1, 2, 8, 7, 7, 3, 6, 2, 1, 3, 6, 7, 0, 8, 1, 7, 8, 3, 2, 7, 4, 8, 0, 3,\n",
            "        7, 4, 7, 0, 7, 3, 8, 4, 0, 1, 3, 2, 8, 8, 2, 7, 7, 7, 4, 0, 1, 9, 1, 0,\n",
            "        3, 4, 3, 6])\n",
            "tensor([1, 6, 6, 0, 4, 8, 9, 0, 8, 2, 3, 4, 9, 3, 1, 7, 8, 4, 5, 5, 1, 1, 0, 7,\n",
            "        0, 7, 1, 3, 9, 6, 1, 5, 3, 7, 6, 6, 0, 1, 5, 6, 2, 9, 9, 8, 8, 3, 7, 4,\n",
            "        1, 2, 8, 7, 7, 3, 6, 2, 1, 3, 6, 7, 0, 8, 1, 7, 8, 3, 2, 7, 4, 8, 0, 3,\n",
            "        7, 4, 7, 0, 7, 3, 8, 4, 0, 1, 3, 2, 8, 8, 2, 7, 7, 7, 4, 0, 1, 9, 1, 0,\n",
            "        3, 4, 1, 6])\n",
            "tensor([4, 9, 2, 1, 8, 5, 6, 2, 8, 0, 4, 1, 9, 7, 7, 8, 1, 6, 1, 7, 0, 2, 9, 9,\n",
            "        1, 4, 7, 3, 8, 3, 1, 2, 1, 1, 1, 4, 8, 3, 6, 6, 3, 2, 3, 3, 0, 3, 8, 3,\n",
            "        9, 8, 2, 2, 4, 1, 8, 7, 2, 6, 7, 4, 8, 1, 4, 3, 6, 9, 6, 6, 8, 8, 1, 2,\n",
            "        1, 0, 9, 9, 9, 9, 1, 7, 6, 8, 3, 5, 1, 5, 4, 9, 6, 8, 0, 6, 0, 3, 6, 5,\n",
            "        4, 8, 5, 5])\n",
            "tensor([4, 9, 2, 1, 8, 5, 6, 2, 8, 0, 4, 1, 9, 7, 7, 8, 1, 6, 1, 7, 0, 2, 9, 9,\n",
            "        1, 4, 7, 3, 8, 3, 1, 2, 1, 1, 1, 4, 8, 3, 6, 6, 3, 2, 3, 3, 0, 3, 8, 3,\n",
            "        9, 8, 2, 2, 4, 1, 8, 7, 2, 6, 7, 4, 8, 1, 4, 3, 6, 9, 6, 6, 8, 8, 1, 2,\n",
            "        1, 0, 9, 9, 9, 9, 1, 7, 6, 8, 3, 5, 1, 5, 4, 9, 6, 8, 0, 6, 0, 3, 6, 5,\n",
            "        4, 8, 5, 5])\n",
            "tensor([6, 4, 1, 2, 4, 0, 5, 2, 3, 1, 3, 1, 5, 2, 6, 3, 4, 6, 3, 2, 2, 9, 7, 8,\n",
            "        2, 8, 7, 7, 0, 1, 3, 4, 4, 9, 1, 1, 4, 5, 9, 2, 7, 1, 9, 9, 8, 2, 8, 5,\n",
            "        5, 2, 5, 5, 2, 8, 1, 5, 7, 2, 6, 1, 0, 9, 2, 2, 1, 2, 3, 2, 9, 7, 3, 9,\n",
            "        0, 1, 2, 1, 1, 8, 6, 9, 8, 0, 1, 8, 4, 8, 6, 3, 9, 9, 6, 6, 6, 9, 1, 8,\n",
            "        3, 0, 6, 7])\n",
            "tensor([6, 4, 1, 2, 4, 0, 5, 2, 3, 1, 3, 1, 5, 2, 6, 3, 4, 6, 3, 2, 2, 9, 7, 8,\n",
            "        2, 8, 7, 7, 0, 1, 3, 4, 4, 9, 1, 1, 4, 3, 9, 2, 7, 1, 9, 9, 8, 2, 8, 5,\n",
            "        5, 2, 5, 5, 2, 8, 1, 5, 7, 2, 6, 1, 0, 9, 2, 2, 1, 2, 3, 2, 9, 7, 3, 9,\n",
            "        0, 1, 2, 1, 1, 8, 6, 9, 8, 0, 1, 8, 4, 8, 6, 3, 9, 9, 6, 6, 6, 9, 1, 8,\n",
            "        3, 0, 6, 7])\n",
            "tensor([9, 8, 5, 2, 0, 8, 0, 6, 7, 3, 2, 1, 5, 9, 8, 1, 3, 8, 4, 5, 6, 8, 4, 2,\n",
            "        2, 8, 9, 1, 1, 3, 5, 6, 6, 7, 0, 3, 0, 5, 5, 3, 1, 0, 8, 7, 9, 9, 5, 8,\n",
            "        8, 7, 5, 4, 9, 8, 5, 4, 0, 3, 1, 4, 5, 1, 0, 5, 1, 7, 0, 4, 4, 8, 3, 7,\n",
            "        1, 2, 0, 8, 1, 7, 0, 6, 6, 5, 8, 8, 1, 0, 4, 9, 4, 7, 6, 8, 1, 4, 1, 8,\n",
            "        7, 5, 0, 3])\n",
            "tensor([9, 8, 5, 2, 0, 8, 0, 6, 7, 3, 2, 1, 5, 9, 8, 1, 3, 8, 4, 5, 6, 8, 4, 2,\n",
            "        2, 8, 9, 1, 1, 3, 5, 6, 6, 7, 0, 3, 0, 5, 5, 3, 1, 0, 8, 7, 9, 9, 5, 8,\n",
            "        8, 7, 5, 4, 9, 8, 5, 4, 0, 3, 1, 4, 5, 1, 0, 5, 1, 7, 0, 4, 4, 8, 3, 2,\n",
            "        1, 2, 0, 8, 1, 7, 0, 6, 6, 5, 8, 8, 1, 0, 4, 9, 4, 7, 6, 8, 1, 4, 1, 8,\n",
            "        7, 5, 0, 3])\n",
            "tensor([4, 8, 8, 2, 1, 6, 6, 8, 7, 6, 0, 2, 8, 4, 8, 1, 2, 6, 8, 2, 7, 7, 1, 3,\n",
            "        8, 1, 6, 9, 5, 7, 3, 8, 5, 3, 6, 2, 0, 6, 3, 9, 3, 2, 9, 4, 9, 5, 7, 0,\n",
            "        1, 3, 1, 3, 3, 5, 5, 8, 2, 2, 3, 4, 9, 2, 7, 5, 1, 6, 3, 8, 8, 9, 3, 1,\n",
            "        6, 7, 2, 6, 8, 0, 4, 1, 6, 4, 2, 1, 8, 1, 4, 2, 6, 6, 5, 2, 2, 5, 3, 0,\n",
            "        6, 7, 8, 4])\n",
            "tensor([4, 8, 8, 2, 1, 6, 6, 8, 7, 6, 0, 2, 8, 4, 8, 1, 2, 6, 8, 2, 7, 7, 1, 3,\n",
            "        8, 1, 0, 9, 5, 7, 3, 8, 5, 3, 6, 2, 0, 6, 8, 9, 3, 2, 9, 4, 9, 5, 7, 0,\n",
            "        1, 3, 1, 3, 3, 5, 5, 8, 2, 2, 3, 4, 9, 2, 7, 5, 1, 6, 3, 8, 8, 9, 3, 1,\n",
            "        6, 7, 2, 6, 8, 0, 4, 1, 6, 4, 2, 1, 8, 1, 4, 2, 6, 6, 5, 2, 2, 5, 3, 0,\n",
            "        6, 7, 8, 4])\n",
            "tensor([0, 7, 8, 1, 2, 4, 7, 0, 8, 0, 9, 1, 3, 0, 8, 5, 1, 8, 4, 5, 3, 5, 2, 2,\n",
            "        9, 6, 5, 5, 3, 3, 9, 8, 2, 4, 3, 2, 9, 1, 2, 7, 7, 9, 3, 7, 4, 6, 9, 2,\n",
            "        4, 8, 4, 1, 2, 3, 1, 1, 4, 9, 4, 0, 7, 9, 8, 7, 7, 9, 0, 1, 7, 8, 0, 1,\n",
            "        0, 8, 1, 8, 0, 9, 2, 7, 6, 8, 2, 8, 9, 3, 1, 9, 7, 9, 8, 0, 0, 4, 3, 8,\n",
            "        6, 0, 7, 2])\n",
            "tensor([0, 7, 8, 1, 2, 4, 7, 0, 8, 0, 9, 1, 3, 0, 8, 5, 1, 8, 4, 5, 3, 5, 2, 2,\n",
            "        9, 6, 5, 5, 3, 3, 9, 8, 2, 4, 3, 2, 9, 1, 2, 7, 7, 9, 3, 7, 4, 6, 9, 2,\n",
            "        4, 8, 4, 1, 2, 3, 1, 1, 4, 9, 4, 0, 7, 9, 8, 7, 7, 9, 0, 1, 7, 8, 0, 1,\n",
            "        0, 8, 1, 8, 0, 9, 2, 7, 6, 8, 2, 8, 9, 3, 1, 9, 7, 9, 8, 0, 0, 4, 3, 8,\n",
            "        6, 0, 7, 2])\n",
            "tensor([9, 5, 1, 3, 8, 0, 3, 7, 9, 3, 9, 9, 3, 1, 9, 4, 6, 2, 3, 2, 2, 2, 1, 3,\n",
            "        8, 3, 8, 5, 2, 8, 6, 4, 8, 1, 2, 9, 0, 6, 1, 1, 4, 1, 5, 8, 2, 2, 0, 0,\n",
            "        7, 9, 7, 8, 4, 7, 5, 7, 6, 3, 0, 6, 3, 8, 7, 0, 9, 3, 2, 1, 9, 1, 0, 0,\n",
            "        7, 7, 7, 3, 4, 9, 3, 8, 1, 3, 3, 8, 5, 8, 3, 5, 1, 3, 6, 5, 5, 7, 9, 1,\n",
            "        1, 9, 3, 7])\n",
            "tensor([5, 5, 1, 3, 8, 0, 3, 7, 9, 3, 9, 9, 3, 1, 9, 4, 6, 2, 3, 2, 2, 2, 1, 3,\n",
            "        8, 3, 8, 5, 2, 7, 6, 4, 8, 1, 2, 9, 0, 6, 1, 1, 4, 1, 5, 8, 2, 2, 0, 0,\n",
            "        7, 9, 7, 8, 4, 7, 5, 7, 6, 3, 0, 6, 3, 8, 7, 0, 9, 3, 2, 1, 9, 1, 0, 0,\n",
            "        7, 7, 7, 3, 4, 9, 3, 8, 1, 3, 3, 8, 5, 8, 3, 5, 1, 3, 6, 5, 5, 7, 9, 1,\n",
            "        1, 9, 3, 1])\n",
            "tensor([8, 3, 2, 4, 2, 3, 1, 8, 5, 0, 5, 5, 0, 7, 6, 3, 0, 6, 5, 0, 5, 2, 7, 8,\n",
            "        2, 5, 9, 1, 2, 9, 4, 2, 8, 4, 0, 5, 4, 5, 6, 4, 0, 1, 2, 9, 6, 2, 8, 9,\n",
            "        7, 0, 6, 5, 5, 5, 4, 7, 1, 2, 0, 2, 3, 4, 4, 4, 6, 2, 8, 0, 1, 1, 3, 7,\n",
            "        5, 8, 6, 9, 6, 3, 8, 1, 0, 1, 1, 8, 5, 3, 6, 3, 4, 4, 1, 7, 9, 5, 4, 5,\n",
            "        1, 9, 3, 9])\n",
            "tensor([8, 3, 2, 4, 3, 3, 1, 8, 5, 0, 5, 5, 0, 7, 6, 3, 0, 6, 5, 0, 5, 2, 7, 8,\n",
            "        2, 5, 9, 1, 2, 9, 4, 2, 8, 4, 0, 5, 4, 5, 6, 4, 0, 1, 2, 9, 6, 2, 8, 9,\n",
            "        7, 0, 6, 5, 5, 5, 4, 7, 1, 2, 0, 2, 3, 4, 4, 4, 6, 2, 8, 0, 1, 1, 3, 7,\n",
            "        5, 8, 6, 9, 6, 3, 8, 1, 0, 1, 1, 8, 5, 3, 6, 3, 4, 4, 1, 7, 9, 5, 4, 5,\n",
            "        1, 9, 3, 9])\n",
            "tensor([7, 5, 3, 6, 7, 8, 0, 3, 7, 1, 0, 7, 9, 7, 4, 2, 1, 0, 2, 3, 1, 9, 1, 2,\n",
            "        2, 5, 8, 2, 4, 3, 9, 9, 4, 9, 2, 7, 6, 5, 8, 7, 2, 3, 6, 7, 5, 5, 3, 1,\n",
            "        6, 7, 5, 5, 6, 1, 8, 3, 0, 0, 1, 6, 1, 7, 9, 5, 1, 0, 6, 8, 2, 4, 4, 2,\n",
            "        3, 2, 3, 9, 5, 8, 9, 1, 3, 3, 1, 1, 6, 8, 1, 8, 1, 9, 9, 8, 5, 5, 1, 0,\n",
            "        9, 3, 1, 3])\n",
            "tensor([7, 5, 3, 6, 7, 8, 0, 3, 7, 1, 0, 7, 9, 7, 4, 2, 1, 0, 2, 3, 1, 9, 1, 2,\n",
            "        2, 5, 8, 2, 9, 3, 9, 9, 4, 9, 2, 7, 6, 5, 8, 7, 2, 3, 6, 7, 5, 5, 3, 1,\n",
            "        6, 7, 5, 5, 6, 1, 8, 3, 0, 0, 1, 6, 1, 7, 9, 5, 1, 0, 6, 8, 2, 4, 4, 2,\n",
            "        3, 2, 3, 9, 5, 8, 9, 1, 3, 3, 1, 1, 6, 8, 1, 8, 1, 9, 9, 8, 5, 5, 1, 0,\n",
            "        9, 3, 1, 3])\n",
            "tensor([9, 7, 0, 1, 5, 6, 5, 5, 3, 3, 6, 2, 0, 5, 7, 0, 8, 0, 8, 2, 2, 4, 3, 7,\n",
            "        7, 1, 2, 0, 0, 2, 8, 6, 6, 9, 5, 4, 5, 4, 8, 7, 2, 0, 0, 7, 5, 3, 9, 3,\n",
            "        5, 8, 8, 6, 7, 3, 5, 5, 9, 3, 4, 7, 9, 2, 5, 0, 2, 5, 3, 1, 3, 0, 9, 8,\n",
            "        1, 3, 7, 4, 4, 3, 1, 8, 4, 3, 2, 6, 4, 0, 7, 8, 8, 6, 2, 5, 8, 2, 0, 7,\n",
            "        6, 4, 7, 9])\n",
            "tensor([9, 7, 0, 1, 5, 6, 5, 5, 3, 3, 6, 2, 0, 5, 7, 0, 8, 0, 8, 2, 2, 4, 3, 7,\n",
            "        7, 1, 2, 0, 0, 2, 8, 6, 6, 9, 5, 4, 5, 4, 8, 7, 2, 0, 0, 7, 5, 3, 9, 3,\n",
            "        5, 8, 8, 6, 7, 3, 5, 5, 9, 3, 4, 7, 9, 2, 5, 0, 2, 5, 3, 1, 3, 0, 9, 8,\n",
            "        1, 3, 7, 4, 4, 3, 1, 8, 4, 3, 2, 6, 4, 0, 7, 8, 8, 6, 2, 5, 8, 2, 0, 7,\n",
            "        6, 4, 7, 9])\n",
            "tensor([7, 3, 3, 8, 6, 8, 1, 9, 3, 4, 2, 5, 5, 8, 5, 1, 8, 8, 2, 0, 5, 4, 3, 1,\n",
            "        2, 7, 1, 8, 9, 3, 4, 3, 2, 3, 0, 2, 3, 2, 1, 1, 4, 6, 0, 4, 9, 0, 3, 7,\n",
            "        8, 6, 9, 1, 6, 9, 1, 1, 3, 3, 5, 1, 0, 3, 3, 3, 0, 8, 1, 9, 7, 3, 7, 8,\n",
            "        2, 3, 8, 4, 1, 4, 0, 2, 4, 6, 3, 6, 7, 4, 7, 2, 4, 4, 7, 4, 9, 0, 2, 7,\n",
            "        0, 9, 1, 2])\n",
            "tensor([7, 3, 3, 8, 6, 8, 1, 9, 3, 4, 2, 5, 5, 8, 5, 1, 8, 8, 2, 0, 5, 4, 3, 1,\n",
            "        2, 7, 1, 8, 9, 3, 4, 3, 2, 3, 0, 2, 3, 2, 1, 1, 4, 6, 0, 4, 9, 0, 3, 7,\n",
            "        8, 6, 9, 1, 6, 9, 1, 1, 3, 3, 5, 1, 0, 3, 3, 3, 0, 8, 1, 9, 7, 3, 7, 8,\n",
            "        2, 3, 8, 4, 1, 4, 0, 2, 4, 6, 3, 6, 7, 4, 7, 2, 4, 4, 7, 4, 9, 0, 2, 7,\n",
            "        0, 9, 1, 2])\n",
            "tensor([4, 7, 5, 7, 2, 0, 9, 8, 8, 8, 7, 5, 6, 3, 6, 9, 2, 4, 3, 0, 4, 2, 3, 1,\n",
            "        1, 3, 2, 2, 4, 7, 0, 3, 0, 2, 4, 3, 2, 7, 4, 7, 1, 1, 5, 7, 5, 4, 5, 1,\n",
            "        9, 6, 0, 3, 3, 2, 4, 9, 6, 7, 2, 0, 7, 1, 0, 9, 5, 6, 2, 5, 2, 4, 4, 6,\n",
            "        8, 4, 3, 6, 6, 9, 6, 6, 3, 0, 1, 8, 0, 9, 1, 9, 9, 0, 1, 0, 9, 9, 1, 6,\n",
            "        5, 1, 0, 1])\n",
            "tensor([4, 7, 5, 7, 2, 0, 9, 8, 8, 8, 7, 5, 6, 3, 6, 9, 2, 4, 3, 0, 4, 2, 3, 1,\n",
            "        1, 3, 2, 2, 4, 7, 0, 3, 0, 2, 4, 3, 2, 7, 4, 7, 1, 1, 5, 7, 5, 4, 5, 1,\n",
            "        9, 6, 0, 3, 3, 2, 4, 9, 6, 7, 2, 0, 7, 1, 0, 9, 5, 6, 2, 5, 2, 4, 4, 6,\n",
            "        8, 4, 3, 6, 6, 9, 6, 6, 3, 0, 1, 8, 0, 9, 1, 9, 9, 0, 1, 0, 9, 9, 1, 6,\n",
            "        5, 1, 0, 1])\n",
            "tensor([5, 8, 4, 0, 9, 4, 0, 6, 7, 9, 7, 2, 6, 8, 1, 7, 9, 6, 8, 4, 8, 1, 3, 6,\n",
            "        4, 4, 9, 1, 0, 3, 3, 0, 4, 7, 4, 9, 0, 0, 3, 4, 6, 0, 1, 7, 0, 6, 6, 1,\n",
            "        7, 5, 8, 5, 6, 2, 1, 1, 0, 2, 3, 6, 1, 7, 0, 1, 1, 4, 4, 3, 1, 1, 6, 0,\n",
            "        4, 9, 2, 1, 0, 7, 8, 9, 1, 0, 4, 5, 5, 4, 3, 0, 4, 7, 5, 0, 5, 1, 6, 1,\n",
            "        9, 9, 0, 7])\n",
            "tensor([5, 8, 4, 0, 9, 4, 0, 6, 7, 9, 7, 2, 6, 8, 1, 7, 9, 6, 8, 4, 8, 1, 3, 6,\n",
            "        4, 4, 9, 1, 0, 3, 3, 0, 9, 7, 4, 9, 0, 0, 3, 4, 6, 0, 1, 7, 0, 6, 6, 1,\n",
            "        7, 5, 8, 5, 6, 2, 1, 1, 0, 2, 3, 6, 1, 7, 0, 1, 1, 4, 4, 3, 1, 1, 6, 0,\n",
            "        4, 9, 2, 1, 0, 7, 8, 9, 1, 0, 4, 5, 5, 4, 3, 0, 4, 7, 5, 0, 5, 1, 6, 1,\n",
            "        9, 9, 0, 7])\n",
            "tensor([1, 8, 3, 9, 6, 2, 6, 5, 0, 8, 6, 0, 4, 1, 0, 1, 2, 7, 9, 2, 7, 4, 0, 5,\n",
            "        9, 1, 2, 2, 7, 1, 3, 5, 5, 1, 0, 4, 8, 4, 2, 2, 1, 9, 4, 4, 2, 1, 7, 5,\n",
            "        3, 6, 4, 4, 7, 7, 8, 2, 8, 9, 6, 8, 0, 5, 9, 8, 2, 3, 1, 7, 2, 6, 3, 2,\n",
            "        7, 4, 3, 2, 5, 5, 7, 3, 3, 0, 1, 2, 6, 9, 2, 0, 2, 5, 5, 9, 1, 2, 0, 3,\n",
            "        6, 4, 4, 0])\n",
            "tensor([1, 3, 3, 9, 6, 2, 6, 5, 0, 8, 6, 0, 4, 1, 0, 1, 2, 7, 9, 2, 7, 4, 0, 5,\n",
            "        9, 1, 2, 2, 7, 1, 3, 5, 5, 1, 0, 4, 8, 4, 2, 2, 1, 9, 4, 4, 2, 1, 7, 5,\n",
            "        3, 6, 4, 4, 7, 7, 8, 2, 8, 9, 6, 8, 0, 5, 9, 8, 2, 3, 1, 7, 2, 6, 3, 2,\n",
            "        7, 4, 3, 2, 5, 5, 7, 3, 3, 0, 1, 2, 6, 9, 2, 0, 2, 5, 5, 9, 1, 2, 0, 3,\n",
            "        6, 4, 4, 0])\n",
            "tensor([6, 1, 8, 0, 1, 4, 7, 4, 7, 6, 8, 0, 9, 2, 8, 9, 7, 5, 6, 7, 3, 8, 2, 8,\n",
            "        9, 1, 6, 5, 9, 4, 7, 2, 2, 0, 6, 8, 8, 3, 9, 0, 4, 7, 3, 1, 3, 3, 0, 3,\n",
            "        8, 9, 0, 3, 1, 1, 5, 1, 5, 3, 1, 5, 1, 8, 4, 1, 1, 5, 2, 4, 2, 5, 0, 5,\n",
            "        3, 8, 3, 9, 6, 6, 0, 3, 7, 3, 1, 3, 7, 7, 1, 7, 4, 2, 8, 0, 7, 7, 5, 8,\n",
            "        4, 0, 4, 4])\n",
            "tensor([6, 1, 8, 0, 1, 4, 7, 4, 7, 6, 8, 0, 9, 7, 8, 9, 7, 5, 6, 7, 3, 8, 2, 8,\n",
            "        9, 1, 6, 5, 9, 4, 7, 2, 2, 0, 6, 8, 8, 3, 9, 0, 4, 7, 3, 1, 3, 3, 0, 3,\n",
            "        8, 9, 0, 3, 1, 1, 5, 1, 5, 3, 1, 5, 1, 8, 4, 1, 1, 5, 2, 4, 2, 5, 0, 5,\n",
            "        3, 8, 3, 9, 6, 6, 0, 3, 7, 3, 1, 3, 7, 7, 1, 7, 4, 2, 8, 0, 7, 7, 5, 8,\n",
            "        4, 0, 4, 4])\n",
            "tensor([6, 9, 7, 7, 4, 2, 7, 0, 9, 1, 7, 8, 9, 2, 1, 8, 0, 1, 9, 1, 9, 1, 7, 8,\n",
            "        4, 5, 7, 5, 4, 3, 8, 9, 8, 4, 2, 0, 2, 8, 1, 6, 0, 6, 2, 3, 6, 5, 9, 3,\n",
            "        3, 5, 6, 8, 9, 4, 3, 7, 5, 8, 7, 2, 2, 1, 4, 3, 3, 2, 1, 2, 1, 2, 0, 8,\n",
            "        6, 9, 0, 0, 1, 2, 6, 2, 2, 7, 0, 7, 8, 2, 5, 4, 7, 8, 2, 7, 9, 2, 8, 5,\n",
            "        5, 0, 1, 8])\n",
            "tensor([6, 9, 7, 7, 4, 2, 7, 0, 9, 1, 7, 8, 9, 2, 1, 8, 0, 1, 9, 1, 9, 1, 7, 8,\n",
            "        4, 5, 7, 5, 1, 3, 8, 9, 8, 6, 2, 0, 2, 1, 1, 6, 0, 6, 2, 3, 6, 5, 9, 3,\n",
            "        3, 5, 6, 8, 9, 4, 3, 7, 5, 8, 7, 2, 2, 1, 4, 3, 3, 2, 1, 2, 1, 2, 0, 8,\n",
            "        6, 9, 0, 0, 1, 2, 6, 2, 2, 7, 0, 7, 8, 2, 5, 4, 7, 8, 2, 7, 9, 2, 8, 5,\n",
            "        5, 0, 1, 8])\n",
            "tensor([4, 8, 0, 9, 1, 6, 6, 8, 8, 9, 6, 8, 4, 5, 5, 7, 5, 2, 8, 2, 2, 5, 5, 9,\n",
            "        0, 5, 4, 2, 3, 4, 3, 8, 4, 9, 2, 0, 3, 1, 2, 4, 4, 4, 5, 9, 7, 2, 1, 9,\n",
            "        6, 9, 6, 4, 0, 1, 3, 3, 2, 8, 9, 6, 0, 2, 0, 6, 5, 1, 8, 7, 3, 9, 1, 8,\n",
            "        1, 6, 8, 8, 7, 1, 1, 4, 1, 1, 4, 7, 4, 1, 4, 0, 5, 9, 8, 3, 6, 2, 8, 6,\n",
            "        1, 9, 4, 7])\n",
            "tensor([4, 8, 0, 9, 1, 6, 6, 8, 8, 9, 6, 8, 4, 5, 5, 7, 5, 2, 8, 2, 2, 5, 5, 9,\n",
            "        0, 5, 4, 2, 3, 4, 3, 8, 4, 9, 2, 0, 3, 1, 2, 4, 4, 4, 5, 9, 7, 2, 1, 9,\n",
            "        6, 9, 6, 4, 0, 1, 3, 3, 2, 8, 9, 6, 0, 2, 0, 6, 5, 1, 8, 7, 3, 9, 1, 8,\n",
            "        1, 6, 8, 8, 7, 1, 1, 4, 1, 1, 4, 7, 4, 1, 4, 0, 5, 7, 8, 3, 6, 2, 8, 6,\n",
            "        1, 9, 4, 7])\n",
            "tensor([9, 5, 6, 7, 8, 2, 6, 5, 9, 6, 0, 2, 7, 8, 2, 6, 4, 8, 4, 7, 1, 2, 5, 0,\n",
            "        8, 8, 8, 7, 6, 8, 7, 6, 6, 1, 4, 1, 3, 9, 7, 4, 1, 1, 7, 0, 4, 9, 2, 8,\n",
            "        6, 5, 8, 2, 8, 7, 2, 3, 3, 6, 6, 6, 6, 9, 3, 9, 1, 9, 9, 7, 8, 1, 8, 4,\n",
            "        6, 7, 6, 3, 6, 6, 6, 5, 0, 2, 2, 2, 2, 1, 0, 1, 1, 2, 4, 2, 6, 4, 3, 6,\n",
            "        8, 0, 5, 9])\n",
            "tensor([9, 5, 6, 7, 8, 2, 6, 5, 9, 6, 0, 2, 7, 8, 2, 6, 4, 8, 4, 7, 1, 2, 5, 0,\n",
            "        8, 8, 8, 7, 0, 8, 7, 6, 6, 1, 4, 1, 3, 9, 7, 4, 1, 1, 7, 0, 9, 9, 2, 8,\n",
            "        6, 5, 8, 2, 8, 9, 2, 3, 3, 6, 6, 6, 6, 5, 3, 9, 1, 9, 9, 7, 8, 1, 8, 4,\n",
            "        6, 7, 6, 3, 6, 6, 6, 5, 0, 2, 2, 2, 2, 1, 0, 1, 1, 2, 4, 2, 6, 4, 3, 6,\n",
            "        8, 0, 5, 9])\n",
            "tensor([3, 4, 4, 0, 8, 2, 5, 4, 9, 2, 5, 1, 6, 9, 5, 3, 4, 0, 2, 7, 5, 5, 1, 4,\n",
            "        6, 9, 6, 8, 4, 5, 1, 5, 7, 3, 7, 4, 5, 9, 8, 0, 5, 8, 4, 1, 9, 3, 5, 6,\n",
            "        8, 1, 6, 2, 6, 6, 5, 2, 7, 0, 9, 7, 8, 9, 5, 4, 0, 5, 3, 3, 9, 3, 1, 4,\n",
            "        0, 2, 8, 5, 8, 7, 4, 7, 2, 2, 4, 0, 6, 5, 8, 9, 8, 1, 5, 2, 1, 3, 0, 3,\n",
            "        6, 6, 2, 7])\n",
            "tensor([3, 4, 4, 0, 8, 2, 5, 4, 9, 2, 5, 1, 6, 9, 5, 3, 4, 0, 2, 7, 5, 5, 1, 4,\n",
            "        6, 9, 6, 8, 4, 5, 1, 5, 7, 3, 7, 4, 5, 9, 8, 0, 5, 8, 4, 1, 9, 3, 5, 6,\n",
            "        8, 1, 6, 2, 6, 6, 5, 2, 7, 0, 9, 7, 8, 9, 5, 4, 0, 5, 3, 3, 9, 3, 1, 4,\n",
            "        0, 2, 8, 5, 8, 7, 4, 7, 2, 2, 4, 0, 6, 5, 8, 9, 8, 1, 5, 2, 1, 3, 0, 3,\n",
            "        6, 6, 2, 7])\n",
            "tensor([9, 8, 7, 7, 7, 5, 6, 2, 5, 1, 2, 9, 2, 2, 9, 9, 2, 2, 9, 9, 3, 2, 6, 5,\n",
            "        9, 3, 5, 4, 8, 8, 2, 1, 8, 0, 6, 6, 0, 3, 3, 4, 0, 8, 2, 2, 9, 5, 6, 9,\n",
            "        7, 2, 8, 2, 5, 6, 2, 5, 2, 3, 9, 0, 7, 6, 7, 0, 3, 2, 0, 4, 4, 3, 6, 9,\n",
            "        8, 6, 7, 4, 0, 0, 1, 1, 1, 0, 4, 9, 6, 9, 2, 4, 9, 1, 9, 2, 3, 1, 0, 2,\n",
            "        7, 4, 3, 1])\n",
            "tensor([9, 8, 7, 7, 7, 5, 6, 2, 5, 1, 2, 5, 2, 2, 7, 9, 2, 2, 9, 9, 3, 2, 6, 5,\n",
            "        9, 3, 5, 4, 8, 8, 2, 1, 8, 0, 6, 6, 0, 3, 3, 4, 0, 8, 0, 2, 9, 5, 6, 9,\n",
            "        7, 2, 8, 2, 5, 6, 2, 5, 2, 3, 9, 0, 7, 6, 7, 0, 3, 2, 0, 4, 4, 3, 6, 9,\n",
            "        8, 6, 7, 4, 0, 0, 1, 1, 1, 0, 4, 9, 6, 9, 2, 4, 9, 1, 9, 2, 3, 1, 0, 2,\n",
            "        7, 4, 3, 1])\n",
            "Test Accuracy of the model on the 10000 test images: 0.97\n"
          ]
        }
      ]
    },
    {
      "cell_type": "code",
      "source": [
        "#Retrieve the first batch from the test data loader\n",
        "sample = next(iter(loaders['test']))\n",
        "imgs, lbls = sample"
      ],
      "metadata": {
        "id": "lyjxt8ydYEOd"
      },
      "execution_count": null,
      "outputs": []
    },
    {
      "cell_type": "code",
      "source": [
        "actual_number = lbls[:10].numpy()\n",
        "actual_number"
      ],
      "metadata": {
        "colab": {
          "base_uri": "https://localhost:8080/"
        },
        "id": "eJ7VHmpYYLnV",
        "outputId": "50f6e8e1-9949-49ed-9e92-00205d1dba89"
      },
      "execution_count": null,
      "outputs": [
        {
          "output_type": "execute_result",
          "data": {
            "text/plain": [
              "array([5, 2, 6, 8, 1, 2, 1, 3, 8, 7])"
            ]
          },
          "metadata": {},
          "execution_count": 23
        }
      ]
    },
    {
      "cell_type": "code",
      "source": [
        "test_output, last_layer = cnn(imgs[:10])\n",
        "pred_y = torch.max(test_output, 1)[1].data.numpy().squeeze()\n",
        "print(f'Prediction number: {pred_y}')\n",
        "print(f'Actual number: {actual_number}')"
      ],
      "metadata": {
        "colab": {
          "base_uri": "https://localhost:8080/"
        },
        "id": "HMfOptfGYRRG",
        "outputId": "6315cde5-f7a1-4b34-e114-a5fb35b8c1f6"
      },
      "execution_count": null,
      "outputs": [
        {
          "output_type": "stream",
          "name": "stdout",
          "text": [
            "Prediction number: [5 2 6 8 1 2 1 3 8 7]\n",
            "Actual number: [5 2 6 8 1 2 1 3 8 7]\n"
          ]
        }
      ]
    },
    {
      "cell_type": "code",
      "source": [],
      "metadata": {
        "id": "u9v09FE8g4F3"
      },
      "execution_count": null,
      "outputs": []
    }
  ]
}