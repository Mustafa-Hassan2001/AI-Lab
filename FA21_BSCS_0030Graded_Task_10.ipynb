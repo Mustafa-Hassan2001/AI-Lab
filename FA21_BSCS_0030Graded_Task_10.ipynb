{
  "nbformat": 4,
  "nbformat_minor": 0,
  "metadata": {
    "colab": {
      "provenance": []
    },
    "kernelspec": {
      "name": "python3",
      "display_name": "Python 3"
    },
    "language_info": {
      "name": "python"
    }
  },
  "cells": [
    {
      "cell_type": "markdown",
      "source": [
        "Choose a dataset from the following Pytorch Website\n",
        "\n",
        "For Girls :  Fashion-MNIST Dataset (https://pytorch.org/vision/stable/generated/torchvision.datasets.FashionMNIST.html#torchvision.datasets.FashionMNIST)\n",
        "\n",
        "\n",
        "For Boys: Flowers102 (https://pytorch.org/vision/stable/generated/torchvision.datasets.Flowers102.html#torchvision.datasets.Flowers102)\n",
        "\n",
        "\n",
        "Implement all the necessary steps for applying CNN Model.\n",
        "batch size should be 15 and kernal size should be 4*4\n",
        "\n",
        "\n"
      ],
      "metadata": {
        "id": "BajaNUrwYjvZ"
      }
    },
    {
      "cell_type": "code",
      "execution_count": null,
      "metadata": {
        "id": "whHDcwtyL6jr"
      },
      "outputs": [],
      "source": [
        "import torch"
      ]
    },
    {
      "cell_type": "code",
      "source": [
        "# Device configuration\n",
        "device = torch.device('cuda' if torch.cuda.is_available() else 'cpu')\n",
        "device"
      ],
      "metadata": {
        "colab": {
          "base_uri": "https://localhost:8080/"
        },
        "id": "AvNFjKToMNZD",
        "outputId": "954a375d-9cb7-4b73-e767-e96da67d0d06"
      },
      "execution_count": null,
      "outputs": [
        {
          "data": {
            "text/plain": [
              "device(type='cpu')"
            ]
          },
          "execution_count": 5,
          "metadata": {},
          "output_type": "execute_result"
        }
      ]
    },
    {
      "cell_type": "code",
      "source": [
        "from torchvision import datasets\n",
        "from torchvision.transforms import ToTensor\n",
        "train_data = datasets.FashionMNIST(\n",
        "    root = 'data',\n",
        "    train = True,\n",
        "    transform = ToTensor(),\n",
        "    download = True,\n",
        ")\n",
        "test_data = datasets.FashionMNIST(\n",
        "    root = 'data',\n",
        "    train = False,\n",
        "    transform = ToTensor()\n",
        ")"
      ],
      "metadata": {
        "colab": {
          "base_uri": "https://localhost:8080/"
        },
        "id": "0yoY8MQiMRJm",
        "outputId": "2deafb23-cd0a-485f-c336-9fe81710a2bf"
      },
      "execution_count": null,
      "outputs": [
        {
          "output_type": "stream",
          "name": "stdout",
          "text": [
            "Downloading http://fashion-mnist.s3-website.eu-central-1.amazonaws.com/train-images-idx3-ubyte.gz\n",
            "Downloading http://fashion-mnist.s3-website.eu-central-1.amazonaws.com/train-images-idx3-ubyte.gz to data/FashionMNIST/raw/train-images-idx3-ubyte.gz\n"
          ]
        },
        {
          "output_type": "stream",
          "name": "stderr",
          "text": [
            "100%|██████████| 26421880/26421880 [00:01<00:00, 19709146.49it/s]\n"
          ]
        },
        {
          "output_type": "stream",
          "name": "stdout",
          "text": [
            "Extracting data/FashionMNIST/raw/train-images-idx3-ubyte.gz to data/FashionMNIST/raw\n",
            "\n",
            "Downloading http://fashion-mnist.s3-website.eu-central-1.amazonaws.com/train-labels-idx1-ubyte.gz\n",
            "Downloading http://fashion-mnist.s3-website.eu-central-1.amazonaws.com/train-labels-idx1-ubyte.gz to data/FashionMNIST/raw/train-labels-idx1-ubyte.gz\n"
          ]
        },
        {
          "output_type": "stream",
          "name": "stderr",
          "text": [
            "100%|██████████| 29515/29515 [00:00<00:00, 301159.40it/s]\n"
          ]
        },
        {
          "output_type": "stream",
          "name": "stdout",
          "text": [
            "Extracting data/FashionMNIST/raw/train-labels-idx1-ubyte.gz to data/FashionMNIST/raw\n",
            "\n",
            "Downloading http://fashion-mnist.s3-website.eu-central-1.amazonaws.com/t10k-images-idx3-ubyte.gz\n",
            "Downloading http://fashion-mnist.s3-website.eu-central-1.amazonaws.com/t10k-images-idx3-ubyte.gz to data/FashionMNIST/raw/t10k-images-idx3-ubyte.gz\n"
          ]
        },
        {
          "output_type": "stream",
          "name": "stderr",
          "text": [
            "100%|██████████| 4422102/4422102 [00:00<00:00, 5486866.85it/s]\n"
          ]
        },
        {
          "output_type": "stream",
          "name": "stdout",
          "text": [
            "Extracting data/FashionMNIST/raw/t10k-images-idx3-ubyte.gz to data/FashionMNIST/raw\n",
            "\n",
            "Downloading http://fashion-mnist.s3-website.eu-central-1.amazonaws.com/t10k-labels-idx1-ubyte.gz\n",
            "Downloading http://fashion-mnist.s3-website.eu-central-1.amazonaws.com/t10k-labels-idx1-ubyte.gz to data/FashionMNIST/raw/t10k-labels-idx1-ubyte.gz\n"
          ]
        },
        {
          "output_type": "stream",
          "name": "stderr",
          "text": [
            "100%|██████████| 5148/5148 [00:00<00:00, 4487173.11it/s]"
          ]
        },
        {
          "output_type": "stream",
          "name": "stdout",
          "text": [
            "Extracting data/FashionMNIST/raw/t10k-labels-idx1-ubyte.gz to data/FashionMNIST/raw\n",
            "\n"
          ]
        },
        {
          "output_type": "stream",
          "name": "stderr",
          "text": [
            "\n"
          ]
        }
      ]
    },
    {
      "cell_type": "code",
      "source": [
        "train_data"
      ],
      "metadata": {
        "colab": {
          "base_uri": "https://localhost:8080/"
        },
        "id": "BZhQx9xaMqq3",
        "outputId": "15ef2ee6-8893-4f66-8903-facccb85f82a"
      },
      "execution_count": null,
      "outputs": [
        {
          "output_type": "execute_result",
          "data": {
            "text/plain": [
              "Dataset FashionMNIST\n",
              "    Number of datapoints: 60000\n",
              "    Root location: data\n",
              "    Split: Train\n",
              "    StandardTransform\n",
              "Transform: ToTensor()"
            ]
          },
          "metadata": {},
          "execution_count": 30
        }
      ]
    },
    {
      "cell_type": "code",
      "source": [
        "test_data"
      ],
      "metadata": {
        "colab": {
          "base_uri": "https://localhost:8080/"
        },
        "id": "KuxLg8CAMxki",
        "outputId": "34adead2-556f-4202-eb2a-bdc8250f66fa"
      },
      "execution_count": null,
      "outputs": [
        {
          "output_type": "execute_result",
          "data": {
            "text/plain": [
              "Dataset FashionMNIST\n",
              "    Number of datapoints: 10000\n",
              "    Root location: data\n",
              "    Split: Test\n",
              "    StandardTransform\n",
              "Transform: ToTensor()"
            ]
          },
          "metadata": {},
          "execution_count": 31
        }
      ]
    },
    {
      "cell_type": "code",
      "source": [
        "print(train_data.data.size())"
      ],
      "metadata": {
        "colab": {
          "base_uri": "https://localhost:8080/"
        },
        "id": "Qz0RgfXtNIwI",
        "outputId": "ff8e71e0-cc51-43ad-d983-11b1966f1b16"
      },
      "execution_count": null,
      "outputs": [
        {
          "output_type": "stream",
          "name": "stdout",
          "text": [
            "torch.Size([60000, 28, 28])\n"
          ]
        }
      ]
    },
    {
      "cell_type": "code",
      "source": [
        "print(train_data.targets.size())"
      ],
      "metadata": {
        "colab": {
          "base_uri": "https://localhost:8080/"
        },
        "id": "RVTTy-CGNOm3",
        "outputId": "53008f75-5343-43b2-a842-0067891fb660"
      },
      "execution_count": null,
      "outputs": [
        {
          "output_type": "stream",
          "name": "stdout",
          "text": [
            "torch.Size([60000])\n"
          ]
        }
      ]
    },
    {
      "cell_type": "code",
      "source": [
        "test_data.data.size()"
      ],
      "metadata": {
        "colab": {
          "base_uri": "https://localhost:8080/"
        },
        "id": "K326z1C5NQqz",
        "outputId": "c15fd7fa-af65-4627-c952-3f41cb991ef7"
      },
      "execution_count": null,
      "outputs": [
        {
          "output_type": "execute_result",
          "data": {
            "text/plain": [
              "torch.Size([10000, 28, 28])"
            ]
          },
          "metadata": {},
          "execution_count": 34
        }
      ]
    },
    {
      "cell_type": "code",
      "source": [
        "test_data.targets.size()"
      ],
      "metadata": {
        "colab": {
          "base_uri": "https://localhost:8080/"
        },
        "id": "mJE_gBHUNV1O",
        "outputId": "3af2e8d3-fc41-43fc-9037-834fb8a1c9e1"
      },
      "execution_count": null,
      "outputs": [
        {
          "output_type": "execute_result",
          "data": {
            "text/plain": [
              "torch.Size([10000])"
            ]
          },
          "metadata": {},
          "execution_count": 35
        }
      ]
    },
    {
      "cell_type": "code",
      "source": [
        "import matplotlib.pyplot as plt\n",
        "plt.imshow(train_data.data[15], cmap='gray')\n",
        "plt.title('%i' % train_data.targets[15])\n",
        "plt.show()"
      ],
      "metadata": {
        "colab": {
          "base_uri": "https://localhost:8080/",
          "height": 452
        },
        "id": "7UztQmJlNaKp",
        "outputId": "41bd04b0-2f23-4210-838c-da18797a64a7"
      },
      "execution_count": null,
      "outputs": [
        {
          "output_type": "display_data",
          "data": {
            "text/plain": [
              "<Figure size 640x480 with 1 Axes>"
            ],
            "image/png": "[encoded data removed]"
          },
          "metadata": {}
        }
      ]
    },
    {
      "cell_type": "code",
      "source": [
        "figure = plt.figure(figsize=(10, 8))\n",
        "cols, rows = 5, 5\n",
        "for i in range(1, cols * rows + 1):\n",
        "    sample_idx = torch.randint(len(train_data), size=(1,)).item()\n",
        "    img, label = train_data[sample_idx]\n",
        "    figure.add_subplot(rows, cols, i)\n",
        "    plt.title(label)\n",
        "    plt.axis(\"off\")\n",
        "    #convert 3D, into 2D\n",
        "    plt.imshow(img.squeeze(), cmap=\"gray\")\n",
        "plt.show()"
      ],
      "metadata": {
        "colab": {
          "base_uri": "https://localhost:8080/",
          "height": 675
        },
        "id": "Y-ctnR7HNeh9",
        "outputId": "65957e10-6533-4f67-c839-0129d3a4efa4"
      },
      "execution_count": null,
      "outputs": [
        {
          "output_type": "display_data",
          "data": {
            "text/plain": [
              "<Figure size 1000x800 with 25 Axes>"
            ],
            "image/png": "[encoded data removed]"
          },
          "metadata": {}
        }
      ]
    },
    {
      "cell_type": "code",
      "source": [
        "img.squeeze().size()"
      ],
      "metadata": {
        "colab": {
          "base_uri": "https://localhost:8080/"
        },
        "id": "dZJJIalSNqVW",
        "outputId": "be4daf0e-a6e7-4efb-8369-6c93f6bd2907"
      },
      "execution_count": null,
      "outputs": [
        {
          "output_type": "execute_result",
          "data": {
            "text/plain": [
              "torch.Size([28, 28])"
            ]
          },
          "metadata": {},
          "execution_count": 38
        }
      ]
    },
    {
      "cell_type": "code",
      "source": [
        "img.size()"
      ],
      "metadata": {
        "colab": {
          "base_uri": "https://localhost:8080/"
        },
        "id": "YUP0eJ-nO2bG",
        "outputId": "5300ed73-90bd-4c78-b56f-aa8fc745ca99"
      },
      "execution_count": null,
      "outputs": [
        {
          "output_type": "execute_result",
          "data": {
            "text/plain": [
              "torch.Size([1, 28, 28])"
            ]
          },
          "metadata": {},
          "execution_count": 39
        }
      ]
    },
    {
      "cell_type": "code",
      "source": [
        "from torch.utils.data import DataLoader\n",
        "loaders = {\n",
        "    'train' : torch.utils.data.DataLoader(train_data,\n",
        "                                          batch_size=15,\n",
        "                                          shuffle=True,\n",
        "                                          num_workers=1),\n",
        "\n",
        "    'test'  : torch.utils.data.DataLoader(test_data,\n",
        "                                          batch_size=15,\n",
        "                                          shuffle=True,\n",
        "                                          num_workers=1),\n",
        "}\n",
        "loaders"
      ],
      "metadata": {
        "colab": {
          "base_uri": "https://localhost:8080/"
        },
        "id": "1oFsP2mBPx2s",
        "outputId": "7eccfafe-d645-4d06-e657-59c43ae19506"
      },
      "execution_count": null,
      "outputs": [
        {
          "output_type": "execute_result",
          "data": {
            "text/plain": [
              "{'train': <torch.utils.data.dataloader.DataLoader at 0x7b230b1751b0>,\n",
              " 'test': <torch.utils.data.dataloader.DataLoader at 0x7b230b177370>}"
            ]
          },
          "metadata": {},
          "execution_count": 40
        }
      ]
    },
    {
      "cell_type": "code",
      "source": [
        "import torch.nn as nn       #Importing Neural Network\n",
        "class CNN(nn.Module): #Defining CNN class and inheriting it from Neural Network Module Class.\n",
        "    def __init__(self):\n",
        "        super(CNN, self).__init__()  #Calling Parent Constructor\n",
        "        self.conv1 = nn.Sequential(               #First Layer\n",
        "            nn.Conv2d(\n",
        "                in_channels=1,       #in_channel is 1, bcz its gray image, if its coloured image it will be 3(Red, Green, and Blue)\n",
        "                out_channels=16,            #out_channel , outputs produced by the input channel\n",
        "                kernel_size=4,              #Selection of small matrix from the image tensor\n",
        "                stride=1,                   #number of pixel to be passed in the Cnn layer\n",
        "                padding=2,                  #Additional size added to the kernal matrix\n",
        "            ),\n",
        "            nn.ReLU(),\n",
        "            nn.MaxPool2d(kernel_size=2),\n",
        "        )\n",
        "        self.conv2 = nn.Sequential(             #Hidden Layers\n",
        "            nn.Conv2d(16, 32, 5, 1, 2),\n",
        "            nn.ReLU(),\n",
        "            nn.MaxPool2d(2),\n",
        "        )\n",
        "\n",
        "        # fully connected layer, output 10 classes\n",
        "        self.out = nn.Linear(32 * 7 * 7, 10)\n",
        "\n",
        "\n",
        "    def forward(self, x):\n",
        "        x = self.conv1(x)\n",
        "        x = self.conv2(x)\n",
        "        # flatten the output of conv2 to (batch_size, 32 * 7 * 7)\n",
        "        x = x.view(x.size(0), -1)\n",
        "        output = self.out(x)\n",
        "        return output, x"
      ],
      "metadata": {
        "id": "Md2lHtQmP5v5"
      },
      "execution_count": null,
      "outputs": []
    },
    {
      "cell_type": "code",
      "source": [
        "cnn = CNN()   #calling CNN constructor\n",
        "print(cnn)"
      ],
      "metadata": {
        "colab": {
          "base_uri": "https://localhost:8080/"
        },
        "id": "XWaj8rKiVQTA",
        "outputId": "7974f740-fa91-49ea-98b5-ef2399396ef3"
      },
      "execution_count": null,
      "outputs": [
        {
          "output_type": "stream",
          "name": "stdout",
          "text": [
            "CNN(\n",
            "  (conv1): Sequential(\n",
            "    (0): Conv2d(1, 16, kernel_size=(5, 5), stride=(1, 1), padding=(2, 2))\n",
            "    (1): ReLU()\n",
            "    (2): MaxPool2d(kernel_size=2, stride=2, padding=0, dilation=1, ceil_mode=False)\n",
            "  )\n",
            "  (conv2): Sequential(\n",
            "    (0): Conv2d(16, 32, kernel_size=(5, 5), stride=(1, 1), padding=(2, 2))\n",
            "    (1): ReLU()\n",
            "    (2): MaxPool2d(kernel_size=2, stride=2, padding=0, dilation=1, ceil_mode=False)\n",
            "  )\n",
            "  (out): Linear(in_features=1568, out_features=10, bias=True)\n",
            ")\n"
          ]
        }
      ]
    },
    {
      "cell_type": "code",
      "source": [
        "loss_func = nn.CrossEntropyLoss()\n",
        "loss_func"
      ],
      "metadata": {
        "colab": {
          "base_uri": "https://localhost:8080/"
        },
        "id": "u_2b5JdsVTF3",
        "outputId": "902127fe-12aa-4b31-bccc-76d7ed2f9366"
      },
      "execution_count": null,
      "outputs": [
        {
          "output_type": "execute_result",
          "data": {
            "text/plain": [
              "CrossEntropyLoss()"
            ]
          },
          "metadata": {},
          "execution_count": 43
        }
      ]
    },
    {
      "cell_type": "code",
      "source": [
        "from torch import optim\n",
        "optimizer = optim.Adam(cnn.parameters(), lr = 0.01)\n",
        "optimizer"
      ],
      "metadata": {
        "colab": {
          "base_uri": "https://localhost:8080/"
        },
        "id": "htnBH_49VWHi",
        "outputId": "e79963e4-9fd9-45a6-d675-91ef0dcd1a56"
      },
      "execution_count": null,
      "outputs": [
        {
          "output_type": "execute_result",
          "data": {
            "text/plain": [
              "Adam (\n",
              "Parameter Group 0\n",
              "    amsgrad: False\n",
              "    betas: (0.9, 0.999)\n",
              "    capturable: False\n",
              "    differentiable: False\n",
              "    eps: 1e-08\n",
              "    foreach: None\n",
              "    fused: None\n",
              "    lr: 0.01\n",
              "    maximize: False\n",
              "    weight_decay: 0\n",
              ")"
            ]
          },
          "metadata": {},
          "execution_count": 44
        }
      ]
    },
    {
      "cell_type": "code",
      "source": [
        "from torch.autograd import Variable\n",
        "num_epochs = 10\n",
        "def train(num_epochs, cnn, loaders):\n",
        "\n",
        "    cnn.train()\n",
        "\n",
        "    # Train the model\n",
        "    total_step = len(loaders['train'])\n",
        "\n",
        "    for epoch in range(num_epochs):\n",
        "        for i, (images, labels) in enumerate(loaders['train']):\n",
        "\n",
        "            # gives batch data, normalize x when iterate train_loader\n",
        "            b_x = Variable(images)   # batch x\n",
        "            b_y = Variable(labels)   # batch y\n",
        "            output = cnn(b_x)[0]\n",
        "            loss = loss_func(output, b_y)\n",
        "\n",
        "            # clear gradients for this training step\n",
        "            optimizer.zero_grad()\n",
        "\n",
        "            # backpropagation, compute gradients\n",
        "            loss.backward()\n",
        "            # apply gradients\n",
        "            optimizer.step()\n",
        "\n",
        "            if (i+1) % 100 == 0:\n",
        "                print ('Epoch [{}/{}], Step [{}/{}], Loss: {:.4f}'\n",
        "                       .format(epoch + 1, num_epochs, i + 1, total_step, loss.item()))\n",
        "\n",
        "train(num_epochs, cnn, loaders)"
      ],
      "metadata": {
        "colab": {
          "base_uri": "https://localhost:8080/"
        },
        "id": "pCIpA6r5VsV5",
        "outputId": "5ea85266-75ac-497c-fa29-6575d0680bc3"
      },
      "execution_count": null,
      "outputs": [
        {
          "output_type": "stream",
          "name": "stdout",
          "text": [
            "Epoch [1/10], Step [100/4000], Loss: 0.7528\n",
            "Epoch [1/10], Step [200/4000], Loss: 0.3992\n",
            "Epoch [1/10], Step [300/4000], Loss: 0.5056\n",
            "Epoch [1/10], Step [400/4000], Loss: 0.1981\n",
            "Epoch [1/10], Step [500/4000], Loss: 0.5752\n",
            "Epoch [1/10], Step [600/4000], Loss: 0.3886\n",
            "Epoch [1/10], Step [700/4000], Loss: 0.3587\n",
            "Epoch [1/10], Step [800/4000], Loss: 0.0593\n",
            "Epoch [1/10], Step [900/4000], Loss: 0.4442\n",
            "Epoch [1/10], Step [1000/4000], Loss: 0.5493\n",
            "Epoch [1/10], Step [1100/4000], Loss: 0.4922\n",
            "Epoch [1/10], Step [1200/4000], Loss: 0.0917\n",
            "Epoch [1/10], Step [1300/4000], Loss: 0.5024\n",
            "Epoch [1/10], Step [1400/4000], Loss: 0.9251\n",
            "Epoch [1/10], Step [1500/4000], Loss: 0.6027\n",
            "Epoch [1/10], Step [1600/4000], Loss: 0.2285\n",
            "Epoch [1/10], Step [1700/4000], Loss: 0.2828\n",
            "Epoch [1/10], Step [1800/4000], Loss: 0.2728\n",
            "Epoch [1/10], Step [1900/4000], Loss: 0.8660\n",
            "Epoch [1/10], Step [2000/4000], Loss: 0.2656\n",
            "Epoch [1/10], Step [2100/4000], Loss: 0.3304\n",
            "Epoch [1/10], Step [2200/4000], Loss: 0.6116\n",
            "Epoch [1/10], Step [2300/4000], Loss: 0.0726\n",
            "Epoch [1/10], Step [2400/4000], Loss: 0.2406\n",
            "Epoch [1/10], Step [2500/4000], Loss: 0.6051\n",
            "Epoch [1/10], Step [2600/4000], Loss: 0.7227\n",
            "Epoch [1/10], Step [2700/4000], Loss: 0.3319\n",
            "Epoch [1/10], Step [2800/4000], Loss: 0.6279\n",
            "Epoch [1/10], Step [2900/4000], Loss: 0.5504\n",
            "Epoch [1/10], Step [3000/4000], Loss: 0.2096\n",
            "Epoch [1/10], Step [3100/4000], Loss: 0.0674\n",
            "Epoch [1/10], Step [3200/4000], Loss: 0.2730\n",
            "Epoch [1/10], Step [3300/4000], Loss: 0.2993\n",
            "Epoch [1/10], Step [3400/4000], Loss: 0.0986\n",
            "Epoch [1/10], Step [3500/4000], Loss: 0.3443\n",
            "Epoch [1/10], Step [3600/4000], Loss: 0.4394\n",
            "Epoch [1/10], Step [3700/4000], Loss: 0.3082\n",
            "Epoch [1/10], Step [3800/4000], Loss: 0.2500\n",
            "Epoch [1/10], Step [3900/4000], Loss: 0.1759\n",
            "Epoch [1/10], Step [4000/4000], Loss: 0.3608\n",
            "Epoch [2/10], Step [100/4000], Loss: 0.3609\n",
            "Epoch [2/10], Step [200/4000], Loss: 0.3679\n",
            "Epoch [2/10], Step [300/4000], Loss: 0.4743\n",
            "Epoch [2/10], Step [400/4000], Loss: 0.1558\n",
            "Epoch [2/10], Step [500/4000], Loss: 0.5339\n",
            "Epoch [2/10], Step [600/4000], Loss: 0.6274\n",
            "Epoch [2/10], Step [700/4000], Loss: 0.7382\n",
            "Epoch [2/10], Step [800/4000], Loss: 0.8451\n",
            "Epoch [2/10], Step [900/4000], Loss: 0.2736\n",
            "Epoch [2/10], Step [1000/4000], Loss: 0.4694\n",
            "Epoch [2/10], Step [1100/4000], Loss: 0.9172\n",
            "Epoch [2/10], Step [1200/4000], Loss: 0.6482\n",
            "Epoch [2/10], Step [1300/4000], Loss: 0.8019\n",
            "Epoch [2/10], Step [1400/4000], Loss: 0.0307\n",
            "Epoch [2/10], Step [1500/4000], Loss: 0.2555\n",
            "Epoch [2/10], Step [1600/4000], Loss: 0.7158\n",
            "Epoch [2/10], Step [1700/4000], Loss: 0.2574\n",
            "Epoch [2/10], Step [1800/4000], Loss: 0.3986\n",
            "Epoch [2/10], Step [1900/4000], Loss: 0.8237\n",
            "Epoch [2/10], Step [2000/4000], Loss: 0.4936\n",
            "Epoch [2/10], Step [2100/4000], Loss: 0.3860\n",
            "Epoch [2/10], Step [2200/4000], Loss: 0.4600\n",
            "Epoch [2/10], Step [2300/4000], Loss: 0.6816\n",
            "Epoch [2/10], Step [2400/4000], Loss: 0.1887\n",
            "Epoch [2/10], Step [2500/4000], Loss: 0.2690\n",
            "Epoch [2/10], Step [2600/4000], Loss: 0.5422\n",
            "Epoch [2/10], Step [2700/4000], Loss: 0.2198\n",
            "Epoch [2/10], Step [2800/4000], Loss: 0.2853\n",
            "Epoch [2/10], Step [2900/4000], Loss: 0.2452\n",
            "Epoch [2/10], Step [3000/4000], Loss: 0.3338\n",
            "Epoch [2/10], Step [3100/4000], Loss: 0.1986\n",
            "Epoch [2/10], Step [3200/4000], Loss: 0.1545\n",
            "Epoch [2/10], Step [3300/4000], Loss: 0.2473\n",
            "Epoch [2/10], Step [3400/4000], Loss: 0.1669\n",
            "Epoch [2/10], Step [3500/4000], Loss: 0.4496\n",
            "Epoch [2/10], Step [3600/4000], Loss: 0.3706\n",
            "Epoch [2/10], Step [3700/4000], Loss: 0.4214\n",
            "Epoch [2/10], Step [3800/4000], Loss: 0.2931\n",
            "Epoch [2/10], Step [3900/4000], Loss: 0.5870\n",
            "Epoch [2/10], Step [4000/4000], Loss: 0.2328\n",
            "Epoch [3/10], Step [100/4000], Loss: 0.5202\n",
            "Epoch [3/10], Step [200/4000], Loss: 0.3283\n",
            "Epoch [3/10], Step [300/4000], Loss: 0.4331\n",
            "Epoch [3/10], Step [400/4000], Loss: 0.4449\n",
            "Epoch [3/10], Step [500/4000], Loss: 0.5723\n",
            "Epoch [3/10], Step [600/4000], Loss: 0.3137\n",
            "Epoch [3/10], Step [700/4000], Loss: 0.6341\n",
            "Epoch [3/10], Step [800/4000], Loss: 0.2718\n",
            "Epoch [3/10], Step [900/4000], Loss: 0.4287\n",
            "Epoch [3/10], Step [1000/4000], Loss: 0.4441\n",
            "Epoch [3/10], Step [1100/4000], Loss: 0.3316\n",
            "Epoch [3/10], Step [1200/4000], Loss: 0.1892\n",
            "Epoch [3/10], Step [1300/4000], Loss: 0.1682\n",
            "Epoch [3/10], Step [1400/4000], Loss: 0.1201\n",
            "Epoch [3/10], Step [1500/4000], Loss: 0.5208\n",
            "Epoch [3/10], Step [1600/4000], Loss: 0.2713\n",
            "Epoch [3/10], Step [1700/4000], Loss: 0.3263\n",
            "Epoch [3/10], Step [1800/4000], Loss: 0.2941\n",
            "Epoch [3/10], Step [1900/4000], Loss: 0.4867\n",
            "Epoch [3/10], Step [2000/4000], Loss: 0.4458\n",
            "Epoch [3/10], Step [2100/4000], Loss: 0.4879\n",
            "Epoch [3/10], Step [2200/4000], Loss: 0.4889\n",
            "Epoch [3/10], Step [2300/4000], Loss: 0.7360\n",
            "Epoch [3/10], Step [2400/4000], Loss: 0.5184\n",
            "Epoch [3/10], Step [2500/4000], Loss: 0.4119\n",
            "Epoch [3/10], Step [2600/4000], Loss: 0.2558\n",
            "Epoch [3/10], Step [2700/4000], Loss: 0.4281\n",
            "Epoch [3/10], Step [2800/4000], Loss: 0.4282\n",
            "Epoch [3/10], Step [2900/4000], Loss: 0.3587\n",
            "Epoch [3/10], Step [3000/4000], Loss: 0.2300\n",
            "Epoch [3/10], Step [3100/4000], Loss: 0.3786\n",
            "Epoch [3/10], Step [3200/4000], Loss: 0.4709\n",
            "Epoch [3/10], Step [3300/4000], Loss: 0.5513\n",
            "Epoch [3/10], Step [3400/4000], Loss: 0.3749\n",
            "Epoch [3/10], Step [3500/4000], Loss: 0.0673\n",
            "Epoch [3/10], Step [3600/4000], Loss: 0.1664\n",
            "Epoch [3/10], Step [3700/4000], Loss: 0.2063\n",
            "Epoch [3/10], Step [3800/4000], Loss: 0.5787\n",
            "Epoch [3/10], Step [3900/4000], Loss: 0.3917\n",
            "Epoch [3/10], Step [4000/4000], Loss: 0.4734\n",
            "Epoch [4/10], Step [100/4000], Loss: 0.4478\n",
            "Epoch [4/10], Step [200/4000], Loss: 0.5826\n",
            "Epoch [4/10], Step [300/4000], Loss: 0.2250\n",
            "Epoch [4/10], Step [400/4000], Loss: 0.3067\n",
            "Epoch [4/10], Step [500/4000], Loss: 0.1834\n",
            "Epoch [4/10], Step [600/4000], Loss: 0.9131\n",
            "Epoch [4/10], Step [700/4000], Loss: 0.2557\n",
            "Epoch [4/10], Step [800/4000], Loss: 0.3360\n",
            "Epoch [4/10], Step [900/4000], Loss: 0.1405\n",
            "Epoch [4/10], Step [1000/4000], Loss: 0.7497\n",
            "Epoch [4/10], Step [1100/4000], Loss: 0.4123\n",
            "Epoch [4/10], Step [1200/4000], Loss: 0.1762\n",
            "Epoch [4/10], Step [1300/4000], Loss: 0.1133\n",
            "Epoch [4/10], Step [1400/4000], Loss: 0.5185\n",
            "Epoch [4/10], Step [1500/4000], Loss: 0.5291\n",
            "Epoch [4/10], Step [1600/4000], Loss: 0.8923\n",
            "Epoch [4/10], Step [1700/4000], Loss: 0.4186\n",
            "Epoch [4/10], Step [1800/4000], Loss: 0.2247\n",
            "Epoch [4/10], Step [1900/4000], Loss: 0.5252\n",
            "Epoch [4/10], Step [2000/4000], Loss: 0.4940\n",
            "Epoch [4/10], Step [2100/4000], Loss: 0.0277\n",
            "Epoch [4/10], Step [2200/4000], Loss: 0.4183\n",
            "Epoch [4/10], Step [2300/4000], Loss: 0.3605\n",
            "Epoch [4/10], Step [2400/4000], Loss: 0.4648\n",
            "Epoch [4/10], Step [2500/4000], Loss: 0.2110\n",
            "Epoch [4/10], Step [2600/4000], Loss: 0.4015\n",
            "Epoch [4/10], Step [2700/4000], Loss: 0.3700\n",
            "Epoch [4/10], Step [2800/4000], Loss: 0.4036\n",
            "Epoch [4/10], Step [2900/4000], Loss: 0.7112\n",
            "Epoch [4/10], Step [3000/4000], Loss: 0.0199\n",
            "Epoch [4/10], Step [3100/4000], Loss: 0.3319\n",
            "Epoch [4/10], Step [3200/4000], Loss: 1.1240\n",
            "Epoch [4/10], Step [3300/4000], Loss: 0.3978\n",
            "Epoch [4/10], Step [3400/4000], Loss: 0.2144\n",
            "Epoch [4/10], Step [3500/4000], Loss: 0.5785\n",
            "Epoch [4/10], Step [3600/4000], Loss: 0.6752\n",
            "Epoch [4/10], Step [3700/4000], Loss: 0.3564\n",
            "Epoch [4/10], Step [3800/4000], Loss: 0.3112\n",
            "Epoch [4/10], Step [3900/4000], Loss: 0.2422\n",
            "Epoch [4/10], Step [4000/4000], Loss: 0.1927\n",
            "Epoch [5/10], Step [100/4000], Loss: 0.2771\n",
            "Epoch [5/10], Step [200/4000], Loss: 0.8425\n",
            "Epoch [5/10], Step [300/4000], Loss: 0.4748\n",
            "Epoch [5/10], Step [400/4000], Loss: 0.1696\n",
            "Epoch [5/10], Step [600/4000], Loss: 0.5202\n",
            "Epoch [5/10], Step [700/4000], Loss: 0.9480\n",
            "Epoch [5/10], Step [800/4000], Loss: 0.2694\n",
            "Epoch [5/10], Step [900/4000], Loss: 0.3033\n",
            "Epoch [5/10], Step [1000/4000], Loss: 0.1708\n",
            "Epoch [5/10], Step [1100/4000], Loss: 0.2788\n",
            "Epoch [5/10], Step [1200/4000], Loss: 0.2544\n",
            "Epoch [5/10], Step [1300/4000], Loss: 0.4876\n",
            "Epoch [5/10], Step [1400/4000], Loss: 0.7106\n",
            "Epoch [5/10], Step [1500/4000], Loss: 0.3805\n",
            "Epoch [5/10], Step [1600/4000], Loss: 0.7579\n",
            "Epoch [5/10], Step [1700/4000], Loss: 0.1947\n",
            "Epoch [5/10], Step [1800/4000], Loss: 0.4496\n",
            "Epoch [5/10], Step [1900/4000], Loss: 0.8116\n",
            "Epoch [5/10], Step [2000/4000], Loss: 0.3332\n",
            "Epoch [5/10], Step [2100/4000], Loss: 0.5972\n",
            "Epoch [5/10], Step [2200/4000], Loss: 0.3971\n",
            "Epoch [5/10], Step [2300/4000], Loss: 0.2478\n",
            "Epoch [5/10], Step [2400/4000], Loss: 0.4040\n",
            "Epoch [5/10], Step [2500/4000], Loss: 0.3272\n",
            "Epoch [5/10], Step [2600/4000], Loss: 0.1630\n",
            "Epoch [5/10], Step [2700/4000], Loss: 0.2831\n",
            "Epoch [5/10], Step [2800/4000], Loss: 0.1634\n",
            "Epoch [5/10], Step [2900/4000], Loss: 0.6378\n",
            "Epoch [5/10], Step [3000/4000], Loss: 0.1717\n",
            "Epoch [5/10], Step [3100/4000], Loss: 0.4718\n",
            "Epoch [5/10], Step [3200/4000], Loss: 0.2417\n",
            "Epoch [5/10], Step [3300/4000], Loss: 0.1728\n",
            "Epoch [5/10], Step [3400/4000], Loss: 0.0901\n",
            "Epoch [5/10], Step [3500/4000], Loss: 0.1745\n",
            "Epoch [5/10], Step [3600/4000], Loss: 0.4130\n",
            "Epoch [5/10], Step [3700/4000], Loss: 0.6536\n",
            "Epoch [5/10], Step [3800/4000], Loss: 0.0678\n",
            "Epoch [5/10], Step [3900/4000], Loss: 0.7804\n",
            "Epoch [5/10], Step [4000/4000], Loss: 0.7018\n",
            "Epoch [6/10], Step [100/4000], Loss: 0.2207\n",
            "Epoch [6/10], Step [200/4000], Loss: 0.2669\n",
            "Epoch [6/10], Step [300/4000], Loss: 0.4337\n",
            "Epoch [6/10], Step [400/4000], Loss: 0.4754\n",
            "Epoch [6/10], Step [500/4000], Loss: 0.8812\n",
            "Epoch [6/10], Step [600/4000], Loss: 0.5380\n",
            "Epoch [6/10], Step [700/4000], Loss: 0.1684\n",
            "Epoch [6/10], Step [800/4000], Loss: 0.2675\n",
            "Epoch [6/10], Step [900/4000], Loss: 0.6358\n",
            "Epoch [6/10], Step [1000/4000], Loss: 0.3110\n",
            "Epoch [6/10], Step [1100/4000], Loss: 0.2724\n",
            "Epoch [6/10], Step [1200/4000], Loss: 0.1177\n",
            "Epoch [6/10], Step [1300/4000], Loss: 0.1479\n",
            "Epoch [6/10], Step [1400/4000], Loss: 0.2532\n",
            "Epoch [6/10], Step [1500/4000], Loss: 0.3643\n",
            "Epoch [6/10], Step [1600/4000], Loss: 0.3021\n",
            "Epoch [6/10], Step [1700/4000], Loss: 0.3207\n",
            "Epoch [6/10], Step [1800/4000], Loss: 0.5260\n",
            "Epoch [6/10], Step [1900/4000], Loss: 0.0984\n",
            "Epoch [6/10], Step [2000/4000], Loss: 0.5406\n",
            "Epoch [6/10], Step [2100/4000], Loss: 0.1804\n",
            "Epoch [6/10], Step [2200/4000], Loss: 0.1689\n",
            "Epoch [6/10], Step [2300/4000], Loss: 0.3272\n",
            "Epoch [6/10], Step [2400/4000], Loss: 0.3726\n",
            "Epoch [6/10], Step [2500/4000], Loss: 0.4059\n",
            "Epoch [6/10], Step [2600/4000], Loss: 0.4172\n",
            "Epoch [6/10], Step [2700/4000], Loss: 0.5506\n",
            "Epoch [6/10], Step [2800/4000], Loss: 0.1109\n",
            "Epoch [6/10], Step [2900/4000], Loss: 0.1551\n",
            "Epoch [6/10], Step [3000/4000], Loss: 0.2300\n",
            "Epoch [6/10], Step [3100/4000], Loss: 0.6358\n",
            "Epoch [6/10], Step [3200/4000], Loss: 0.3065\n",
            "Epoch [6/10], Step [3300/4000], Loss: 0.5375\n",
            "Epoch [6/10], Step [3400/4000], Loss: 0.2744\n",
            "Epoch [6/10], Step [3500/4000], Loss: 0.7080\n",
            "Epoch [6/10], Step [3600/4000], Loss: 0.3855\n",
            "Epoch [6/10], Step [3700/4000], Loss: 0.2632\n",
            "Epoch [6/10], Step [3800/4000], Loss: 0.5577\n",
            "Epoch [6/10], Step [3900/4000], Loss: 0.2175\n",
            "Epoch [6/10], Step [4000/4000], Loss: 0.3662\n",
            "Epoch [7/10], Step [100/4000], Loss: 0.3050\n",
            "Epoch [7/10], Step [200/4000], Loss: 0.4595\n",
            "Epoch [7/10], Step [300/4000], Loss: 0.3159\n",
            "Epoch [7/10], Step [400/4000], Loss: 0.5309\n",
            "Epoch [7/10], Step [500/4000], Loss: 0.0741\n",
            "Epoch [7/10], Step [600/4000], Loss: 0.2046\n",
            "Epoch [7/10], Step [700/4000], Loss: 0.6476\n",
            "Epoch [7/10], Step [800/4000], Loss: 0.2135\n",
            "Epoch [7/10], Step [900/4000], Loss: 0.6309\n",
            "Epoch [7/10], Step [1000/4000], Loss: 0.6247\n",
            "Epoch [7/10], Step [1100/4000], Loss: 0.4409\n",
            "Epoch [7/10], Step [1200/4000], Loss: 0.1060\n",
            "Epoch [7/10], Step [1300/4000], Loss: 0.1633\n",
            "Epoch [7/10], Step [1400/4000], Loss: 0.1759\n",
            "Epoch [7/10], Step [1500/4000], Loss: 0.3638\n",
            "Epoch [7/10], Step [1600/4000], Loss: 0.5506\n",
            "Epoch [7/10], Step [1700/4000], Loss: 0.1088\n",
            "Epoch [7/10], Step [1800/4000], Loss: 0.1730\n",
            "Epoch [7/10], Step [1900/4000], Loss: 0.3383\n",
            "Epoch [7/10], Step [2000/4000], Loss: 0.1995\n",
            "Epoch [7/10], Step [2100/4000], Loss: 0.5099\n",
            "Epoch [7/10], Step [2200/4000], Loss: 0.3926\n",
            "Epoch [7/10], Step [2300/4000], Loss: 0.4287\n",
            "Epoch [7/10], Step [2400/4000], Loss: 0.0729\n",
            "Epoch [7/10], Step [2500/4000], Loss: 0.1942\n",
            "Epoch [7/10], Step [2600/4000], Loss: 0.2209\n",
            "Epoch [7/10], Step [2700/4000], Loss: 0.7663\n",
            "Epoch [7/10], Step [2800/4000], Loss: 0.2995\n",
            "Epoch [7/10], Step [2900/4000], Loss: 0.5961\n",
            "Epoch [7/10], Step [3000/4000], Loss: 0.1548\n",
            "Epoch [7/10], Step [3100/4000], Loss: 0.1764\n",
            "Epoch [7/10], Step [3200/4000], Loss: 0.0595\n",
            "Epoch [7/10], Step [3300/4000], Loss: 0.2420\n",
            "Epoch [7/10], Step [3400/4000], Loss: 1.0848\n",
            "Epoch [7/10], Step [3500/4000], Loss: 0.2811\n",
            "Epoch [7/10], Step [3600/4000], Loss: 0.2869\n",
            "Epoch [7/10], Step [3700/4000], Loss: 0.2959\n",
            "Epoch [7/10], Step [3800/4000], Loss: 0.5478\n",
            "Epoch [7/10], Step [3900/4000], Loss: 0.6975\n",
            "Epoch [7/10], Step [4000/4000], Loss: 0.3918\n",
            "Epoch [8/10], Step [100/4000], Loss: 0.6724\n",
            "Epoch [8/10], Step [200/4000], Loss: 0.1605\n",
            "Epoch [8/10], Step [300/4000], Loss: 0.1472\n",
            "Epoch [8/10], Step [400/4000], Loss: 0.3782\n",
            "Epoch [8/10], Step [500/4000], Loss: 0.2145\n",
            "Epoch [8/10], Step [600/4000], Loss: 0.4389\n",
            "Epoch [8/10], Step [700/4000], Loss: 0.6500\n",
            "Epoch [8/10], Step [800/4000], Loss: 0.4585\n",
            "Epoch [8/10], Step [900/4000], Loss: 0.2291\n",
            "Epoch [8/10], Step [1000/4000], Loss: 0.4821\n",
            "Epoch [8/10], Step [1100/4000], Loss: 0.5238\n",
            "Epoch [8/10], Step [1200/4000], Loss: 0.9671\n",
            "Epoch [8/10], Step [1300/4000], Loss: 0.3016\n",
            "Epoch [8/10], Step [1400/4000], Loss: 0.3284\n",
            "Epoch [8/10], Step [1500/4000], Loss: 0.2601\n",
            "Epoch [8/10], Step [1600/4000], Loss: 0.3467\n",
            "Epoch [8/10], Step [1700/4000], Loss: 0.2800\n",
            "Epoch [8/10], Step [1800/4000], Loss: 0.3223\n",
            "Epoch [8/10], Step [1900/4000], Loss: 0.1967\n",
            "Epoch [8/10], Step [2000/4000], Loss: 1.1649\n",
            "Epoch [8/10], Step [2100/4000], Loss: 0.0539\n",
            "Epoch [8/10], Step [2200/4000], Loss: 0.3584\n",
            "Epoch [8/10], Step [2300/4000], Loss: 0.5264\n",
            "Epoch [8/10], Step [2400/4000], Loss: 0.2610\n",
            "Epoch [8/10], Step [2500/4000], Loss: 0.6259\n",
            "Epoch [8/10], Step [2600/4000], Loss: 0.0611\n",
            "Epoch [8/10], Step [2700/4000], Loss: 0.1828\n",
            "Epoch [8/10], Step [2800/4000], Loss: 0.1086\n",
            "Epoch [8/10], Step [2900/4000], Loss: 0.1601\n",
            "Epoch [8/10], Step [3000/4000], Loss: 0.2680\n",
            "Epoch [8/10], Step [3100/4000], Loss: 0.6260\n",
            "Epoch [8/10], Step [3200/4000], Loss: 0.0883\n",
            "Epoch [8/10], Step [3300/4000], Loss: 0.3817\n",
            "Epoch [8/10], Step [3400/4000], Loss: 0.0679\n",
            "Epoch [8/10], Step [3500/4000], Loss: 0.6960\n",
            "Epoch [8/10], Step [3600/4000], Loss: 0.0594\n",
            "Epoch [8/10], Step [3700/4000], Loss: 0.0646\n",
            "Epoch [8/10], Step [3800/4000], Loss: 0.2577\n",
            "Epoch [8/10], Step [3900/4000], Loss: 0.4553\n",
            "Epoch [8/10], Step [4000/4000], Loss: 0.8805\n",
            "Epoch [9/10], Step [100/4000], Loss: 0.2081\n",
            "Epoch [9/10], Step [200/4000], Loss: 0.4210\n",
            "Epoch [9/10], Step [300/4000], Loss: 0.4326\n",
            "Epoch [9/10], Step [400/4000], Loss: 0.3660\n",
            "Epoch [9/10], Step [500/4000], Loss: 0.1172\n",
            "Epoch [9/10], Step [600/4000], Loss: 0.1653\n",
            "Epoch [9/10], Step [700/4000], Loss: 0.4754\n",
            "Epoch [9/10], Step [800/4000], Loss: 0.2538\n",
            "Epoch [9/10], Step [900/4000], Loss: 0.4108\n",
            "Epoch [9/10], Step [1000/4000], Loss: 0.1681\n",
            "Epoch [9/10], Step [1100/4000], Loss: 0.4226\n",
            "Epoch [9/10], Step [1200/4000], Loss: 0.2226\n",
            "Epoch [9/10], Step [1300/4000], Loss: 0.3534\n",
            "Epoch [9/10], Step [1400/4000], Loss: 0.2283\n",
            "Epoch [9/10], Step [1500/4000], Loss: 0.1854\n",
            "Epoch [9/10], Step [1600/4000], Loss: 0.6202\n",
            "Epoch [9/10], Step [1700/4000], Loss: 0.5257\n",
            "Epoch [9/10], Step [1800/4000], Loss: 1.0242\n",
            "Epoch [9/10], Step [1900/4000], Loss: 0.2269\n",
            "Epoch [9/10], Step [2000/4000], Loss: 0.2187\n",
            "Epoch [9/10], Step [2100/4000], Loss: 0.2038\n",
            "Epoch [9/10], Step [2200/4000], Loss: 0.7612\n",
            "Epoch [9/10], Step [2300/4000], Loss: 0.3967\n",
            "Epoch [9/10], Step [2400/4000], Loss: 0.6295\n",
            "Epoch [9/10], Step [2500/4000], Loss: 0.3199\n",
            "Epoch [9/10], Step [2600/4000], Loss: 0.1270\n",
            "Epoch [9/10], Step [2700/4000], Loss: 0.5112\n",
            "Epoch [9/10], Step [2800/4000], Loss: 0.3366\n",
            "Epoch [9/10], Step [2900/4000], Loss: 0.1940\n",
            "Epoch [9/10], Step [3000/4000], Loss: 0.0982\n",
            "Epoch [9/10], Step [3100/4000], Loss: 0.3362\n",
            "Epoch [9/10], Step [3200/4000], Loss: 0.1932\n",
            "Epoch [9/10], Step [3300/4000], Loss: 0.2807\n",
            "Epoch [9/10], Step [3400/4000], Loss: 0.6096\n",
            "Epoch [9/10], Step [3500/4000], Loss: 0.8555\n",
            "Epoch [9/10], Step [3600/4000], Loss: 0.1203\n",
            "Epoch [9/10], Step [3700/4000], Loss: 0.4586\n",
            "Epoch [9/10], Step [3800/4000], Loss: 0.3654\n",
            "Epoch [9/10], Step [3900/4000], Loss: 0.0449\n",
            "Epoch [9/10], Step [4000/4000], Loss: 0.2940\n",
            "Epoch [10/10], Step [100/4000], Loss: 0.4604\n",
            "Epoch [10/10], Step [200/4000], Loss: 0.4367\n",
            "Epoch [10/10], Step [300/4000], Loss: 0.5261\n",
            "Epoch [10/10], Step [400/4000], Loss: 0.2373\n",
            "Epoch [10/10], Step [500/4000], Loss: 0.6394\n",
            "Epoch [10/10], Step [600/4000], Loss: 0.3338\n",
            "Epoch [10/10], Step [700/4000], Loss: 0.4204\n",
            "Epoch [10/10], Step [800/4000], Loss: 0.2290\n",
            "Epoch [10/10], Step [900/4000], Loss: 0.3235\n",
            "Epoch [10/10], Step [1000/4000], Loss: 0.4043\n",
            "Epoch [10/10], Step [1100/4000], Loss: 0.3049\n",
            "Epoch [10/10], Step [1200/4000], Loss: 0.4164\n",
            "Epoch [10/10], Step [1300/4000], Loss: 1.3049\n",
            "Epoch [10/10], Step [1400/4000], Loss: 0.4769\n",
            "Epoch [10/10], Step [1500/4000], Loss: 0.5239\n",
            "Epoch [10/10], Step [1600/4000], Loss: 0.1606\n",
            "Epoch [10/10], Step [1700/4000], Loss: 0.6062\n",
            "Epoch [10/10], Step [1800/4000], Loss: 0.4325\n",
            "Epoch [10/10], Step [1900/4000], Loss: 0.6435\n",
            "Epoch [10/10], Step [2000/4000], Loss: 1.0676\n",
            "Epoch [10/10], Step [2100/4000], Loss: 0.3147\n",
            "Epoch [10/10], Step [2200/4000], Loss: 0.4817\n",
            "Epoch [10/10], Step [2300/4000], Loss: 0.3753\n",
            "Epoch [10/10], Step [2400/4000], Loss: 0.3776\n",
            "Epoch [10/10], Step [2500/4000], Loss: 0.2128\n",
            "Epoch [10/10], Step [2600/4000], Loss: 0.0959\n",
            "Epoch [10/10], Step [2700/4000], Loss: 0.2375\n",
            "Epoch [10/10], Step [2800/4000], Loss: 0.1319\n",
            "Epoch [10/10], Step [2900/4000], Loss: 0.7418\n",
            "Epoch [10/10], Step [3000/4000], Loss: 0.5249\n",
            "Epoch [10/10], Step [3100/4000], Loss: 0.3279\n",
            "Epoch [10/10], Step [3200/4000], Loss: 0.7754\n",
            "Epoch [10/10], Step [3300/4000], Loss: 0.5207\n",
            "Epoch [10/10], Step [3400/4000], Loss: 0.4187\n",
            "Epoch [10/10], Step [3500/4000], Loss: 0.4815\n",
            "Epoch [10/10], Step [3600/4000], Loss: 0.2723\n",
            "Epoch [10/10], Step [3700/4000], Loss: 0.2804\n",
            "Epoch [10/10], Step [3800/4000], Loss: 0.5325\n",
            "Epoch [10/10], Step [3900/4000], Loss: 0.3136\n",
            "Epoch [10/10], Step [4000/4000], Loss: 0.4992\n"
          ]
        }
      ]
    },
    {
      "cell_type": "code",
      "source": [
        "def test():\n",
        "    # Test the model\n",
        "    cnn.eval()\n",
        "    with torch.no_grad():\n",
        "        correct = 0\n",
        "        total = 0\n",
        "        for images, labels in loaders['test']:\n",
        "            test_output, last_layer = cnn(images)\n",
        "            pred_y = torch.max(test_output, 1)[1].data.squeeze()\n",
        "            accuracy = (pred_y == labels).sum().item() / float(labels.size(0))\n",
        "\n",
        "\n",
        "        print('Test Accuracy of the model on the 10000 test images: %.2f' % accuracy)\n",
        "\n",
        "test()"
      ],
      "metadata": {
        "colab": {
          "base_uri": "https://localhost:8080/"
        },
        "id": "DOOzg0yPXs1g",
        "outputId": "cc11f35f-ff2f-4a55-de3d-d7f66e64bd63"
      },
      "execution_count": null,
      "outputs": [
        {
          "output_type": "stream",
          "name": "stdout",
          "text": [
            "Test Accuracy of the model on the 10000 test images: 0.70\n"
          ]
        }
      ]
    },
    {
      "cell_type": "code",
      "source": [
        "sample = next(iter(loaders['test']))\n",
        "imgs, lbls = sample"
      ],
      "metadata": {
        "id": "lyjxt8ydYEOd"
      },
      "execution_count": null,
      "outputs": []
    },
    {
      "cell_type": "code",
      "source": [
        "actual_number = lbls[:10].numpy()\n",
        "actual_number"
      ],
      "metadata": {
        "colab": {
          "base_uri": "https://localhost:8080/"
        },
        "id": "eJ7VHmpYYLnV",
        "outputId": "d29a7758-e32c-442d-d064-bd77a61c78c7"
      },
      "execution_count": null,
      "outputs": [
        {
          "output_type": "execute_result",
          "data": {
            "text/plain": [
              "array([8, 4, 3, 2, 2, 8, 1, 2, 6, 7])"
            ]
          },
          "metadata": {},
          "execution_count": 49
        }
      ]
    },
    {
      "cell_type": "code",
      "source": [
        "test_output, last_layer = cnn(imgs[:10])\n",
        "pred_y = torch.max(test_output, 1)[1].data.numpy().squeeze()\n",
        "print(f'Prediction number: {pred_y}')\n",
        "print(f'Actual number: {actual_number}')"
      ],
      "metadata": {
        "colab": {
          "base_uri": "https://localhost:8080/"
        },
        "id": "HMfOptfGYRRG",
        "outputId": "61f83a06-df7b-49a2-cb44-3a0579eedd0b"
      },
      "execution_count": null,
      "outputs": [
        {
          "output_type": "stream",
          "name": "stdout",
          "text": [
            "Prediction number: [8 4 3 2 2 8 1 4 2 7]\n",
            "Actual number: [8 4 3 2 2 8 1 2 6 7]\n"
          ]
        }
      ]
    }
  ]
}