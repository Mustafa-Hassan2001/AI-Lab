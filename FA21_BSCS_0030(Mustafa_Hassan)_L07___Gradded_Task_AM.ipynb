{
  "nbformat": 4,
  "nbformat_minor": 0,
  "metadata": {
    "colab": {
      "provenance": [],
      "toc_visible": true
    },
    "kernelspec": {
      "name": "python3",
      "display_name": "Python 3"
    },
    "language_info": {
      "name": "python"
    }
  },
  "cells": [
    {
      "cell_type": "markdown",
      "source": [
        "Step 1: Load the Dataset data.csv"
      ],
      "metadata": {
        "id": "E3PaLlW4-2GN"
      }
    },
    {
      "cell_type": "code",
      "execution_count": null,
      "metadata": {
        "id": "GbmEjDZF-wmT"
      },
      "outputs": [],
      "source": [
        "import pandas as pd\n",
        "\n",
        "DataSet = pd.read_csv('data.csv')\n",
        "\n",
        "print(DataSet.head())"
      ]
    },
    {
      "cell_type": "markdown",
      "source": [
        "Step 2: look at the columns in the dataset"
      ],
      "metadata": {
        "id": "-LBYxfq3J5gW"
      }
    },
    {
      "cell_type": "code",
      "source": [
        "col = DataSet.columns\n",
        "print(col)"
      ],
      "metadata": {
        "id": "tXMuyqdDJ758"
      },
      "execution_count": null,
      "outputs": []
    },
    {
      "cell_type": "markdown",
      "source": [
        "Step 3: Look for any null values and get rid of those values to make a clean data set"
      ],
      "metadata": {
        "id": "AzfSBpZYJ8Hg"
      }
    },
    {
      "cell_type": "code",
      "source": [
        "null_values = DataSet.isnull().sum()\n",
        "print(\"Null Values:\\n\", null_values)\n",
        "\n",
        "clean_DataSet = DataSet.dropna()\n",
        "\n",
        "print(\"Clean DataSet Info:\")\n",
        "clean_DataSet.info()"
      ],
      "metadata": {
        "id": "O4wAXGVyJ-Fu"
      },
      "execution_count": null,
      "outputs": []
    },
    {
      "cell_type": "markdown",
      "source": [
        "Step 4:  Delete column name as ID from dataset"
      ],
      "metadata": {
        "id": "51UHcbiRJ-UH"
      }
    },
    {
      "cell_type": "code",
      "source": [
        "if 'id' in DataSet.columns:\n",
        "    DataSet = DataSet.drop('id', axis=1)\n",
        "else:\n",
        "    print(\"Col id not exist\")\n",
        "\n",
        "print(\"After Potential Deletion:\\n\", DataSet.columns)"
      ],
      "metadata": {
        "id": "3y43RrVsKHm3"
      },
      "execution_count": null,
      "outputs": []
    },
    {
      "cell_type": "markdown",
      "source": [
        "Step 5:  Delete column name as Unnamed from dataset"
      ],
      "metadata": {
        "id": "xKaeZk-8KH2X"
      }
    },
    {
      "cell_type": "code",
      "source": [
        "if 'Unnamed: 32' in DataSet.columns:\n",
        "    DataSet = DataSet.drop('Unnamed: 32', axis=1)\n",
        "else:\n",
        "    print(\"Unnamed = 32 not exist Here\")\n",
        "\n",
        "print(\"After potential deletion:\\n\", DataSet.columns)"
      ],
      "metadata": {
        "id": "eajw2nk4KMN2"
      },
      "execution_count": null,
      "outputs": []
    },
    {
      "cell_type": "markdown",
      "source": [
        "Step 6: Assign the values 0 or 1 and adding a new column 'isCancer'.\n",
        "\n",
        "Classify the data into two categories 1 and 0 , if column diagnosis is M than set isCancer field to 1 , and if it is B then set it to 0."
      ],
      "metadata": {
        "id": "reAmzJfMKMbY"
      }
    },
    {
      "cell_type": "code",
      "source": [
        "def map_diagnosis(diagnosis):\n",
        "    if diagnosis == 'M':\n",
        "        return 1\n",
        "    elif diagnosis == 'B':\n",
        "        return 0\n",
        "    else:\n",
        "        return None\n",
        "\n",
        "DataSet['isCancer'] = DataSet['diagnosis'].apply(lambda x: map_diagnosis(x))"
      ],
      "metadata": {
        "id": "_3UzloS5KpIW"
      },
      "execution_count": null,
      "outputs": []
    },
    {
      "cell_type": "markdown",
      "source": [
        "Step 7: Set the target is the label - 'isCancer' and Features to the all the columns except ID and Unnamed.\n"
      ],
      "metadata": {
        "id": "9S4IxhuEKpVn"
      }
    },
    {
      "cell_type": "code",
      "source": [
        "DataSet = DataSet.drop(columns=['id'], errors='ignore')\n",
        "DataSet = DataSet.drop(columns=['Unnamed: 32'], errors='ignore')\n",
        "\n",
        "features = DataSet.drop(columns=['diagnsis'])\n",
        "\n",
        "target = DataSet['isCancer']"
      ],
      "metadata": {
        "id": "k0oVyPwPK-EU"
      },
      "execution_count": null,
      "outputs": []
    },
    {
      "cell_type": "markdown",
      "source": [
        "Step 8: Perform the test and Train split and set the test size to 0.25\n"
      ],
      "metadata": {
        "id": "jnobxaPKK-Tm"
      }
    },
    {
      "cell_type": "code",
      "source": [
        "from sklearn.model_selection import train_test_split\n",
        "import pandas as pd\n",
        "\n",
        "X_train, X_test, y_train, y_test = train_test_split(features, target, test_size=0.25, random_state=42)\n",
        "\n",
        "print(\"Shape of X_train:\", X_train.shape)\n",
        "print(\"Shape of X_test:\", X_test.shape)\n",
        "print(\"Shape of y_train:\", y_train.shape)\n",
        "print(\"Shape of y_test:\", y_test.shape)"
      ],
      "metadata": {
        "id": "5dvZ_AonLBth"
      },
      "execution_count": null,
      "outputs": []
    },
    {
      "cell_type": "markdown",
      "source": [
        "Steo 9:  Run and Fit the Random Forest model by setting estimitator to 15 on the training set."
      ],
      "metadata": {
        "id": "VytdT47-LB87"
      }
    },
    {
      "cell_type": "code",
      "source": [
        "from sklearn.ensemble import RandomForestClassifier\n",
        "rf_model = RandomForestClassifier(n_estimators=15, random_state=87)\n",
        "rf_model.fit(X_train, y_train)\n",
        "print(\"Random Forest model parameters:\\n\", rf_model)"
      ],
      "metadata": {
        "id": "nnjcXbS1LKB3"
      },
      "execution_count": null,
      "outputs": []
    },
    {
      "cell_type": "markdown",
      "source": [
        "Step 10: Test the model on the testing set"
      ],
      "metadata": {
        "id": "aZezEK8iLKOT"
      }
    },
    {
      "cell_type": "code",
      "source": [
        "accuracy = rf_model.score(X_test, y_test)\n",
        "print(\"Accuracy on test set:\", accuracy)"
      ],
      "metadata": {
        "id": "3jUXtH4eLMjB"
      },
      "execution_count": null,
      "outputs": []
    },
    {
      "cell_type": "markdown",
      "source": [
        "Step 11: Measure the accuracy, Precision and Recall of the data"
      ],
      "metadata": {
        "id": "P_KV3y2NLMx_"
      }
    },
    {
      "cell_type": "code",
      "source": [
        "from sklearn.metrics import accuracy_score, precision_score, recall_score\n",
        "\n",
        "y_predict = rf_model.predict(X_test)\n",
        "\n",
        "Accuracy = accuracy_score(y_test, y_predict)\n",
        "print(\"Accuracy:\", Accuracy)\n",
        "\n",
        "Precision = precision_score(y_test, y_predict)\n",
        "print(\"Precision:\", Precision)\n",
        "\n",
        "Recall = recall_score(y_test, y_predict)\n",
        "print(\"Recall:\", Recall)"
      ],
      "metadata": {
        "id": "p1-rwGgqLQ6D"
      },
      "execution_count": null,
      "outputs": []
    },
    {
      "cell_type": "markdown",
      "source": [
        "Step 12: Plot the Tree."
      ],
      "metadata": {
        "id": "fex1WBwDLRHD"
      }
    },
    {
      "cell_type": "code",
      "source": [
        "from sklearn.tree import plot_tree\n",
        "import matplotlib.pyplot as plt\n",
        "\n",
        "plt.figure(figsize=(20,10))\n",
        "plot_tree(rf_model.estimators_[0], feature_names=features.columns, filled=True)\n",
        "plt.show()"
      ],
      "metadata": {
        "id": "IEBLbzppLTFb"
      },
      "execution_count": null,
      "outputs": []
    }
  ]
}