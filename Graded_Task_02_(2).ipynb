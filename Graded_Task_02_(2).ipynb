{
  "nbformat": 4,
  "nbformat_minor": 0,
  "metadata": {
    "colab": {
      "provenance": []
    },
    "kernelspec": {
      "name": "python3",
      "display_name": "Python 3"
    },
    "language_info": {
      "name": "python"
    }
  },
  "cells": [
    {
      "cell_type": "markdown",
      "source": [
        "**Question no 01**\n",
        "\n",
        "Suppose you responsible for checking the parking system of hotel. and you have the update of each empty space in the parking slot. The parking slot is 4 X 4.\n",
        "\n",
        "Each time a park comes you assign the space in the parking randomly (use any random function for position which lies between 0 to 16 where 0 is the [0][0] position of the parking system and 16 is the [3][3] position).\n",
        "\n",
        "If the position is alrady occupied do the above procedure again. until you found an empty slot.\n",
        "\n",
        "If all slots are full, display \"No more Parking Here\""
      ],
      "metadata": {
        "id": "42_REjmKjRvu"
      }
    },
    {
      "cell_type": "code",
      "execution_count": null,
      "metadata": {
        "id": "dPxfHP_bjDOm",
        "colab": {
          "base_uri": "https://localhost:8080/"
        },
        "outputId": "53c61128-8000-4477-dd29-59bfb3aecc02"
      },
      "outputs": [
        {
          "output_type": "stream",
          "name": "stdout",
          "text": [
            "Parking assigned at [3][3]\n",
            "Parking assigned at [3][0]\n",
            "Parking assigned at [1][1]\n"
          ]
        }
      ],
      "source": [
        "#Solution\n",
        "import numpy as np\n",
        "\n",
        "parking_slot = np.zeros((4, 4), dtype=int)\n",
        "\n",
        "def is_parking_available():\n",
        "    return np.any(parking_slot == 0)\n",
        "\n",
        "def assign_parking():\n",
        "    while True:\n",
        "        if not is_parking_available():\n",
        "            print(\"No more Parking Here\")\n",
        "            return\n",
        "        row = np.random.randint(4)\n",
        "        col = np.random.randint(4)\n",
        "        if parking_slot[row, col] == 0:\n",
        "            parking_slot[row, col] = 1\n",
        "            print(f\"Parking assigned at [{row}][{col}]\")\n",
        "            return\n",
        "\n",
        "assign_parking()\n",
        "assign_parking()\n",
        "assign_parking()"
      ]
    },
    {
      "cell_type": "markdown",
      "source": [
        "**Question no 02**\n",
        "\n",
        "Create a random array using randint of array size 2X2. Now using seed you need to create the same array again.\n",
        "\n",
        "Using concept of Matrix Multiplication, Multiply9 both the Arrays.\n",
        "\n",
        "Process of Matrix Multiplication:\n",
        "\n",
        "![image.png](data:image/png;base64,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)"
      ],
      "metadata": {
        "id": "IcL1KrlOjIB6"
      }
    },
    {
      "cell_type": "code",
      "source": [
        "#Solution\n",
        "\n",
        "np.random.seed(15)\n",
        "arr1 = np.random.randint(1, 10, size=(2, 2))\n",
        "print(\"Array 1:\", arr1)\n",
        "\n",
        "\n",
        "np.random.seed(15)\n",
        "arr2 = np.random.randint(1, 10, size=(2, 2))\n",
        "print(\"\\nArray 2:\", arr2)\n",
        "\n",
        "result = np.zeros((2, 2), dtype=int)\n",
        "for i in range(2):\n",
        "    for j in range(2):\n",
        "        for k in range(2):\n",
        "            result[i, j] += arr1[i, k] * arr2[k, j]\n",
        "\n",
        "print(\"\\nResult of matrix multiplication:\")\n",
        "print(result)\n"
      ],
      "metadata": {
        "id": "A2FYTzGjjQR_",
        "colab": {
          "base_uri": "https://localhost:8080/"
        },
        "outputId": "6cef4bc7-c924-4140-b511-b5a90562eba7"
      },
      "execution_count": null,
      "outputs": [
        {
          "output_type": "stream",
          "name": "stdout",
          "text": [
            "Array 1: [[9 6]\n",
            " [6 8]]\n",
            "\n",
            "Array 2: [[9 6]\n",
            " [6 8]]\n",
            "\n",
            "Result of matrix multiplication:\n",
            "[[117 102]\n",
            " [102 100]]\n"
          ]
        }
      ]
    },
    {
      "cell_type": "markdown",
      "source": [
        "**Question no 03**\n",
        "\n",
        "You need to define a function named as Progress(array), which takes a numpy array as an input. The array contains the scores(score of each student lies between 0-10) of Graded_Task_01 of registered AI students(total students are 40). In the method you need to return the dictionary which contain the highest, lowest and average marks of the class, also sort the marks in ascending order).\n",
        "\n",
        "For the Testing prupose create random array of 40 students having marks between 0-10."
      ],
      "metadata": {
        "id": "6GYeD8sckPEB"
      }
    },
    {
      "cell_type": "code",
      "source": [
        "#Solution\n",
        "\n",
        "Graded_Task_01 = np.random.randint(0,10,(1,40))\n",
        "Graded_Task_01\n",
        "\n",
        "def Progress(arr):\n",
        "    res_dict = {}\n",
        "    high = arr.max()\n",
        "    low = arr.min()\n",
        "    total = arr.sum()\n",
        "    avg =total/40\n",
        "    res_dict[\"highest\"] = high\n",
        "    res_dict[\"lowest\"] = low\n",
        "    res_dict[\"average\"] = avg\n",
        "    arr.sort()\n",
        "    print(arr)\n",
        "    return res_dict\n",
        "\n",
        "Progress(Graded_Task_01)"
      ],
      "metadata": {
        "id": "acmPZjAtlZTn",
        "colab": {
          "base_uri": "https://localhost:8080/"
        },
        "outputId": "ecfaeaa9-6415-44df-b7e7-4e9b52a6f015"
      },
      "execution_count": null,
      "outputs": [
        {
          "output_type": "stream",
          "name": "stdout",
          "text": [
            "[[0 0 0 0 1 1 1 1 2 2 2 2 2 3 3 3 4 4 5 5 5 5 5 6 6 6 6 7 7 7 7 7 8 8 8 8\n",
            "  8 8 9 9]]\n"
          ]
        },
        {
          "output_type": "execute_result",
          "data": {
            "text/plain": [
              "{'highest': 9, 'lowest': 0, 'average': 4.525}"
            ]
          },
          "metadata": {},
          "execution_count": 7
        }
      ]
    },
    {
      "cell_type": "code",
      "source": [],
      "metadata": {
        "id": "tpEhqrdPheNz"
      },
      "execution_count": null,
      "outputs": []
    }
  ]
}