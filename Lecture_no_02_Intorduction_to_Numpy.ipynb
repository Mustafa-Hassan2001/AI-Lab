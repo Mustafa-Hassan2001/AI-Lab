{
  "nbformat": 4,
  "nbformat_minor": 0,
  "metadata": {
    "colab": {
      "provenance": []
    },
    "kernelspec": {
      "name": "python3",
      "display_name": "Python 3"
    },
    "language_info": {
      "name": "python"
    }
  },
  "cells": [
    {
      "cell_type": "markdown",
      "source": [
        "# **NUMPY**\n",
        "\n",
        "NumPy is a Python library that is the core library for scientific computing in Python. It stands for Numerical Python.\n",
        "\n",
        "It contains a collection of tools and techniques that can be used to solve on a computer mathematical models of problems in Science and Engineering.\n",
        "\n",
        "One of these tools is a high-performance multidimensional array object that is a powerful data structure for efficient computation of arrays and matrices.\n",
        "\n",
        "To work with these arrays, there’s a vast amount of high-level mathematical functions operate on these matrices and arrays."
      ],
      "metadata": {
        "id": "tG1Ygj71nODk"
      }
    },
    {
      "cell_type": "markdown",
      "source": [
        "**Installation of Numpy**"
      ],
      "metadata": {
        "id": "_Thb6ZTbn0ph"
      }
    },
    {
      "cell_type": "code",
      "source": [
        "!pip install numpy"
      ],
      "metadata": {
        "colab": {
          "base_uri": "https://localhost:8080/"
        },
        "id": "smxl9jItn0Je",
        "outputId": "ba6e7db4-8be9-4474-841b-0b7eeb348b8e"
      },
      "execution_count": null,
      "outputs": [
        {
          "output_type": "stream",
          "name": "stdout",
          "text": [
            "Requirement already satisfied: numpy in /usr/local/lib/python3.10/dist-packages (1.25.2)\n"
          ]
        }
      ]
    },
    {
      "cell_type": "markdown",
      "source": [
        "**Import Numpy**\n",
        "\n",
        "Since now we are using an outside library and its installed, we will use the import keyword to access that particular library."
      ],
      "metadata": {
        "id": "rrZFqX8QojDa"
      }
    },
    {
      "cell_type": "code",
      "execution_count": null,
      "metadata": {
        "id": "s9zCrKtanHdQ"
      },
      "outputs": [],
      "source": [
        "#to import the libary\n",
        "import numpy as np"
      ]
    },
    {
      "cell_type": "markdown",
      "source": [
        "**Numpy Arrays**\n",
        "\n",
        "1. Numpy array is a grid of values, homogeneous type, and indexed.\n",
        "2. It can be multi dimensional, where the number of dimensions is the rank of the array. Although Python has list data type, but Numpy is built for efficiency and speed."
      ],
      "metadata": {
        "id": "6tNFqKRuouHn"
      }
    },
    {
      "cell_type": "code",
      "source": [
        "#using list\n",
        "\n",
        "x1= np.array([1,3,4,5,2])\n",
        "\n",
        "print(x1)"
      ],
      "metadata": {
        "colab": {
          "base_uri": "https://localhost:8080/"
        },
        "id": "ud4FGih1qo3X",
        "outputId": "5f8db03e-58b8-472b-9761-310f61cd28a1"
      },
      "execution_count": null,
      "outputs": [
        {
          "output_type": "stream",
          "name": "stdout",
          "text": [
            "[1 3 4 5 2]\n"
          ]
        }
      ]
    },
    {
      "cell_type": "code",
      "source": [
        "#using tuples\n",
        "x1= np.array((1,3,4,5,2))\n",
        "\n",
        "print(x1)"
      ],
      "metadata": {
        "colab": {
          "base_uri": "https://localhost:8080/"
        },
        "id": "WNMbg9xRw75d",
        "outputId": "bbbe6f29-6ae0-467c-8422-ffdbd7f2385d"
      },
      "execution_count": null,
      "outputs": [
        {
          "output_type": "stream",
          "name": "stdout",
          "text": [
            "[1 3 4 5 2]\n"
          ]
        }
      ]
    },
    {
      "cell_type": "markdown",
      "source": [
        "**Creating a Numpy Array**\n",
        "\n",
        "The most common method to create a Numpy array is using the constructor array. The constructor has many parameters, but we will focus on three.\n",
        "\n",
        "* object, the sequence you want to make array from. For e.g., a list (or any collection). It can be a scalar, meaning that it can be single element as well (resulting in an 0-dimensional array).\n",
        "* dtype, Keyword (optional) argument what is the type of the elements, can infer from the elements provided as object or can be specifically provided.\n",
        "* ndmin, Keyword (optional) argument to specify how many minimum dimensions that array should have.\n",
        "\n",
        "Lets look at some of its uses."
      ],
      "metadata": {
        "id": "aL4UetNRxqpx"
      }
    },
    {
      "cell_type": "code",
      "source": [
        "np.array(3)\n"
      ],
      "metadata": {
        "colab": {
          "base_uri": "https://localhost:8080/"
        },
        "id": "B4K4ElqxI5Bn",
        "outputId": "06ab061f-4f88-41ae-dd01-446d813c8448"
      },
      "execution_count": null,
      "outputs": [
        {
          "output_type": "execute_result",
          "data": {
            "text/plain": [
              "array(3)"
            ]
          },
          "metadata": {},
          "execution_count": 5
        }
      ]
    },
    {
      "cell_type": "code",
      "source": [
        "np.array(3, dtype='float')\n"
      ],
      "metadata": {
        "colab": {
          "base_uri": "https://localhost:8080/"
        },
        "id": "m5_5O75JB_Cy",
        "outputId": "2804deef-14dd-44c1-a71c-c17211b6b7a8"
      },
      "execution_count": null,
      "outputs": [
        {
          "output_type": "execute_result",
          "data": {
            "text/plain": [
              "array(3.)"
            ]
          },
          "metadata": {},
          "execution_count": 6
        }
      ]
    },
    {
      "cell_type": "code",
      "source": [
        "np.array(3, dtype='float', ndmin=2)\n"
      ],
      "metadata": {
        "colab": {
          "base_uri": "https://localhost:8080/"
        },
        "id": "F_E-baCOCHwR",
        "outputId": "b08051cc-e8b4-4b0c-e9e1-377bd849c59a"
      },
      "execution_count": null,
      "outputs": [
        {
          "output_type": "execute_result",
          "data": {
            "text/plain": [
              "array([[3.]])"
            ]
          },
          "metadata": {},
          "execution_count": 9
        }
      ]
    },
    {
      "cell_type": "code",
      "source": [
        "np.array([[2,4],[5,6]])"
      ],
      "metadata": {
        "colab": {
          "base_uri": "https://localhost:8080/"
        },
        "id": "YNcior6IJQFB",
        "outputId": "abf7afbf-868b-433a-b25d-8b661376e49b"
      },
      "execution_count": null,
      "outputs": [
        {
          "output_type": "execute_result",
          "data": {
            "text/plain": [
              "array([[2, 4],\n",
              "       [5, 6]])"
            ]
          },
          "metadata": {},
          "execution_count": 10
        }
      ]
    },
    {
      "cell_type": "markdown",
      "source": [
        "**Numpy Zero Array**\n",
        "\n",
        "You also have special constructors to construct specific type of arrays.\n",
        "\n",
        "Create an array of zeros\n",
        "\n",
        "Create an integer array of 10 elements filled with all zeros."
      ],
      "metadata": {
        "id": "0KJULpdDCaXI"
      }
    },
    {
      "cell_type": "code",
      "source": [
        "np.zeros(10, dtype=\"int\")"
      ],
      "metadata": {
        "id": "nAf6aldKJpgt",
        "colab": {
          "base_uri": "https://localhost:8080/"
        },
        "outputId": "fc9a04e9-5134-4df5-8383-b4d8b04d72f2"
      },
      "execution_count": null,
      "outputs": [
        {
          "output_type": "execute_result",
          "data": {
            "text/plain": [
              "array([0, 0, 0, 0, 0, 0, 0, 0, 0, 0])"
            ]
          },
          "metadata": {},
          "execution_count": 11
        }
      ]
    },
    {
      "cell_type": "code",
      "source": [
        "np.zeros(10) #default is float dtype"
      ],
      "metadata": {
        "colab": {
          "base_uri": "https://localhost:8080/"
        },
        "id": "83W1ZReHCnep",
        "outputId": "c6a98675-aa0d-499e-ec37-75f934e0661c"
      },
      "execution_count": null,
      "outputs": [
        {
          "output_type": "execute_result",
          "data": {
            "text/plain": [
              "array([0., 0., 0., 0., 0., 0., 0., 0., 0., 0.])"
            ]
          },
          "metadata": {},
          "execution_count": 12
        }
      ]
    },
    {
      "cell_type": "markdown",
      "source": [
        "**Numpy Ones Array**\n",
        "\n",
        "Create an array of ones\n",
        "\n",
        "Create a integer array filled with ones.\n"
      ],
      "metadata": {
        "id": "X4URSEQSC-Bl"
      }
    },
    {
      "cell_type": "code",
      "source": [
        "np.ones(10, dtype=\"int\")"
      ],
      "metadata": {
        "colab": {
          "base_uri": "https://localhost:8080/"
        },
        "id": "DW8UIqezC5hX",
        "outputId": "3fe65fe4-129c-4f11-c9f9-5c56491c2bac"
      },
      "execution_count": null,
      "outputs": [
        {
          "output_type": "execute_result",
          "data": {
            "text/plain": [
              "array([1, 1, 1, 1, 1, 1, 1, 1, 1, 1])"
            ]
          },
          "metadata": {},
          "execution_count": 13
        }
      ]
    },
    {
      "cell_type": "code",
      "source": [
        "np.ones(10) #default is float dtype"
      ],
      "metadata": {
        "colab": {
          "base_uri": "https://localhost:8080/"
        },
        "id": "48LCRyDyDImc",
        "outputId": "0a70464e-4704-4e71-e0e2-0fd91c181e96"
      },
      "execution_count": null,
      "outputs": [
        {
          "output_type": "execute_result",
          "data": {
            "text/plain": [
              "array([1., 1., 1., 1., 1., 1., 1., 1., 1., 1.])"
            ]
          },
          "metadata": {},
          "execution_count": 14
        }
      ]
    },
    {
      "cell_type": "markdown",
      "source": [
        "**Numpy Full Array**\n",
        "\n",
        "Create an array which is filled with pi values.\n"
      ],
      "metadata": {
        "id": "SPsv_vQODQFS"
      }
    },
    {
      "cell_type": "code",
      "source": [
        "np.full(10, np.pi)"
      ],
      "metadata": {
        "colab": {
          "base_uri": "https://localhost:8080/"
        },
        "id": "CbvwUtCeDLsR",
        "outputId": "2d98f38d-8852-48c8-c853-c59f36032c42"
      },
      "execution_count": null,
      "outputs": [
        {
          "output_type": "execute_result",
          "data": {
            "text/plain": [
              "array([3.14159265, 3.14159265, 3.14159265, 3.14159265, 3.14159265,\n",
              "       3.14159265, 3.14159265, 3.14159265, 3.14159265, 3.14159265])"
            ]
          },
          "metadata": {},
          "execution_count": 15
        }
      ]
    },
    {
      "cell_type": "code",
      "source": [
        "np.pi"
      ],
      "metadata": {
        "colab": {
          "base_uri": "https://localhost:8080/"
        },
        "id": "9HDN2iYPDci1",
        "outputId": "4cf74386-50d7-4cc9-c3dc-4da649da7fce"
      },
      "execution_count": null,
      "outputs": [
        {
          "output_type": "execute_result",
          "data": {
            "text/plain": [
              "3.141592653589793"
            ]
          },
          "metadata": {},
          "execution_count": 16
        }
      ]
    },
    {
      "cell_type": "code",
      "source": [
        "#3. Create a array filled with a scalar\n",
        "np.full(10, 3)"
      ],
      "metadata": {
        "colab": {
          "base_uri": "https://localhost:8080/"
        },
        "id": "LYkfV4-yDdqP",
        "outputId": "3476b088-339a-4914-e673-fe1043cb6f53"
      },
      "execution_count": null,
      "outputs": [
        {
          "output_type": "execute_result",
          "data": {
            "text/plain": [
              "array([3, 3, 3, 3, 3, 3, 3, 3, 3, 3])"
            ]
          },
          "metadata": {},
          "execution_count": 17
        }
      ]
    },
    {
      "cell_type": "code",
      "source": [
        "#3. Create a array filled with a scalar\n",
        "np.full(10, 3.0)"
      ],
      "metadata": {
        "colab": {
          "base_uri": "https://localhost:8080/"
        },
        "id": "dlBQ5LezDlnQ",
        "outputId": "58359d0b-da33-41f7-d721-9464920f53bf"
      },
      "execution_count": null,
      "outputs": [
        {
          "output_type": "execute_result",
          "data": {
            "text/plain": [
              "array([3., 3., 3., 3., 3., 3., 3., 3., 3., 3.])"
            ]
          },
          "metadata": {},
          "execution_count": 18
        }
      ]
    },
    {
      "cell_type": "markdown",
      "source": [
        "**Numpy linspace Arrays**\n",
        "\n",
        "Create an array with linearly spaced (equidistant) points between given interval.\n",
        "\n",
        "create an array with 8 points equidistant between 5 and 10.\n"
      ],
      "metadata": {
        "id": "P6MaV3v_D8uc"
      }
    },
    {
      "cell_type": "code",
      "source": [
        "np.linspace(5,10,8)"
      ],
      "metadata": {
        "colab": {
          "base_uri": "https://localhost:8080/"
        },
        "id": "ycffDct0Dm04",
        "outputId": "1f186349-6033-4cff-c3e4-c53a9b43eb8d"
      },
      "execution_count": null,
      "outputs": [
        {
          "output_type": "execute_result",
          "data": {
            "text/plain": [
              "array([ 5.        ,  5.71428571,  6.42857143,  7.14285714,  7.85714286,\n",
              "        8.57142857,  9.28571429, 10.        ])"
            ]
          },
          "metadata": {},
          "execution_count": 19
        }
      ]
    },
    {
      "cell_type": "code",
      "source": [
        "np.linspace(5,23,7)"
      ],
      "metadata": {
        "colab": {
          "base_uri": "https://localhost:8080/"
        },
        "id": "wpxmYURvEDwS",
        "outputId": "1db11529-1730-4fa6-e6b7-3ced9313aa03"
      },
      "execution_count": null,
      "outputs": [
        {
          "output_type": "execute_result",
          "data": {
            "text/plain": [
              "array([ 5.,  8., 11., 14., 17., 20., 23.])"
            ]
          },
          "metadata": {},
          "execution_count": 26
        }
      ]
    },
    {
      "cell_type": "markdown",
      "source": [
        "**Numpy Multidimensional Arrays**\n",
        "\n",
        "We can create a multidimensional array of all these sorts as well.\n",
        "\n",
        "Multidimensional array using nested lists."
      ],
      "metadata": {
        "id": "d8JsD3eFEodS"
      }
    },
    {
      "cell_type": "code",
      "source": [
        "x2=np.array([[1,3,4,5],[1,5,6,7]])\n",
        "\n",
        "print(x2)"
      ],
      "metadata": {
        "colab": {
          "base_uri": "https://localhost:8080/"
        },
        "id": "87We6iT4EPOl",
        "outputId": "cd62168e-a02a-4f20-8dbb-05ac37e5be04"
      },
      "execution_count": null,
      "outputs": [
        {
          "output_type": "stream",
          "name": "stdout",
          "text": [
            "[[1 3 4 5]\n",
            " [1 5 6 7]]\n"
          ]
        }
      ]
    },
    {
      "cell_type": "code",
      "source": [
        "#Create an float array of (3,5) elements filled with all zeros.\n",
        "np.zeros((3,5), dtype=\"int\") #default dtype is float"
      ],
      "metadata": {
        "colab": {
          "base_uri": "https://localhost:8080/"
        },
        "id": "sABPkLWVE1GI",
        "outputId": "1366e107-6f66-4d0e-c0d5-1b3edc8ecef9"
      },
      "execution_count": null,
      "outputs": [
        {
          "output_type": "execute_result",
          "data": {
            "text/plain": [
              "array([[0., 0., 0., 0., 0.],\n",
              "       [0., 0., 0., 0., 0.],\n",
              "       [0., 0., 0., 0., 0.]])"
            ]
          },
          "metadata": {},
          "execution_count": 28
        }
      ]
    },
    {
      "cell_type": "code",
      "source": [
        "#Create an int array of (3,5) elements filled with all ones.\n",
        "np.ones((3,5), dtype=\"int\")"
      ],
      "metadata": {
        "colab": {
          "base_uri": "https://localhost:8080/"
        },
        "id": "4itHJsp0E4F1",
        "outputId": "e24d84ae-efa8-4df3-e9a7-dc553fb5bbe8"
      },
      "execution_count": null,
      "outputs": [
        {
          "output_type": "execute_result",
          "data": {
            "text/plain": [
              "array([[1, 1, 1, 1, 1],\n",
              "       [1, 1, 1, 1, 1],\n",
              "       [1, 1, 1, 1, 1]])"
            ]
          },
          "metadata": {},
          "execution_count": 29
        }
      ]
    },
    {
      "cell_type": "code",
      "source": [
        "#Create an float array of (3,6) elements filled with all pis.\n",
        "np.full((3,6), np.pi)"
      ],
      "metadata": {
        "colab": {
          "base_uri": "https://localhost:8080/"
        },
        "id": "57-4FUrWE7Ri",
        "outputId": "ca153029-081b-497b-da99-53bd12b1b74c"
      },
      "execution_count": null,
      "outputs": [
        {
          "output_type": "execute_result",
          "data": {
            "text/plain": [
              "array([[3.14159265, 3.14159265, 3.14159265, 3.14159265, 3.14159265,\n",
              "        3.14159265],\n",
              "       [3.14159265, 3.14159265, 3.14159265, 3.14159265, 3.14159265,\n",
              "        3.14159265],\n",
              "       [3.14159265, 3.14159265, 3.14159265, 3.14159265, 3.14159265,\n",
              "        3.14159265]])"
            ]
          },
          "metadata": {},
          "execution_count": 30
        }
      ]
    },
    {
      "cell_type": "code",
      "source": [
        "# Create an identity matrix\n",
        "\n",
        "#6. Create a 3x3 identity matrix.\n",
        "np.eye(3, dtype=\"int\") #default dtype is float"
      ],
      "metadata": {
        "colab": {
          "base_uri": "https://localhost:8080/"
        },
        "id": "2HB1MejwE-Si",
        "outputId": "ddb646fc-af57-4946-e753-cce0735d94a7"
      },
      "execution_count": null,
      "outputs": [
        {
          "output_type": "execute_result",
          "data": {
            "text/plain": [
              "array([[1., 0., 0.],\n",
              "       [0., 1., 0.],\n",
              "       [0., 0., 1.]])"
            ]
          },
          "metadata": {},
          "execution_count": 31
        }
      ]
    },
    {
      "cell_type": "markdown",
      "source": [
        "**Numpy Random Arrays**\n",
        "\n",
        "Numpy allows you to create arrays with random elements. This can be very helpful if you need some arbitrary examples of arrays to work with (Like for the lecture purposes).\n",
        "\n",
        "There is a submodule within numpy array random that has several constructors to create a random array. We will look at some of them.\n",
        "- random: Used to create random arrays containing floats.\n",
        "- randint: Used to create random arrays containing integer numbers.\n",
        "- uniform: Used to create random arrays containing floats uniformly distributed between given range (default is 0-1).\n",
        "- choice: Used to create random arrays containing numbers from given parameter.\n",
        "\n",
        "There are many more different options (some are very similar to the ones we discuss, with slight variations).\n",
        "\n"
      ],
      "metadata": {
        "id": "h5-EMK5LFmlG"
      }
    },
    {
      "cell_type": "markdown",
      "source": [
        "**Numpy random.random()**\n",
        "\n",
        "`random.random(size=None)`\n",
        "\n",
        "Returns an array of given size, where each element is a float between [0,1).\n",
        "If size is None, it will return a scalar.\n",
        "\n"
      ],
      "metadata": {
        "id": "dSLZuo43GkTL"
      }
    },
    {
      "cell_type": "code",
      "source": [
        "np.random.random() #size is not given"
      ],
      "metadata": {
        "colab": {
          "base_uri": "https://localhost:8080/"
        },
        "id": "QcyHy8G5FAnD",
        "outputId": "fb620cd9-1fa5-4c73-ee27-a89e35707449"
      },
      "execution_count": null,
      "outputs": [
        {
          "output_type": "execute_result",
          "data": {
            "text/plain": [
              "0.48933535003718154"
            ]
          },
          "metadata": {},
          "execution_count": 33
        }
      ]
    },
    {
      "cell_type": "code",
      "source": [
        "np.random.random(5) #size=5, means 5 elements in numpy random array"
      ],
      "metadata": {
        "colab": {
          "base_uri": "https://localhost:8080/"
        },
        "id": "aJbfjWXmFI2d",
        "outputId": "4e2f6ec2-1f45-46ef-8d4a-010387c311ed"
      },
      "execution_count": null,
      "outputs": [
        {
          "output_type": "execute_result",
          "data": {
            "text/plain": [
              "array([0.26036871, 0.51532762, 0.57907439, 0.94467936, 0.07177695])"
            ]
          },
          "metadata": {},
          "execution_count": 34
        }
      ]
    },
    {
      "cell_type": "code",
      "source": [
        "np.random.random((2,3)) #size=(1,3), means size = 3  elements in 2 rows using numpy random array"
      ],
      "metadata": {
        "colab": {
          "base_uri": "https://localhost:8080/"
        },
        "id": "Wma_ppy5GN6e",
        "outputId": "a46fb68e-9226-4588-94cf-adeae5f13114"
      },
      "execution_count": null,
      "outputs": [
        {
          "output_type": "execute_result",
          "data": {
            "text/plain": [
              "array([[0.8269296 , 0.82708115, 0.63682565],\n",
              "       [0.10036219, 0.27016487, 0.21997557]])"
            ]
          },
          "metadata": {},
          "execution_count": 36
        }
      ]
    },
    {
      "cell_type": "markdown",
      "source": [
        "**Numpy random.randint()**\n",
        "\n",
        "`random.randint(low, high=None, size=None, dtype=int)`\n",
        "\n",
        "Returns an array of given size (default is None), where each element is an integer between [low, high).\n",
        "\n",
        "If high is not provided, then the range is [0,low)."
      ],
      "metadata": {
        "id": "7IKRBuW8G5IM"
      }
    },
    {
      "cell_type": "code",
      "source": [
        "np.random.randint(23) # one element from [0,23)"
      ],
      "metadata": {
        "colab": {
          "base_uri": "https://localhost:8080/"
        },
        "id": "KNHdsS82GaM4",
        "outputId": "290df5ed-4c12-426d-f06c-4b83ed625b39"
      },
      "execution_count": null,
      "outputs": [
        {
          "output_type": "execute_result",
          "data": {
            "text/plain": [
              "2"
            ]
          },
          "metadata": {},
          "execution_count": 40
        }
      ]
    },
    {
      "cell_type": "code",
      "source": [
        "np.random.randint(20,100) # one element from [20,100)"
      ],
      "metadata": {
        "colab": {
          "base_uri": "https://localhost:8080/"
        },
        "id": "u8BuzjMpHFIy",
        "outputId": "d3ef58b1-6dc5-4256-cec7-41f08b79b6af"
      },
      "execution_count": null,
      "outputs": [
        {
          "output_type": "execute_result",
          "data": {
            "text/plain": [
              "87"
            ]
          },
          "metadata": {},
          "execution_count": 42
        }
      ]
    },
    {
      "cell_type": "code",
      "source": [
        "np.random.randint(20,100,(1,5))  # array of (1,5) size with elements from [20,100)"
      ],
      "metadata": {
        "colab": {
          "base_uri": "https://localhost:8080/"
        },
        "id": "jUPPXvTQHW20",
        "outputId": "137599f7-7130-4b57-8d93-24aa7a81292a"
      },
      "execution_count": null,
      "outputs": [
        {
          "output_type": "execute_result",
          "data": {
            "text/plain": [
              "array([[63, 95, 60, 54, 93]])"
            ]
          },
          "metadata": {},
          "execution_count": 43
        }
      ]
    },
    {
      "cell_type": "code",
      "source": [
        "np.random.randint(20,100,(2,4))  # array of (2,4) size with elements from [20,100)"
      ],
      "metadata": {
        "colab": {
          "base_uri": "https://localhost:8080/"
        },
        "id": "vU1aDg76HdVQ",
        "outputId": "ad8aae3f-6fc3-4576-e695-fca858a4748e"
      },
      "execution_count": null,
      "outputs": [
        {
          "output_type": "execute_result",
          "data": {
            "text/plain": [
              "array([[45, 88, 32, 68],\n",
              "       [36, 43, 33, 47]])"
            ]
          },
          "metadata": {},
          "execution_count": 44
        }
      ]
    },
    {
      "cell_type": "markdown",
      "source": [
        "**Numpy random.uniform()**\n",
        "\n",
        "```\n",
        "random.uniform(low=0.0, high=1.0, size=None)\n",
        "```\n",
        "\n",
        "Returns an array of given size (default is None), where each element is float between [low, high) and uniformly distributed.\n",
        "\n",
        "Default values of low and high are 0.0 and 1.0 respectively.\n",
        "\n",
        "One of the difference between random and unform is the range."
      ],
      "metadata": {
        "id": "fHBg4-f7HzV0"
      }
    },
    {
      "cell_type": "code",
      "source": [
        "np.random.uniform() #return one element between 0-1"
      ],
      "metadata": {
        "colab": {
          "base_uri": "https://localhost:8080/"
        },
        "id": "5dMXIzCGHhnI",
        "outputId": "e510cc21-744a-449e-9dfa-26705e757100"
      },
      "execution_count": null,
      "outputs": [
        {
          "output_type": "execute_result",
          "data": {
            "text/plain": [
              "0.051694362174372066"
            ]
          },
          "metadata": {},
          "execution_count": 46
        }
      ]
    },
    {
      "cell_type": "code",
      "source": [
        "np.random.uniform(0.3,1,1) #return one element between 0.3-1"
      ],
      "metadata": {
        "colab": {
          "base_uri": "https://localhost:8080/"
        },
        "id": "h3LBicGNIFsp",
        "outputId": "b2a06ca5-d88d-4c5a-f021-33626b29ed75"
      },
      "execution_count": null,
      "outputs": [
        {
          "output_type": "execute_result",
          "data": {
            "text/plain": [
              "array([0.50568437])"
            ]
          },
          "metadata": {},
          "execution_count": 57
        }
      ]
    },
    {
      "cell_type": "code",
      "source": [
        "np.random.uniform(0,1,(2,5))"
      ],
      "metadata": {
        "colab": {
          "base_uri": "https://localhost:8080/"
        },
        "id": "0LfUfF8SIQod",
        "outputId": "e2b79c46-2727-4a4d-f61e-bd7fa58960e1"
      },
      "execution_count": null,
      "outputs": [
        {
          "output_type": "execute_result",
          "data": {
            "text/plain": [
              "array([[0.07654076, 0.6711161 , 0.94283869, 0.04019896, 0.286818  ],\n",
              "       [0.01307953, 0.4722488 , 0.54478297, 0.19335406, 0.53490199]])"
            ]
          },
          "metadata": {},
          "execution_count": 58
        }
      ]
    },
    {
      "cell_type": "markdown",
      "source": [
        "**Numpy random.choice()**\n",
        "\n",
        "`random.choice(a, size=None, replace=True, p=None)`\n",
        "\n",
        "Returns an array of given size (default is None), where each element is a member of given sequence a.\n",
        "\n",
        "replace=True means that the same element can be chosen multiple times.\n",
        "\n",
        "p is to set different probabilities (of being selected) to elements of a."
      ],
      "metadata": {
        "id": "jaPnr_YAJNsW"
      }
    },
    {
      "cell_type": "code",
      "source": [
        "np.random.choice(5) #make choice between 0-5\n"
      ],
      "metadata": {
        "colab": {
          "base_uri": "https://localhost:8080/"
        },
        "id": "of9hl6pJIq_u",
        "outputId": "a37f298c-160f-4dce-84eb-f68df7519bda"
      },
      "execution_count": null,
      "outputs": [
        {
          "output_type": "execute_result",
          "data": {
            "text/plain": [
              "2"
            ]
          },
          "metadata": {},
          "execution_count": 64
        }
      ]
    },
    {
      "cell_type": "code",
      "source": [
        "np.random.choice([2,3,5])  #selects one element from the given list"
      ],
      "metadata": {
        "colab": {
          "base_uri": "https://localhost:8080/"
        },
        "id": "CD4U2DcQJnur",
        "outputId": "d89c3a55-d369-49fa-d567-101d315fb934"
      },
      "execution_count": null,
      "outputs": [
        {
          "output_type": "execute_result",
          "data": {
            "text/plain": [
              "2"
            ]
          },
          "metadata": {},
          "execution_count": 65
        }
      ]
    },
    {
      "cell_type": "code",
      "source": [
        "np.random.choice((2,3,5),size=5) #selects 5 elements from the given tuple\n"
      ],
      "metadata": {
        "colab": {
          "base_uri": "https://localhost:8080/"
        },
        "id": "wdg2FunRJxDD",
        "outputId": "aedf8159-3812-4249-abe4-0d94e26ecf57"
      },
      "execution_count": null,
      "outputs": [
        {
          "output_type": "execute_result",
          "data": {
            "text/plain": [
              "array([5, 3, 2, 5, 3])"
            ]
          },
          "metadata": {},
          "execution_count": 66
        }
      ]
    },
    {
      "cell_type": "code",
      "source": [
        "np.random.choice(range(1,51),(2,3),False) #generates a (2*3) array of distinct elements from the given list."
      ],
      "metadata": {
        "colab": {
          "base_uri": "https://localhost:8080/"
        },
        "id": "XfzXEI2EJ6J3",
        "outputId": "f3bd2df3-1d91-4a9d-f54e-2cebb508cc4d"
      },
      "execution_count": null,
      "outputs": [
        {
          "output_type": "execute_result",
          "data": {
            "text/plain": [
              "array([[ 3, 33, 34],\n",
              "       [29, 45, 26]])"
            ]
          },
          "metadata": {},
          "execution_count": 69
        }
      ]
    },
    {
      "cell_type": "markdown",
      "source": [
        "**random.seed()**\n",
        "\n",
        "One function that is really important is seed function, it sets the seed of the pseudo random number generator.\n",
        "\n",
        "It helps regenerate the same sequence of random numbers (whenever needed).\n",
        "\n",
        "This is mostly done in experiments where you need to rerun the process with the same inputs."
      ],
      "metadata": {
        "id": "x9oyVRBVOO1R"
      }
    },
    {
      "cell_type": "code",
      "source": [
        "\n",
        "#not using seed\n",
        "print(np.random.uniform(0,1,(1,5)))\n",
        "\n",
        "print(np.random.uniform(0,1,(1,5)))"
      ],
      "metadata": {
        "colab": {
          "base_uri": "https://localhost:8080/"
        },
        "id": "vE4oBS8BJ8ZP",
        "outputId": "bc880a1c-4e5a-4771-8534-5eb57d48c754"
      },
      "execution_count": null,
      "outputs": [
        {
          "output_type": "stream",
          "name": "stdout",
          "text": [
            "[[0.61189447 0.53811635 0.45312922 0.41382131 0.37977175]]\n",
            "[[0.57490454 0.22837057 0.0271636  0.29505747 0.80791912]]\n"
          ]
        }
      ]
    },
    {
      "cell_type": "code",
      "source": [
        "#using seed\n",
        "np.random.seed(15)\n",
        "print(np.random.uniform(0,1,(1,5)))\n",
        "\n",
        "np.random.seed(15)\n",
        "print(np.random.uniform(0,1,(1,5)))"
      ],
      "metadata": {
        "colab": {
          "base_uri": "https://localhost:8080/"
        },
        "id": "EA0947DaOava",
        "outputId": "d0fd1651-2c83-47e2-c0f7-a5fd2fb52492"
      },
      "execution_count": null,
      "outputs": [
        {
          "output_type": "stream",
          "name": "stdout",
          "text": [
            "[[0.8488177  0.17889592 0.05436321 0.36153845 0.27540093]]\n",
            "[[0.8488177  0.17889592 0.05436321 0.36153845 0.27540093]]\n"
          ]
        }
      ]
    },
    {
      "cell_type": "markdown",
      "source": [
        "**Numpy Array Attributes**\n",
        "\n",
        " Numpy array have the following attributes:\n",
        "\n",
        "- ndim (the number of dimensions),\n",
        "- shape (the size of each dimension), and\n",
        "- size (the total size of the array).\n"
      ],
      "metadata": {
        "id": "vnMkd0xUOj7M"
      }
    },
    {
      "cell_type": "code",
      "source": [
        "print(x1)\n",
        "print(f\"x1 ndim: {x1.ndim}\")\n",
        "print(f\"x1 shape: {x1.shape}\")\n",
        "print(f\"x1 size: {x1.size}\") #totaly,6 elements"
      ],
      "metadata": {
        "colab": {
          "base_uri": "https://localhost:8080/"
        },
        "id": "CUBfQdZxOd5K",
        "outputId": "1081cc14-b4e7-4429-d7ad-8115fe5be7bf"
      },
      "execution_count": null,
      "outputs": [
        {
          "output_type": "stream",
          "name": "stdout",
          "text": [
            "[1 3 4 5 2]\n",
            "x1 ndim: 1\n",
            "x1 shape: (5,)\n",
            "x1 size: 5\n"
          ]
        }
      ]
    },
    {
      "cell_type": "code",
      "source": [
        "print(x2)\n",
        "print(f\"x2 ndim: {x2.ndim}\")\n",
        "print(f\"x2 shape: {x2.shape}\")\n",
        "print(f\"x2 size: {x2.size}\") #totaly,12 elements"
      ],
      "metadata": {
        "colab": {
          "base_uri": "https://localhost:8080/"
        },
        "id": "QPwGV9TNOwH4",
        "outputId": "b9702c6b-5c99-4871-deeb-8df7a3b6331a"
      },
      "execution_count": null,
      "outputs": [
        {
          "output_type": "stream",
          "name": "stdout",
          "text": [
            "[[1 3 4 5]\n",
            " [1 5 6 7]]\n",
            "x2 ndim: 2\n",
            "x2 shape: (2, 4)\n",
            "x2 size: 8\n"
          ]
        }
      ]
    },
    {
      "cell_type": "markdown",
      "source": [
        "**Indexing**\n",
        "\n",
        "Numpy array indexing for 1d array is same as Python's lists.\n",
        "\n",
        "However, Numpy nd-array indexing is slightly different from Python's nd-lists. For example:\n",
        "\n",
        "- 2d-list elements are accessed as:[index1][index2]\n",
        "- 2d-array elements are accessed as:[index1,index2]\n",
        "\n",
        "where index1 and index2 can be indices or slices. See the following examples:\n"
      ],
      "metadata": {
        "id": "fvOAB950PDtQ"
      }
    },
    {
      "cell_type": "code",
      "source": [
        "print(x1)\n",
        "print(x2)"
      ],
      "metadata": {
        "colab": {
          "base_uri": "https://localhost:8080/"
        },
        "id": "GbPgr57AOzBI",
        "outputId": "4843cb87-8792-4596-c693-61eb4affe662"
      },
      "execution_count": null,
      "outputs": [
        {
          "output_type": "stream",
          "name": "stdout",
          "text": [
            "[1 3 4 5 2]\n",
            "[[1 3 4 5]\n",
            " [1 5 6 7]]\n"
          ]
        }
      ]
    },
    {
      "cell_type": "code",
      "source": [
        "print(x1[0],x1[4],x1[-1],x1[-2])"
      ],
      "metadata": {
        "colab": {
          "base_uri": "https://localhost:8080/"
        },
        "id": "Z9kMcbXUPNH_",
        "outputId": "1e24d4ff-e9e8-4ad8-be97-f2084b214e93"
      },
      "execution_count": null,
      "outputs": [
        {
          "output_type": "stream",
          "name": "stdout",
          "text": [
            "1 2 2 5\n"
          ]
        }
      ]
    },
    {
      "cell_type": "code",
      "source": [
        "print(x2[1,1],x2[1,0],x2[1,-4],x2[-1,-3])"
      ],
      "metadata": {
        "colab": {
          "base_uri": "https://localhost:8080/"
        },
        "id": "THm9cdz7PPXp",
        "outputId": "97e32cce-5c62-4c9a-9936-8f7761cf3c7f"
      },
      "execution_count": null,
      "outputs": [
        {
          "output_type": "stream",
          "name": "stdout",
          "text": [
            "5 1 1 5\n"
          ]
        }
      ]
    },
    {
      "cell_type": "markdown",
      "source": [
        "**Sorting**\n",
        "\n",
        "Numpy also has built in sort functionality.\n",
        "\n",
        "A built-in sort function that sorts the array (ascending by default).\n",
        "\n",
        "It is immutable function, which means that the order of the original array is not changed.\n"
      ],
      "metadata": {
        "id": "BxXFzdIhPpbP"
      }
    },
    {
      "cell_type": "code",
      "source": [
        "x = np.array([2,1,4,3,5])\n",
        "np.sort(x)"
      ],
      "metadata": {
        "colab": {
          "base_uri": "https://localhost:8080/"
        },
        "id": "kwdJ30bFPXEb",
        "outputId": "a64c5a8b-b8a9-4387-d364-2eee24f0e820"
      },
      "execution_count": null,
      "outputs": [
        {
          "output_type": "execute_result",
          "data": {
            "text/plain": [
              "array([1, 2, 3, 4, 5])"
            ]
          },
          "metadata": {},
          "execution_count": 77
        }
      ]
    },
    {
      "cell_type": "code",
      "source": [
        "# Instead of returning the sorted list, argsort returns the lists of positions of the element in the sorted list.\n",
        "i = np.argsort(x)\n",
        "print(i)"
      ],
      "metadata": {
        "colab": {
          "base_uri": "https://localhost:8080/"
        },
        "id": "_aQwSOSpPwce",
        "outputId": "c60cde11-4b0c-472a-d73e-389758ecafdd"
      },
      "execution_count": null,
      "outputs": [
        {
          "output_type": "stream",
          "name": "stdout",
          "text": [
            "[1 0 3 2 4]\n"
          ]
        }
      ]
    },
    {
      "cell_type": "markdown",
      "source": [
        "**Copy of Array**\n",
        "\n",
        "Arrays are mutable too. Thus, the assignment \"=\" is by reference. We can use copy() to copy the entire numpy array. For example:\n"
      ],
      "metadata": {
        "id": "_Ftb_GWXQFcr"
      }
    },
    {
      "cell_type": "code",
      "source": [
        "np.random.seed(0) # seed for reproducibility\n",
        "x2 = np.random.randint(10, size=(2,4)) # Two-dimensional array\n",
        "print(f'x2 is:\\n{x2}')\n",
        "\n",
        "x2_copy = x2  # new reference not actual copy\n",
        "\n",
        "x2_copy[0,1:3]=[4,4]\n",
        "\n",
        "print(f'x2_copy is:\\n{x2_copy}')\n",
        "\n",
        "print(f'x2 is:\\n{x2}')\n"
      ],
      "metadata": {
        "colab": {
          "base_uri": "https://localhost:8080/"
        },
        "id": "IgA0ZzFiP0wQ",
        "outputId": "0ac1efac-4622-4da0-a436-c7d3581cc605"
      },
      "execution_count": null,
      "outputs": [
        {
          "output_type": "stream",
          "name": "stdout",
          "text": [
            "x2 is:\n",
            "[[5 0 3 3]\n",
            " [7 9 3 5]]\n",
            "x2_copy is:\n",
            "[[5 4 4 3]\n",
            " [7 9 3 5]]\n",
            "x2 is:\n",
            "[[5 4 4 3]\n",
            " [7 9 3 5]]\n"
          ]
        }
      ]
    },
    {
      "cell_type": "code",
      "source": [
        "np.random.seed(0) # seed for reproducibility\n",
        "x2 = np.random.randint(10, size=(2,4)) # Two-dimensional array\n",
        "print(f'x2 is:\\n{x2}')\n",
        "\n",
        "x2_copy = x2.copy()  # it will be true copy\n",
        "\n",
        "x2_copy[0,1:3]=[4,4]\n",
        "\n",
        "\n",
        "print(f'x2_copy is:\\n{x2_copy}')\n",
        "\n",
        "print(f'x2 is:\\n{x2}')"
      ],
      "metadata": {
        "colab": {
          "base_uri": "https://localhost:8080/"
        },
        "id": "kQ2oNe37QETk",
        "outputId": "9bcdef41-f631-4018-bbc7-4df52d421090"
      },
      "execution_count": null,
      "outputs": [
        {
          "output_type": "stream",
          "name": "stdout",
          "text": [
            "x2 is:\n",
            "[[5 0 3 3]\n",
            " [7 9 3 5]]\n",
            "x2_copy is:\n",
            "[[5 4 4 3]\n",
            " [7 9 3 5]]\n",
            "x2 is:\n",
            "[[5 0 3 3]\n",
            " [7 9 3 5]]\n"
          ]
        }
      ]
    },
    {
      "cell_type": "markdown",
      "source": [
        "**Reshaping**\n",
        "\n",
        "Numpy reshape() method changes the shape of an existing array without changing its data.\n",
        "\n",
        "Create a 1d random array of size 10.\n",
        "\n",
        "1. Create a 1d random array of size 10."
      ],
      "metadata": {
        "id": "Cfm_Wo0uQu-Q"
      }
    },
    {
      "cell_type": "code",
      "source": [
        "np.random.seed(0) # seed for reproducibility\n",
        "x1 = np.random.randint(10,size=10) # One-dimensional array\n",
        "print(x1)"
      ],
      "metadata": {
        "colab": {
          "base_uri": "https://localhost:8080/"
        },
        "id": "JMsLUd7IQU34",
        "outputId": "2ae58a66-1c2e-42dd-c96b-9d8db84977ef"
      },
      "execution_count": null,
      "outputs": [
        {
          "output_type": "stream",
          "name": "stdout",
          "text": [
            "[5 0 3 3 7 9 3 5 2 4]\n"
          ]
        }
      ]
    },
    {
      "cell_type": "code",
      "source": [
        "print(x1.reshape(2,5)) #Reshape the 1d array into size 2x5."
      ],
      "metadata": {
        "colab": {
          "base_uri": "https://localhost:8080/"
        },
        "id": "mtmaou9mQ1e4",
        "outputId": "588a5ec4-cb91-4592-e268-23043a37601b"
      },
      "execution_count": null,
      "outputs": [
        {
          "output_type": "stream",
          "name": "stdout",
          "text": [
            "[[5 0 3 3 7]\n",
            " [9 3 5 2 4]]\n"
          ]
        }
      ]
    },
    {
      "cell_type": "code",
      "source": [
        "# when you want numpy to estimate the other dimension\n",
        "print(x1.reshape(5,-1)) #here -1, is used as a wildcard"
      ],
      "metadata": {
        "colab": {
          "base_uri": "https://localhost:8080/"
        },
        "id": "GrgiE70VQ6uf",
        "outputId": "7da290e0-2308-490c-84cf-1ae977587bd4"
      },
      "execution_count": null,
      "outputs": [
        {
          "output_type": "stream",
          "name": "stdout",
          "text": [
            "[[5 0]\n",
            " [3 3]\n",
            " [7 9]\n",
            " [3 5]\n",
            " [2 4]]\n"
          ]
        }
      ]
    },
    {
      "cell_type": "code",
      "source": [
        "print(x1.reshape(-1,5))"
      ],
      "metadata": {
        "colab": {
          "base_uri": "https://localhost:8080/"
        },
        "id": "lI5LIr5mRA8R",
        "outputId": "930ccfc8-346a-406e-c899-b7252efa1150"
      },
      "execution_count": null,
      "outputs": [
        {
          "output_type": "stream",
          "name": "stdout",
          "text": [
            "[[5 0 3 3 7]\n",
            " [9 3 5 2 4]]\n"
          ]
        }
      ]
    },
    {
      "cell_type": "markdown",
      "source": [
        "**Concatenate/Split**\n",
        "\n",
        "\n",
        "Concatenate means joining, and Numpy's .concatenate() function is used to join two or more arrays of the same shape along a specified axis.\n",
        "\n",
        "Numpy's .vstack() (.hstack()) can be used for row wise (column wise) joining.\n",
        "\n",
        "Numpy's split/vsplit/hsplit methods are for breaking/splitting the array, as oppose to the concatenation.\n",
        "\n",
        "For example:\n"
      ],
      "metadata": {
        "id": "rHNXLq5JROc8"
      }
    },
    {
      "cell_type": "code",
      "source": [
        "x = np.array([1,2,3])\n",
        "y = np.array([3,2,1])\n",
        "z = np.array([9,9,9])\n",
        "print(x)\n",
        "print(y)\n",
        "print(z)\n",
        "\n",
        "print(np.concatenate((x,y,z)))"
      ],
      "metadata": {
        "colab": {
          "base_uri": "https://localhost:8080/"
        },
        "id": "m8gHy0eKRKje",
        "outputId": "36a537f9-8274-4b9b-e68a-172b00ce45d3"
      },
      "execution_count": null,
      "outputs": [
        {
          "output_type": "stream",
          "name": "stdout",
          "text": [
            "[1 2 3]\n",
            "[3 2 1]\n",
            "[9 9 9]\n",
            "[1 2 3 3 2 1 9 9 9]\n"
          ]
        }
      ]
    },
    {
      "cell_type": "code",
      "source": [
        "x = np.array([1,2,3])\n",
        "y = np.array([3,2,1])\n",
        "z = np.array([9,9,9])\n",
        "\n",
        "print(np.vstack((x,y,z)))  # to vertically stack all 1d arrays"
      ],
      "metadata": {
        "colab": {
          "base_uri": "https://localhost:8080/"
        },
        "id": "ED0gPSGKRegB",
        "outputId": "8868582d-69cf-4644-b795-54b3f7aa0b5f"
      },
      "execution_count": null,
      "outputs": [
        {
          "output_type": "stream",
          "name": "stdout",
          "text": [
            "[[1 2 3]\n",
            " [3 2 1]\n",
            " [9 9 9]]\n"
          ]
        }
      ]
    },
    {
      "cell_type": "code",
      "source": [
        "x = np.array([1,2,3])\n",
        "y = np.array([3,2,1])\n",
        "z = np.array([9,9,9])\n",
        "\n",
        "print(np.hstack((x,y,z)))  # to horizontally stack all 1d arrays(like concatenation)"
      ],
      "metadata": {
        "colab": {
          "base_uri": "https://localhost:8080/"
        },
        "id": "vnxFTMDqRhw5",
        "outputId": "3e90af13-a2d5-4614-93ff-0b0a44892e05"
      },
      "execution_count": null,
      "outputs": [
        {
          "output_type": "stream",
          "name": "stdout",
          "text": [
            "[1 2 3 3 2 1 9 9 9]\n"
          ]
        }
      ]
    },
    {
      "cell_type": "code",
      "source": [
        "x = np.array( [1,2,3])\n",
        "y = np.array([[9,8,7],\n",
        "              [6,5,4]]) #y is 2dimensional array\n",
        "\n",
        "print(np.vstack([x,y]))  # vertically stack the arrays, using square brackets\n",
        "\n",
        "print(np.vstack((x,y)))  # vertically stack the arrays, using round brackets"
      ],
      "metadata": {
        "colab": {
          "base_uri": "https://localhost:8080/"
        },
        "id": "gxDtwu8QRoum",
        "outputId": "5066fb3a-078f-487f-ca8a-08ac2a20f47a"
      },
      "execution_count": null,
      "outputs": [
        {
          "output_type": "stream",
          "name": "stdout",
          "text": [
            "[[1 2 3]\n",
            " [9 8 7]\n",
            " [6 5 4]]\n",
            "[[1 2 3]\n",
            " [9 8 7]\n",
            " [6 5 4]]\n"
          ]
        }
      ]
    },
    {
      "cell_type": "code",
      "source": [
        "y = np.array([[9,8,7],\n",
        "              [6,5,4]])\n",
        "\n",
        "z = np.array([[99],\n",
        "              [99]])\n",
        "\n",
        "np.hstack([z,y])  # horizontally stack the arrays, using either square brackets or round brackets work"
      ],
      "metadata": {
        "colab": {
          "base_uri": "https://localhost:8080/"
        },
        "id": "klX9ihdgRya-",
        "outputId": "0cca6a46-17b9-4500-cb53-490c95f774be"
      },
      "execution_count": null,
      "outputs": [
        {
          "output_type": "execute_result",
          "data": {
            "text/plain": [
              "array([[99,  9,  8,  7],\n",
              "       [99,  6,  5,  4]])"
            ]
          },
          "metadata": {},
          "execution_count": 93
        }
      ]
    },
    {
      "cell_type": "markdown",
      "source": [
        "**Vectorized Operations**\n",
        "\n",
        " Vectorized operations are perhaps the most crucial factor to the wide usage of Numpy library. Vectorized operations simply put are those operations that can be done on arrays without using loops.\n",
        "\n",
        "For example:\n",
        "\n",
        "Create a random id array, and add, subtract,multiply and divide all the elements with 5.\n"
      ],
      "metadata": {
        "id": "vdY6ML02SEpb"
      }
    },
    {
      "cell_type": "code",
      "source": [
        "np.random.seed(0) # seed for reproducibility\n",
        "x = np.random.randint(10,size=10) # One-dimensional array\n",
        "print(f\"x = {x}\")\n",
        "\n",
        "print(f\"x + 5 = {x + 5}\") # adding 5 to each element\n",
        "print(f\"x - 5 = {x - 5}\") # subtracting 5 to each element\n",
        "print(f\"x * 5 = {x * 5}\") # multiply each element by 5\n",
        "print(f\"x / 5 = {x / 5}\") # divide each element by 5\n",
        "print(f\"x // 5 = {x // 5}\") # floor division each element by 5\n",
        "print(f\"x ** 2 =  {x ** 2}\") #Take the square of all elements.\n",
        "print(f\"x % 2 =  {x % 2}\") #Find remainder w.r.t 2 for all elements.\n"
      ],
      "metadata": {
        "colab": {
          "base_uri": "https://localhost:8080/"
        },
        "id": "YOPFLIyPR9d7",
        "outputId": "21e1e492-9326-42a6-f028-2e792ec59e6a"
      },
      "execution_count": null,
      "outputs": [
        {
          "output_type": "stream",
          "name": "stdout",
          "text": [
            "x = [5 0 3 3 7 9 3 5 2 4]\n",
            "x + 5 = [10  5  8  8 12 14  8 10  7  9]\n",
            "x - 5 = [ 0 -5 -2 -2  2  4 -2  0 -3 -1]\n",
            "x * 5 = [25  0 15 15 35 45 15 25 10 20]\n",
            "x / 5 = [1.  0.  0.6 0.6 1.4 1.8 0.6 1.  0.4 0.8]\n",
            "x // 5 = [1 0 0 0 1 1 0 1 0 0]\n",
            "x ** 2 =  [25  0  9  9 49 81  9 25  4 16]\n",
            "x % 2 =  [1 0 1 1 1 1 1 1 0 0]\n"
          ]
        }
      ]
    },
    {
      "cell_type": "code",
      "source": [
        "# Transform the array as: $-(\\frac{x}{2}+1)^2$, where $x$ is the random 1d array.\n",
        "newArray=-(0.5*x+1) ** 2\n",
        "\n",
        "print(f\"Given array      : {x}\")\n",
        "print(f\"Transformed array: {newArray}\")"
      ],
      "metadata": {
        "colab": {
          "base_uri": "https://localhost:8080/"
        },
        "id": "06MzuT4WSO42",
        "outputId": "827b3a50-0ade-4fd7-e707-455265ed1937"
      },
      "execution_count": null,
      "outputs": [
        {
          "output_type": "stream",
          "name": "stdout",
          "text": [
            "Given array      : [5 0 3 3 7 9 3 5 2 4]\n",
            "Transformed array: [-12.25  -1.    -6.25  -6.25 -20.25 -30.25  -6.25 -12.25  -4.    -9.  ]\n"
          ]
        }
      ]
    },
    {
      "cell_type": "markdown",
      "source": [
        "**Ufuncs**\n",
        "\n",
        "A universal function (or ufunc for short) is a vectorized wrapper for a function that takes a fixed number of specific inputs and produces a fixed number of specific outputs.\n",
        "\n",
        "Functions like:\n",
        "\n",
        "- abs\n",
        "- sqrt\n",
        "- min\n",
        "- max\n",
        "- sum\n",
        "- mean\n",
        "- median\n",
        "\n",
        "For example:\n",
        "\n"
      ],
      "metadata": {
        "id": "A-VBDt3mS0oC"
      }
    },
    {
      "cell_type": "code",
      "source": [
        "x = np.array([-2,-1,0,5,6,8])\n",
        "\n",
        "print(x) # the original array\n",
        "print('-'*10)\n",
        "\n",
        "print(np.abs(x))  # convert all elements to +ve numbers\n",
        "print(np.sqrt(np.abs(x)))  # get square-roots of all abs(elements)\n",
        "print(np.min(x))  # get the min value\n",
        "print(np.max(x))  # get the max value\n",
        "print(np.sum(x))  # get the sum of all value\n",
        "\n",
        "print(x.mean())\n",
        "print(np.median(x))"
      ],
      "metadata": {
        "colab": {
          "base_uri": "https://localhost:8080/"
        },
        "id": "NmL15d08SxUW",
        "outputId": "94367c65-01ff-4c99-d6ad-5abaef5a9f99"
      },
      "execution_count": null,
      "outputs": [
        {
          "output_type": "stream",
          "name": "stdout",
          "text": [
            "[-2 -1  0  5  6  8]\n",
            "----------\n",
            "[2 1 0 5 6 8]\n",
            "[1.41421356 1.         0.         2.23606798 2.44948974 2.82842712]\n",
            "-2\n",
            "8\n",
            "16\n",
            "2.6666666666666665\n",
            "2.5\n"
          ]
        }
      ]
    },
    {
      "cell_type": "code",
      "source": [],
      "metadata": {
        "id": "jCa2mVrnTBO7"
      },
      "execution_count": null,
      "outputs": []
    }
  ]
}