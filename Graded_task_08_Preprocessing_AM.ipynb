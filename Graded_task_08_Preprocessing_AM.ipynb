{
  "nbformat": 4,
  "nbformat_minor": 0,
  "metadata": {
    "colab": {
      "provenance": []
    },
    "kernelspec": {
      "name": "python3",
      "display_name": "Python 3"
    },
    "language_info": {
      "name": "python"
    }
  },
  "cells": [
    {
      "cell_type": "markdown",
      "source": [
        "Build the following dataset.\n",
        "\n",
        "Apply all the preprocessing steps\n",
        "\n",
        "* Handle missing Price data by replacing Mean of Price\n",
        "* Handle missing  Quantity by replacing with 0\n",
        "* Handle missing aftnoon and forenoon by replacing Mode of afternoon and forenoon respectively\n",
        "* Handle missing bought by relacing the mean of exact same item.\n",
        "* Replace Categorical values into numeric values\n"
      ],
      "metadata": {
        "id": "WJerEHlrSXS-"
      }
    },
    {
      "cell_type": "code",
      "execution_count": null,
      "metadata": {
        "id": "6PigrUOYR5os"
      },
      "outputs": [],
      "source": []
    },
    {
      "cell_type": "markdown",
      "source": [
        "![Dataset2.png](data:image/png;base64,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)"
      ],
      "metadata": {
        "id": "pd8rl_urST_K"
      }
    },
    {
      "cell_type": "code",
      "source": [
        "#Solve Here"
      ],
      "metadata": {
        "id": "qggWXX78SWrM"
      },
      "execution_count": null,
      "outputs": []
    },
    {
      "cell_type": "code",
      "source": [
        "import pandas as pd\n",
        "from sklearn.impute import SimpleImputer\n",
        "\n",
        "data = {\n",
        "    'id': [1, 2, 3, 4, 5, 6, 7, 8, 9, 10],\n",
        "    'item': ['milk', 'sugar', 'chips', 'coffee', 'meat', 'chocos', 'juice', 'jam', 'bread', 'butter'],\n",
        "    'quantity': [2.0, 1.0, None, 2.0, 4.0, 3.0, 1.0, None, 3.0, 4.0],\n",
        "    'price': [67.0, None, 45.0, 45.0, 56.0, None, 78.0, 65.0, None, None],\n",
        "    'budget': [672.0, 453.0, 456.0, 672.0, 786.0, 345.0, 756.0, 665.0, None, None],\n",
        "    'forenoon': [456.0, 234.0, 322.0, 564.0, 221.0, None, None, None, None, None],\n",
        "    'afternoon': [None, None, None, None, None, 213.0, 344.0, 333.0, 567.0, 322.0]\n",
        "}\n"
      ],
      "metadata": {
        "id": "pOXN-pIAkGFK"
      },
      "execution_count": 17,
      "outputs": []
    },
    {
      "cell_type": "code",
      "source": [
        "df = pd.DataFrame(data)"
      ],
      "metadata": {
        "id": "-ti4vLQnkJni"
      },
      "execution_count": 18,
      "outputs": []
    },
    {
      "cell_type": "code",
      "source": [
        "df"
      ],
      "metadata": {
        "id": "6ISvPhcTkY5U",
        "outputId": "343bd1d6-c1c9-4aa1-a3fb-3a0625949142",
        "colab": {
          "base_uri": "https://localhost:8080/",
          "height": 363
        }
      },
      "execution_count": 19,
      "outputs": [
        {
          "output_type": "execute_result",
          "data": {
            "text/plain": [
              "   id    item  quantity  price  budget  forenoon  afternoon\n",
              "0   1    milk       2.0   67.0   672.0     456.0        NaN\n",
              "1   2   sugar       1.0    NaN   453.0     234.0        NaN\n",
              "2   3   chips       NaN   45.0   456.0     322.0        NaN\n",
              "3   4  coffee       2.0   45.0   672.0     564.0        NaN\n",
              "4   5    meat       4.0   56.0   786.0     221.0        NaN\n",
              "5   6  chocos       3.0    NaN   345.0       NaN      213.0\n",
              "6   7   juice       1.0   78.0   756.0       NaN      344.0\n",
              "7   8     jam       NaN   65.0   665.0       NaN      333.0\n",
              "8   9   bread       3.0    NaN     NaN       NaN      567.0\n",
              "9  10  butter       4.0    NaN     NaN       NaN      322.0"
            ],
            "text/html": [
              "\n",
              "  <div id=\"df-d728c5bb-a46f-4026-9cb5-696feeeea834\" class=\"colab-df-container\">\n",
              "    <div>\n",
              "<style scoped>\n",
              "    .dataframe tbody tr th:only-of-type {\n",
              "        vertical-align: middle;\n",
              "    }\n",
              "\n",
              "    .dataframe tbody tr th {\n",
              "        vertical-align: top;\n",
              "    }\n",
              "\n",
              "    .dataframe thead th {\n",
              "        text-align: right;\n",
              "    }\n",
              "</style>\n",
              "<table border=\"1\" class=\"dataframe\">\n",
              "  <thead>\n",
              "    <tr style=\"text-align: right;\">\n",
              "      <th></th>\n",
              "      <th>id</th>\n",
              "      <th>item</th>\n",
              "      <th>quantity</th>\n",
              "      <th>price</th>\n",
              "      <th>budget</th>\n",
              "      <th>forenoon</th>\n",
              "      <th>afternoon</th>\n",
              "    </tr>\n",
              "  </thead>\n",
              "  <tbody>\n",
              "    <tr>\n",
              "      <th>0</th>\n",
              "      <td>1</td>\n",
              "      <td>milk</td>\n",
              "      <td>2.0</td>\n",
              "      <td>67.0</td>\n",
              "      <td>672.0</td>\n",
              "      <td>456.0</td>\n",
              "      <td>NaN</td>\n",
              "    </tr>\n",
              "    <tr>\n",
              "      <th>1</th>\n",
              "      <td>2</td>\n",
              "      <td>sugar</td>\n",
              "      <td>1.0</td>\n",
              "      <td>NaN</td>\n",
              "      <td>453.0</td>\n",
              "      <td>234.0</td>\n",
              "      <td>NaN</td>\n",
              "    </tr>\n",
              "    <tr>\n",
              "      <th>2</th>\n",
              "      <td>3</td>\n",
              "      <td>chips</td>\n",
              "      <td>NaN</td>\n",
              "      <td>45.0</td>\n",
              "      <td>456.0</td>\n",
              "      <td>322.0</td>\n",
              "      <td>NaN</td>\n",
              "    </tr>\n",
              "    <tr>\n",
              "      <th>3</th>\n",
              "      <td>4</td>\n",
              "      <td>coffee</td>\n",
              "      <td>2.0</td>\n",
              "      <td>45.0</td>\n",
              "      <td>672.0</td>\n",
              "      <td>564.0</td>\n",
              "      <td>NaN</td>\n",
              "    </tr>\n",
              "    <tr>\n",
              "      <th>4</th>\n",
              "      <td>5</td>\n",
              "      <td>meat</td>\n",
              "      <td>4.0</td>\n",
              "      <td>56.0</td>\n",
              "      <td>786.0</td>\n",
              "      <td>221.0</td>\n",
              "      <td>NaN</td>\n",
              "    </tr>\n",
              "    <tr>\n",
              "      <th>5</th>\n",
              "      <td>6</td>\n",
              "      <td>chocos</td>\n",
              "      <td>3.0</td>\n",
              "      <td>NaN</td>\n",
              "      <td>345.0</td>\n",
              "      <td>NaN</td>\n",
              "      <td>213.0</td>\n",
              "    </tr>\n",
              "    <tr>\n",
              "      <th>6</th>\n",
              "      <td>7</td>\n",
              "      <td>juice</td>\n",
              "      <td>1.0</td>\n",
              "      <td>78.0</td>\n",
              "      <td>756.0</td>\n",
              "      <td>NaN</td>\n",
              "      <td>344.0</td>\n",
              "    </tr>\n",
              "    <tr>\n",
              "      <th>7</th>\n",
              "      <td>8</td>\n",
              "      <td>jam</td>\n",
              "      <td>NaN</td>\n",
              "      <td>65.0</td>\n",
              "      <td>665.0</td>\n",
              "      <td>NaN</td>\n",
              "      <td>333.0</td>\n",
              "    </tr>\n",
              "    <tr>\n",
              "      <th>8</th>\n",
              "      <td>9</td>\n",
              "      <td>bread</td>\n",
              "      <td>3.0</td>\n",
              "      <td>NaN</td>\n",
              "      <td>NaN</td>\n",
              "      <td>NaN</td>\n",
              "      <td>567.0</td>\n",
              "    </tr>\n",
              "    <tr>\n",
              "      <th>9</th>\n",
              "      <td>10</td>\n",
              "      <td>butter</td>\n",
              "      <td>4.0</td>\n",
              "      <td>NaN</td>\n",
              "      <td>NaN</td>\n",
              "      <td>NaN</td>\n",
              "      <td>322.0</td>\n",
              "    </tr>\n",
              "  </tbody>\n",
              "</table>\n",
              "</div>\n",
              "    <div class=\"colab-df-buttons\">\n",
              "\n",
              "  <div class=\"colab-df-container\">\n",
              "    <button class=\"colab-df-convert\" onclick=\"convertToInteractive('df-d728c5bb-a46f-4026-9cb5-696feeeea834')\"\n",
              "            title=\"Convert this dataframe to an interactive table.\"\n",
              "            style=\"display:none;\">\n",
              "\n",
              "  <svg xmlns=\"http://www.w3.org/2000/svg\" height=\"24px\" viewBox=\"0 -960 960 960\">\n",
              "    <path d=\"M120-120v-720h720v720H120Zm60-500h600v-160H180v160Zm220 220h160v-160H400v160Zm0 220h160v-160H400v160ZM180-400h160v-160H180v160Zm440 0h160v-160H620v160ZM180-180h160v-160H180v160Zm440 0h160v-160H620v160Z\"/>\n",
              "  </svg>\n",
              "    </button>\n",
              "\n",
              "  <style>\n",
              "    .colab-df-container {\n",
              "      display:flex;\n",
              "      gap: 12px;\n",
              "    }\n",
              "\n",
              "    .colab-df-convert {\n",
              "      background-color: #E8F0FE;\n",
              "      border: none;\n",
              "      border-radius: 50%;\n",
              "      cursor: pointer;\n",
              "      display: none;\n",
              "      fill: #1967D2;\n",
              "      height: 32px;\n",
              "      padding: 0 0 0 0;\n",
              "      width: 32px;\n",
              "    }\n",
              "\n",
              "    .colab-df-convert:hover {\n",
              "      background-color: #E2EBFA;\n",
              "      box-shadow: 0px 1px 2px rgba(60, 64, 67, 0.3), 0px 1px 3px 1px rgba(60, 64, 67, 0.15);\n",
              "      fill: #174EA6;\n",
              "    }\n",
              "\n",
              "    .colab-df-buttons div {\n",
              "      margin-bottom: 4px;\n",
              "    }\n",
              "\n",
              "    [theme=dark] .colab-df-convert {\n",
              "      background-color: #3B4455;\n",
              "      fill: #D2E3FC;\n",
              "    }\n",
              "\n",
              "    [theme=dark] .colab-df-convert:hover {\n",
              "      background-color: #434B5C;\n",
              "      box-shadow: 0px 1px 3px 1px rgba(0, 0, 0, 0.15);\n",
              "      filter: drop-shadow(0px 1px 2px rgba(0, 0, 0, 0.3));\n",
              "      fill: #FFFFFF;\n",
              "    }\n",
              "  </style>\n",
              "\n",
              "    <script>\n",
              "      const buttonEl =\n",
              "        document.querySelector('#df-d728c5bb-a46f-4026-9cb5-696feeeea834 button.colab-df-convert');\n",
              "      buttonEl.style.display =\n",
              "        google.colab.kernel.accessAllowed ? 'block' : 'none';\n",
              "\n",
              "      async function convertToInteractive(key) {\n",
              "        const element = document.querySelector('#df-d728c5bb-a46f-4026-9cb5-696feeeea834');\n",
              "        const dataTable =\n",
              "          await google.colab.kernel.invokeFunction('convertToInteractive',\n",
              "                                                    [key], {});\n",
              "        if (!dataTable) return;\n",
              "\n",
              "        const docLinkHtml = 'Like what you see? Visit the ' +\n",
              "          '<a target=\"_blank\" href=https://colab.research.google.com/notebooks/data_table.ipynb>data table notebook</a>'\n",
              "          + ' to learn more about interactive tables.';\n",
              "        element.innerHTML = '';\n",
              "        dataTable['output_type'] = 'display_data';\n",
              "        await google.colab.output.renderOutput(dataTable, element);\n",
              "        const docLink = document.createElement('div');\n",
              "        docLink.innerHTML = docLinkHtml;\n",
              "        element.appendChild(docLink);\n",
              "      }\n",
              "    </script>\n",
              "  </div>\n",
              "\n",
              "\n",
              "<div id=\"df-ffff3fbc-e030-45fa-958d-c7b69d5709ec\">\n",
              "  <button class=\"colab-df-quickchart\" onclick=\"quickchart('df-ffff3fbc-e030-45fa-958d-c7b69d5709ec')\"\n",
              "            title=\"Suggest charts\"\n",
              "            style=\"display:none;\">\n",
              "\n",
              "<svg xmlns=\"http://www.w3.org/2000/svg\" height=\"24px\"viewBox=\"0 0 24 24\"\n",
              "     width=\"24px\">\n",
              "    <g>\n",
              "        <path d=\"M19 3H5c-1.1 0-2 .9-2 2v14c0 1.1.9 2 2 2h14c1.1 0 2-.9 2-2V5c0-1.1-.9-2-2-2zM9 17H7v-7h2v7zm4 0h-2V7h2v10zm4 0h-2v-4h2v4z\"/>\n",
              "    </g>\n",
              "</svg>\n",
              "  </button>\n",
              "\n",
              "<style>\n",
              "  .colab-df-quickchart {\n",
              "      --bg-color: #E8F0FE;\n",
              "      --fill-color: #1967D2;\n",
              "      --hover-bg-color: #E2EBFA;\n",
              "      --hover-fill-color: #174EA6;\n",
              "      --disabled-fill-color: #AAA;\n",
              "      --disabled-bg-color: #DDD;\n",
              "  }\n",
              "\n",
              "  [theme=dark] .colab-df-quickchart {\n",
              "      --bg-color: #3B4455;\n",
              "      --fill-color: #D2E3FC;\n",
              "      --hover-bg-color: #434B5C;\n",
              "      --hover-fill-color: #FFFFFF;\n",
              "      --disabled-bg-color: #3B4455;\n",
              "      --disabled-fill-color: #666;\n",
              "  }\n",
              "\n",
              "  .colab-df-quickchart {\n",
              "    background-color: var(--bg-color);\n",
              "    border: none;\n",
              "    border-radius: 50%;\n",
              "    cursor: pointer;\n",
              "    display: none;\n",
              "    fill: var(--fill-color);\n",
              "    height: 32px;\n",
              "    padding: 0;\n",
              "    width: 32px;\n",
              "  }\n",
              "\n",
              "  .colab-df-quickchart:hover {\n",
              "    background-color: var(--hover-bg-color);\n",
              "    box-shadow: 0 1px 2px rgba(60, 64, 67, 0.3), 0 1px 3px 1px rgba(60, 64, 67, 0.15);\n",
              "    fill: var(--button-hover-fill-color);\n",
              "  }\n",
              "\n",
              "  .colab-df-quickchart-complete:disabled,\n",
              "  .colab-df-quickchart-complete:disabled:hover {\n",
              "    background-color: var(--disabled-bg-color);\n",
              "    fill: var(--disabled-fill-color);\n",
              "    box-shadow: none;\n",
              "  }\n",
              "\n",
              "  .colab-df-spinner {\n",
              "    border: 2px solid var(--fill-color);\n",
              "    border-color: transparent;\n",
              "    border-bottom-color: var(--fill-color);\n",
              "    animation:\n",
              "      spin 1s steps(1) infinite;\n",
              "  }\n",
              "\n",
              "  @keyframes spin {\n",
              "    0% {\n",
              "      border-color: transparent;\n",
              "      border-bottom-color: var(--fill-color);\n",
              "      border-left-color: var(--fill-color);\n",
              "    }\n",
              "    20% {\n",
              "      border-color: transparent;\n",
              "      border-left-color: var(--fill-color);\n",
              "      border-top-color: var(--fill-color);\n",
              "    }\n",
              "    30% {\n",
              "      border-color: transparent;\n",
              "      border-left-color: var(--fill-color);\n",
              "      border-top-color: var(--fill-color);\n",
              "      border-right-color: var(--fill-color);\n",
              "    }\n",
              "    40% {\n",
              "      border-color: transparent;\n",
              "      border-right-color: var(--fill-color);\n",
              "      border-top-color: var(--fill-color);\n",
              "    }\n",
              "    60% {\n",
              "      border-color: transparent;\n",
              "      border-right-color: var(--fill-color);\n",
              "    }\n",
              "    80% {\n",
              "      border-color: transparent;\n",
              "      border-right-color: var(--fill-color);\n",
              "      border-bottom-color: var(--fill-color);\n",
              "    }\n",
              "    90% {\n",
              "      border-color: transparent;\n",
              "      border-bottom-color: var(--fill-color);\n",
              "    }\n",
              "  }\n",
              "</style>\n",
              "\n",
              "  <script>\n",
              "    async function quickchart(key) {\n",
              "      const quickchartButtonEl =\n",
              "        document.querySelector('#' + key + ' button');\n",
              "      quickchartButtonEl.disabled = true;  // To prevent multiple clicks.\n",
              "      quickchartButtonEl.classList.add('colab-df-spinner');\n",
              "      try {\n",
              "        const charts = await google.colab.kernel.invokeFunction(\n",
              "            'suggestCharts', [key], {});\n",
              "      } catch (error) {\n",
              "        console.error('Error during call to suggestCharts:', error);\n",
              "      }\n",
              "      quickchartButtonEl.classList.remove('colab-df-spinner');\n",
              "      quickchartButtonEl.classList.add('colab-df-quickchart-complete');\n",
              "    }\n",
              "    (() => {\n",
              "      let quickchartButtonEl =\n",
              "        document.querySelector('#df-ffff3fbc-e030-45fa-958d-c7b69d5709ec button');\n",
              "      quickchartButtonEl.style.display =\n",
              "        google.colab.kernel.accessAllowed ? 'block' : 'none';\n",
              "    })();\n",
              "  </script>\n",
              "</div>\n",
              "    </div>\n",
              "  </div>\n"
            ],
            "application/vnd.google.colaboratory.intrinsic+json": {
              "type": "dataframe",
              "variable_name": "df",
              "summary": "{\n  \"name\": \"df\",\n  \"rows\": 10,\n  \"fields\": [\n    {\n      \"column\": \"id\",\n      \"properties\": {\n        \"dtype\": \"number\",\n        \"std\": 3,\n        \"min\": 1,\n        \"max\": 10,\n        \"num_unique_values\": 10,\n        \"samples\": [\n          9,\n          2,\n          6\n        ],\n        \"semantic_type\": \"\",\n        \"description\": \"\"\n      }\n    },\n    {\n      \"column\": \"item\",\n      \"properties\": {\n        \"dtype\": \"string\",\n        \"num_unique_values\": 10,\n        \"samples\": [\n          \"bread\",\n          \"sugar\",\n          \"chocos\"\n        ],\n        \"semantic_type\": \"\",\n        \"description\": \"\"\n      }\n    },\n    {\n      \"column\": \"quantity\",\n      \"properties\": {\n        \"dtype\": \"number\",\n        \"std\": 1.1952286093343936,\n        \"min\": 1.0,\n        \"max\": 4.0,\n        \"num_unique_values\": 4,\n        \"samples\": [\n          1.0,\n          3.0,\n          2.0\n        ],\n        \"semantic_type\": \"\",\n        \"description\": \"\"\n      }\n    },\n    {\n      \"column\": \"price\",\n      \"properties\": {\n        \"dtype\": \"number\",\n        \"std\": 13.125039682479693,\n        \"min\": 45.0,\n        \"max\": 78.0,\n        \"num_unique_values\": 5,\n        \"samples\": [\n          45.0,\n          65.0,\n          56.0\n        ],\n        \"semantic_type\": \"\",\n        \"description\": \"\"\n      }\n    },\n    {\n      \"column\": \"budget\",\n      \"properties\": {\n        \"dtype\": \"number\",\n        \"std\": 160.75352695530952,\n        \"min\": 345.0,\n        \"max\": 786.0,\n        \"num_unique_values\": 7,\n        \"samples\": [\n          672.0,\n          453.0,\n          756.0\n        ],\n        \"semantic_type\": \"\",\n        \"description\": \"\"\n      }\n    },\n    {\n      \"column\": \"forenoon\",\n      \"properties\": {\n        \"dtype\": \"number\",\n        \"std\": 147.87765213175385,\n        \"min\": 221.0,\n        \"max\": 564.0,\n        \"num_unique_values\": 5,\n        \"samples\": [\n          234.0,\n          221.0,\n          322.0\n        ],\n        \"semantic_type\": \"\",\n        \"description\": \"\"\n      }\n    },\n    {\n      \"column\": \"afternoon\",\n      \"properties\": {\n        \"dtype\": \"number\",\n        \"std\": 129.22731909313913,\n        \"min\": 213.0,\n        \"max\": 567.0,\n        \"num_unique_values\": 5,\n        \"samples\": [\n          344.0,\n          322.0,\n          333.0\n        ],\n        \"semantic_type\": \"\",\n        \"description\": \"\"\n      }\n    }\n  ]\n}"
            }
          },
          "metadata": {},
          "execution_count": 19
        }
      ]
    },
    {
      "cell_type": "code",
      "source": [
        "price_imputer = SimpleImputer(strategy='mean')\n",
        "df['price'] = price_imputer.fit_transform(df[['price']])"
      ],
      "metadata": {
        "id": "HYLumIXckZW0"
      },
      "execution_count": 20,
      "outputs": []
    },
    {
      "cell_type": "code",
      "source": [
        "df['quantity'].fillna(0, inplace=True)"
      ],
      "metadata": {
        "id": "ynp3d0VEkfbk"
      },
      "execution_count": 21,
      "outputs": []
    },
    {
      "cell_type": "code",
      "source": [
        "forenoon_mode = df['forenoon'].mode()[0]\n",
        "afternoon_mode = df['afternoon'].mode()[0]\n",
        "df['forenoon'].fillna(forenoon_mode, inplace=True)\n",
        "df['afternoon'].fillna(afternoon_mode, inplace=True)"
      ],
      "metadata": {
        "id": "E8Yxjm31khpz"
      },
      "execution_count": 22,
      "outputs": []
    },
    {
      "cell_type": "code",
      "source": [
        "df['budget'] = df.groupby('item')['budget'].transform(lambda x: x.fillna(x.mean()))"
      ],
      "metadata": {
        "id": "bHV9LGsJksoV"
      },
      "execution_count": 23,
      "outputs": []
    },
    {
      "cell_type": "code",
      "source": [
        "mode_bought = df['bought'].mode()[0]\n",
        "df['bought'].fillna(mode_bought, inplace=True)"
      ],
      "metadata": {
        "id": "XROoGEfRkuml"
      },
      "execution_count": 28,
      "outputs": []
    },
    {
      "cell_type": "code",
      "source": [
        "item_mapping = {item: i+1 for i, item in enumerate(df['item'].unique())}\n",
        "df['item'] = df['item'].map(item_mapping)"
      ],
      "metadata": {
        "id": "CdZ1BLdzkwOU"
      },
      "execution_count": 29,
      "outputs": []
    },
    {
      "cell_type": "code",
      "source": [
        "print(df)"
      ],
      "metadata": {
        "id": "YhjDHkWSkwyl",
        "outputId": "8d6431b1-b438-497b-c9ea-ffae3b680bcc",
        "colab": {
          "base_uri": "https://localhost:8080/"
        }
      },
      "execution_count": 30,
      "outputs": [
        {
          "output_type": "stream",
          "name": "stdout",
          "text": [
            "   id  item  quantity      price  bought  forenoon  afternoon\n",
            "0   1     1       2.0  67.000000   672.0       456        213\n",
            "1   2     2       1.0  59.333333   453.0       234        213\n",
            "2   3     3       0.0  45.000000   456.0       322        213\n",
            "3   4     4       2.0  45.000000   672.0       564        213\n",
            "4   5     5       4.0  56.000000   786.0       221        213\n",
            "5   6     6       3.0  59.333333   345.0       221        213\n",
            "6   7     7       1.0  78.000000   765.0       221        344\n",
            "7   8     8       0.0  65.000000   665.0       221        333\n",
            "8   9     9       3.0  59.333333   672.0       221        567\n",
            "9  10    10       4.0  59.333333   672.0       221        322\n"
          ]
        }
      ]
    },
    {
      "cell_type": "code",
      "source": [],
      "metadata": {
        "id": "ZC7PayqKnfgS",
        "outputId": "173dec18-4bca-4b98-ac8a-e8a15f9c8461",
        "colab": {
          "base_uri": "https://localhost:8080/"
        }
      },
      "execution_count": 27,
      "outputs": [
        {
          "output_type": "stream",
          "name": "stdout",
          "text": [
            "   id    item  quantity      price  bought  forenoon  afternoon\n",
            "0   1    milk       2.0  67.000000   672.0       456        213\n",
            "1   2   sugar       1.0  59.333333   453.0       234        213\n",
            "2   3   chips       0.0  45.000000   456.0       322        213\n",
            "3   4  coffee       2.0  45.000000   672.0       564        213\n",
            "4   5    meat       4.0  56.000000   786.0       221        213\n",
            "5   6  chocos       3.0  59.333333   345.0       221        213\n",
            "6   7   juice       1.0  78.000000   765.0       221        344\n",
            "7   8     jam       0.0  65.000000   665.0       221        333\n",
            "8   9   bread       3.0  59.333333   672.0       221        567\n",
            "9  10  butter       4.0  59.333333   672.0       221        322\n"
          ]
        }
      ]
    },
    {
      "cell_type": "code",
      "source": [],
      "metadata": {
        "id": "yxfFXJ7Qr6D6"
      },
      "execution_count": null,
      "outputs": []
    }
  ]
}